{
 "cells": [
  {
   "cell_type": "code",
   "execution_count": null,
   "id": "260b720a-a7df-4f42-b070-c402da14c69c",
   "metadata": {},
   "outputs": [],
   "source": [
    "Q1. Explain the concept of batch normalization in the context of Artificial Neural Networks."
   ]
  },
  {
   "cell_type": "code",
   "execution_count": null,
   "id": "efd2322c-71be-4928-a87c-20a42d79a89f",
   "metadata": {},
   "outputs": [],
   "source": [
    "A1. Batch Normalization is a technique used in training artificial neural networks to improve the \n",
    "stability and performance of the network. It is particularly useful when dealing with deep neural \n",
    "networks, where the internal covariate shift problem can arise.\n",
    "\n",
    "The internal covariate shift problem refers to the changes in the distribution of the inputs to each \n",
    "layer of the neural network as the parameters of the previous layers change during training. This can \n",
    "lead to slower convergence and the need for careful initialization and lower learning rates.\n",
    "\n",
    "Batch Normalization addresses this issue by normalizing the inputs to each layer, using the statistics \n",
    "(mean and variance) of the current mini-batch of data. The process of batch normalization is as follows:\n",
    "\n",
    "For each training mini-batch:\n",
    "Calculate the mean (μ) and variance (σ^2) of the activations in the current mini-batch for each feature \n",
    "(or channel, in the case of convolutional layers).\n",
    "Normalize the activations by subtracting the mean and dividing by the standard deviation (√σ^2 + ε), \n",
    "where ε is a small constant to avoid division by zero.\n",
    "Scale and shift the normalized activations using learned parameters γ and β, respectively.\n",
    "\n",
    "Mathematically, the batch normalization transformation is defined as:\n",
    "\n",
    "z = (x - μ) / √(σ^2 + ε)\n",
    "y = γ * z + β\n",
    "\n",
    "The parameters γ and β are learned during the training process, allowing the network to undo the \n",
    "normalization if necessary.\n",
    "\n",
    "The key benefits of using batch normalization in neural networks include:\n",
    "\n",
    "Faster convergence: By reducing the internal covariate shift, batch normalization allows for the use of \n",
    "higher learning rates, leading to faster convergence during training.\n",
    "\n",
    "Improved generalization: Batch normalization can act as a regularizer, reducing the sensitivity of the \n",
    "network to the scale of the inputs, and leading to better generalization performance.\n",
    "    \n",
    "Stability and robustness: Batch normalization can make the network more robust to the initial values of \n",
    "the parameters and the scale of the inputs, improving the overall stability of the training process.\n",
    "    \n",
    "Reduced overfitting: By introducing some noise into the activations through the normalization process, \n",
    "batch normalization can help reduce overfitting."
   ]
  },
  {
   "cell_type": "code",
   "execution_count": null,
   "id": "d6b4b82d-4385-4fd0-8ebc-dff3a9fe1946",
   "metadata": {},
   "outputs": [],
   "source": [
    "Q2. Describe the benefits of using batch normalization during training."
   ]
  },
  {
   "cell_type": "code",
   "execution_count": null,
   "id": "37b8beb4-8f7b-40ab-8597-a090cf421ebd",
   "metadata": {},
   "outputs": [],
   "source": [
    "A2. Faster Convergence:\n",
    "Batch normalization helps reduce the internal covariate shift problem, where the distribution of inputs \n",
    "to each layer changes during training as the parameters of the previous layers are updated.\n",
    "By normalizing the inputs to each layer, batch normalization allows the use of higher learning rates, \n",
    "leading to faster convergence of the training process.\n",
    "    \n",
    "Improved Generalization:\n",
    "The normalization and regularization effects of batch normalization can help improve the generalization \n",
    "performance of the trained model.\n",
    "Batch normalization acts as a form of regularization, making the network less sensitive to the scale of \n",
    "the inputs and the initial values of the parameters.\n",
    "    \n",
    "Enhanced Stability:\n",
    "Batch normalization can improve the stability of the training process, making it more robust to the \n",
    "choice of initialization and the scale of the inputs.\n",
    "This stability can be particularly beneficial when training very deep neural network architectures, \n",
    "where the internal covariate shift problem is more pronounced.\n",
    "    \n",
    "Reduced Overfitting:\n",
    "The normalization and regularization effects of batch normalization can help reduce overfitting, as the \n",
    "introduced noise in the activations can prevent the network from memorizing the training data."
   ]
  },
  {
   "cell_type": "code",
   "execution_count": null,
   "id": "0e472e55-da86-4c5f-ac9e-61339d918860",
   "metadata": {},
   "outputs": [],
   "source": [
    "Q3. Discuss the working principle of batch normalization, including the normalization step and the learnable\n",
    "parameters."
   ]
  },
  {
   "cell_type": "code",
   "execution_count": null,
   "id": "8507e8cd-5384-4550-817d-ce664ad4a3ca",
   "metadata": {},
   "outputs": [],
   "source": [
    "A3. Normalization: The normalization step helps to reduce the internal covariate shift problem by \n",
    "ensuring that the inputs to each layer have a consistent distribution, regardless of the changes in the \n",
    "parameters of the previous layers.\n",
    "\n",
    "Learnable Parameters: The learnable parameters γ and β allow the network to adaptively scale and shift \n",
    "the normalized activations, which gives the network the flexibility to undo the normalization if needed, \n",
    "based on the specific requirements of the task and the network architecture.\n",
    "    \n",
    "Improved Stability and Convergence: By stabilizing the distribution of the inputs to each layer, batch \n",
    "normalization enables the use of higher learning rates, leading to faster convergence and improved \n",
    "training stability, especially in deep neural networks.\n",
    "    \n",
    "Regularization: The normalization and the introduction of noise (through the mini-batch statistics) can \n",
    "also act as a form of regularization, helping to improve the generalization performance of the trained \n",
    "model."
   ]
  },
  {
   "cell_type": "code",
   "execution_count": 2,
   "id": "e467f759-373d-4308-b2ab-1f62c3c38cda",
   "metadata": {},
   "outputs": [],
   "source": [
    "#Importing the required packages\n",
    "\n",
    "from tensorflow.keras.datasets import mnist\n",
    "import matplotlib.pyplot as plt\n",
    "import numpy as np\n",
    "import seaborn as sns\n",
    "from tensorflow.keras.models import Sequential as seq\n",
    "from tensorflow.keras.layers import Flatten as flat,Dense as dense\n",
    "from tensorflow.keras.layers import BatchNormalization as bn"
   ]
  },
  {
   "cell_type": "code",
   "execution_count": 19,
   "id": "004edc6e-2d94-4132-8039-499454f8a7a9",
   "metadata": {},
   "outputs": [],
   "source": [
    "#Loading the train and test data\n",
    "(Xtr,ytr),(Xte,yte)=mnist.load_data()"
   ]
  },
  {
   "cell_type": "code",
   "execution_count": 22,
   "id": "b5d51189-e3aa-4e49-92ca-06a4356843d2",
   "metadata": {},
   "outputs": [
    {
     "data": {
      "text/plain": [
       "((60000, 28, 28), (60000,), (10000, 28, 28), (10000,))"
      ]
     },
     "execution_count": 22,
     "metadata": {},
     "output_type": "execute_result"
    }
   ],
   "source": [
    "#Checking the shape of the train and test datasets\n",
    "Xtr.shape,ytr.shape,Xte.shape,yte.shape"
   ]
  },
  {
   "cell_type": "code",
   "execution_count": 21,
   "id": "98f806df-2cb9-48ed-b6ca-249215df0888",
   "metadata": {},
   "outputs": [
    {
     "data": {
      "image/png": "[encoded data removed]",
      "text/plain": [
       "<Figure size 640x480 with 1 Axes>"
      ]
     },
     "metadata": {},
     "output_type": "display_data"
    }
   ],
   "source": [
    "#Checking the image\n",
    "plt.imshow(Xtr[0],cmap='binary')\n",
    "plt.show()"
   ]
  },
  {
   "cell_type": "code",
   "execution_count": 13,
   "id": "a837443a-2a93-4a69-a795-5b86db1ae771",
   "metadata": {},
   "outputs": [
    {
     "data": {
      "text/plain": [
       "<Axes: >"
      ]
     },
     "execution_count": 13,
     "metadata": {},
     "output_type": "execute_result"
    },
    {
     "data": {
      "image/png": "[encoded data removed]",
      "text/plain": [
       "<Figure size 640x480 with 2 Axes>"
      ]
     },
     "metadata": {},
     "output_type": "display_data"
    }
   ],
   "source": [
    "#plotting a heatmap\n",
    "sns.heatmap(Xtr[0],annot=True,cmap='binary')"
   ]
  },
  {
   "cell_type": "code",
   "execution_count": 23,
   "id": "d85771d2-fb42-41a7-baac-d46716d05f87",
   "metadata": {},
   "outputs": [],
   "source": [
    "#Scaling the train and test data\n",
    "#Splitting into validation data\n",
    "Xtr=Xtr/255\n",
    "Xte=Xte/255\n",
    "Xtr,Xval=Xtr[5000:],Xtr[:5000]\n",
    "ytr,yval=ytr[5000:],ytr[:5000]"
   ]
  },
  {
   "cell_type": "code",
   "execution_count": 16,
   "id": "194dbb73-21a8-40cc-9647-cd2bbbd9709e",
   "metadata": {},
   "outputs": [
    {
     "data": {
      "text/plain": [
       "(28, 28)"
      ]
     },
     "execution_count": 16,
     "metadata": {},
     "output_type": "execute_result"
    }
   ],
   "source": [
    "#Checking the input shape of ia+mage\n",
    "Xtr[0].shape"
   ]
  },
  {
   "cell_type": "code",
   "execution_count": 25,
   "id": "fbb2f8a3-8931-4c2f-934a-fa6f0d082977",
   "metadata": {},
   "outputs": [],
   "source": [
    "#Creating the first model without batch normalisation\n",
    "model1=seq()\n",
    "model1.add(flat(input_shape=[28,28]))\n",
    "model1.add(dense(300,activation='relu'))\n",
    "model1.add(dense(100,activation='relu'))\n",
    "model1.add(dense(10,activation='softmax'))"
   ]
  },
  {
   "cell_type": "code",
   "execution_count": 26,
   "id": "c2e95b1a-eabb-4741-a582-6dc0397a8905",
   "metadata": {},
   "outputs": [
    {
     "name": "stdout",
     "output_type": "stream",
     "text": [
      "Model: \"sequential_10\"\n",
      "_________________________________________________________________\n",
      " Layer (type)                Output Shape              Param #   \n",
      "=================================================================\n",
      " flatten_10 (Flatten)        (None, 784)               0         \n",
      "                                                                 \n",
      " dense_30 (Dense)            (None, 300)               235500    \n",
      "                                                                 \n",
      " dense_31 (Dense)            (None, 100)               30100     \n",
      "                                                                 \n",
      " dense_32 (Dense)            (None, 10)                1010      \n",
      "                                                                 \n",
      "=================================================================\n",
      "Total params: 266,610\n",
      "Trainable params: 266,610\n",
      "Non-trainable params: 0\n",
      "_________________________________________________________________\n"
     ]
    }
   ],
   "source": [
    "#checking the model summary\n",
    "model1.summary()"
   ]
  },
  {
   "cell_type": "code",
   "execution_count": 27,
   "id": "ada59db3-d1af-4dc3-aa35-ecc3da4277a7",
   "metadata": {},
   "outputs": [],
   "source": [
    "#compiling the model\n",
    "model1.compile(loss='sparse_categorical_crossentropy',optimizer='SGD',metrics=['accuracy'])"
   ]
  },
  {
   "cell_type": "code",
   "execution_count": 28,
   "id": "5a37771c-b4da-4608-b041-5193db5561a4",
   "metadata": {},
   "outputs": [
    {
     "name": "stdout",
     "output_type": "stream",
     "text": [
      "Epoch 1/25\n",
      "1719/1719 [==============================] - 5s 3ms/step - loss: 0.6084 - accuracy: 0.8418 - val_loss: 0.3114 - val_accuracy: 0.9148\n",
      "Epoch 2/25\n",
      "1719/1719 [==============================] - 5s 3ms/step - loss: 0.2894 - accuracy: 0.9185 - val_loss: 0.2452 - val_accuracy: 0.9324\n",
      "Epoch 3/25\n",
      "1719/1719 [==============================] - 5s 3ms/step - loss: 0.2369 - accuracy: 0.9319 - val_loss: 0.2049 - val_accuracy: 0.9436\n",
      "Epoch 4/25\n",
      "1719/1719 [==============================] - 5s 3ms/step - loss: 0.2018 - accuracy: 0.9430 - val_loss: 0.1821 - val_accuracy: 0.9496\n",
      "Epoch 5/25\n",
      "1719/1719 [==============================] - 5s 3ms/step - loss: 0.1754 - accuracy: 0.9498 - val_loss: 0.1593 - val_accuracy: 0.9552\n",
      "Epoch 6/25\n",
      "1719/1719 [==============================] - 5s 3ms/step - loss: 0.1549 - accuracy: 0.9552 - val_loss: 0.1456 - val_accuracy: 0.9586\n",
      "Epoch 7/25\n",
      "1719/1719 [==============================] - 5s 3ms/step - loss: 0.1383 - accuracy: 0.9607 - val_loss: 0.1339 - val_accuracy: 0.9630\n",
      "Epoch 8/25\n",
      "1719/1719 [==============================] - 5s 3ms/step - loss: 0.1249 - accuracy: 0.9643 - val_loss: 0.1255 - val_accuracy: 0.9644\n",
      "Epoch 9/25\n",
      "1719/1719 [==============================] - 5s 3ms/step - loss: 0.1138 - accuracy: 0.9675 - val_loss: 0.1171 - val_accuracy: 0.9668\n",
      "Epoch 10/25\n",
      "1719/1719 [==============================] - 5s 3ms/step - loss: 0.1039 - accuracy: 0.9707 - val_loss: 0.1100 - val_accuracy: 0.9698\n",
      "Epoch 11/25\n",
      "1719/1719 [==============================] - 5s 3ms/step - loss: 0.0956 - accuracy: 0.9726 - val_loss: 0.1066 - val_accuracy: 0.9704\n",
      "Epoch 12/25\n",
      "1719/1719 [==============================] - 6s 3ms/step - loss: 0.0882 - accuracy: 0.9751 - val_loss: 0.0995 - val_accuracy: 0.9714\n",
      "Epoch 13/25\n",
      "1719/1719 [==============================] - 6s 3ms/step - loss: 0.0818 - accuracy: 0.9765 - val_loss: 0.0948 - val_accuracy: 0.9728\n",
      "Epoch 14/25\n",
      "1719/1719 [==============================] - 6s 3ms/step - loss: 0.0762 - accuracy: 0.9787 - val_loss: 0.0933 - val_accuracy: 0.9740\n",
      "Epoch 15/25\n",
      "1719/1719 [==============================] - 6s 3ms/step - loss: 0.0708 - accuracy: 0.9804 - val_loss: 0.0893 - val_accuracy: 0.9738\n",
      "Epoch 16/25\n",
      "1719/1719 [==============================] - 6s 3ms/step - loss: 0.0660 - accuracy: 0.9817 - val_loss: 0.0853 - val_accuracy: 0.9762\n",
      "Epoch 17/25\n",
      "1719/1719 [==============================] - 6s 3ms/step - loss: 0.0617 - accuracy: 0.9829 - val_loss: 0.0823 - val_accuracy: 0.9768\n",
      "Epoch 18/25\n",
      "1719/1719 [==============================] - 6s 3ms/step - loss: 0.0577 - accuracy: 0.9839 - val_loss: 0.0835 - val_accuracy: 0.9764\n",
      "Epoch 19/25\n",
      "1719/1719 [==============================] - 6s 3ms/step - loss: 0.0539 - accuracy: 0.9855 - val_loss: 0.0814 - val_accuracy: 0.9764\n",
      "Epoch 20/25\n",
      "1719/1719 [==============================] - 6s 3ms/step - loss: 0.0507 - accuracy: 0.9864 - val_loss: 0.0767 - val_accuracy: 0.9776\n",
      "Epoch 21/25\n",
      "1719/1719 [==============================] - 6s 3ms/step - loss: 0.0476 - accuracy: 0.9875 - val_loss: 0.0747 - val_accuracy: 0.9784\n",
      "Epoch 22/25\n",
      "1719/1719 [==============================] - 6s 3ms/step - loss: 0.0445 - accuracy: 0.9883 - val_loss: 0.0752 - val_accuracy: 0.9772\n",
      "Epoch 23/25\n",
      "1719/1719 [==============================] - 6s 3ms/step - loss: 0.0420 - accuracy: 0.9893 - val_loss: 0.0755 - val_accuracy: 0.9784\n",
      "Epoch 24/25\n",
      "1719/1719 [==============================] - 6s 3ms/step - loss: 0.0395 - accuracy: 0.9904 - val_loss: 0.0730 - val_accuracy: 0.9786\n",
      "Epoch 25/25\n",
      "1719/1719 [==============================] - 6s 3ms/step - loss: 0.0374 - accuracy: 0.9902 - val_loss: 0.0718 - val_accuracy: 0.9792\n"
     ]
    },
    {
     "data": {
      "text/plain": [
       "<keras.callbacks.History at 0x25bab615c10>"
      ]
     },
     "execution_count": 28,
     "metadata": {},
     "output_type": "execute_result"
    }
   ],
   "source": [
    "#Training the model\n",
    "model1.fit(Xtr,ytr,epochs=25,validation_data=(Xval,yval),batch_size=32)"
   ]
  },
  {
   "cell_type": "markdown",
   "id": "aba27977-785f-497c-8e5c-b60b32c7d04c",
   "metadata": {},
   "source": [
    "# Max accuracy without batch noramlisation is 99.02%"
   ]
  },
  {
   "cell_type": "code",
   "execution_count": 29,
   "id": "c857b76a-9b24-44ed-893e-8eb164f54f83",
   "metadata": {},
   "outputs": [],
   "source": [
    "#Creating the second model with batch normalisation\n",
    "model2=seq()"
   ]
  },
  {
   "cell_type": "code",
   "execution_count": 30,
   "id": "0ad1c50a-764f-40cb-816b-1b67b072e0ee",
   "metadata": {},
   "outputs": [],
   "source": [
    "model2.add(flat(input_shape=[28,28]))\n",
    "model2.add(bn())\n",
    "model2.add(dense(300,activation='relu'))\n",
    "model2.add(bn())\n",
    "model2.add(dense(100,activation='relu'))\n",
    "model2.add(bn())\n",
    "model2.add(dense(10,activation='softmax'))"
   ]
  },
  {
   "cell_type": "code",
   "execution_count": 31,
   "id": "0b9a089e-9160-4bfe-8242-5583a5a67404",
   "metadata": {},
   "outputs": [
    {
     "name": "stdout",
     "output_type": "stream",
     "text": [
      "Model: \"sequential_11\"\n",
      "_________________________________________________________________\n",
      " Layer (type)                Output Shape              Param #   \n",
      "=================================================================\n",
      " flatten_11 (Flatten)        (None, 784)               0         \n",
      "                                                                 \n",
      " batch_normalization_15 (Bat  (None, 784)              3136      \n",
      " chNormalization)                                                \n",
      "                                                                 \n",
      " dense_33 (Dense)            (None, 300)               235500    \n",
      "                                                                 \n",
      " batch_normalization_16 (Bat  (None, 300)              1200      \n",
      " chNormalization)                                                \n",
      "                                                                 \n",
      " dense_34 (Dense)            (None, 100)               30100     \n",
      "                                                                 \n",
      " batch_normalization_17 (Bat  (None, 100)              400       \n",
      " chNormalization)                                                \n",
      "                                                                 \n",
      " dense_35 (Dense)            (None, 10)                1010      \n",
      "                                                                 \n",
      "=================================================================\n",
      "Total params: 271,346\n",
      "Trainable params: 268,978\n",
      "Non-trainable params: 2,368\n",
      "_________________________________________________________________\n"
     ]
    }
   ],
   "source": [
    "model2.summary()"
   ]
  },
  {
   "cell_type": "code",
   "execution_count": 32,
   "id": "e1da2247-f9fb-48ee-8b0d-c6b9324045d1",
   "metadata": {},
   "outputs": [],
   "source": [
    "model2.compile(loss='sparse_categorical_crossentropy',optimizer='SGD',metrics=['accuracy'])"
   ]
  },
  {
   "cell_type": "code",
   "execution_count": 33,
   "id": "d458cb02-fc1c-4fec-98f0-8b73624643ed",
   "metadata": {},
   "outputs": [
    {
     "name": "stdout",
     "output_type": "stream",
     "text": [
      "Epoch 1/25\n",
      "1719/1719 [==============================] - 7s 4ms/step - loss: 0.3551 - accuracy: 0.8930 - val_loss: 0.1890 - val_accuracy: 0.9448\n",
      "Epoch 2/25\n",
      "1719/1719 [==============================] - 6s 4ms/step - loss: 0.1813 - accuracy: 0.9457 - val_loss: 0.1425 - val_accuracy: 0.9576\n",
      "Epoch 3/25\n",
      "1719/1719 [==============================] - 6s 4ms/step - loss: 0.1379 - accuracy: 0.9598 - val_loss: 0.1265 - val_accuracy: 0.9620\n",
      "Epoch 4/25\n",
      "1719/1719 [==============================] - 6s 4ms/step - loss: 0.1111 - accuracy: 0.9671 - val_loss: 0.1205 - val_accuracy: 0.9626\n",
      "Epoch 5/25\n",
      "1719/1719 [==============================] - 6s 4ms/step - loss: 0.0939 - accuracy: 0.9721 - val_loss: 0.1119 - val_accuracy: 0.9660\n",
      "Epoch 6/25\n",
      "1719/1719 [==============================] - 6s 4ms/step - loss: 0.0803 - accuracy: 0.9758 - val_loss: 0.1101 - val_accuracy: 0.9662\n",
      "Epoch 7/25\n",
      "1719/1719 [==============================] - 6s 4ms/step - loss: 0.0708 - accuracy: 0.9790 - val_loss: 0.1093 - val_accuracy: 0.9698\n",
      "Epoch 8/25\n",
      "1719/1719 [==============================] - 6s 4ms/step - loss: 0.0625 - accuracy: 0.9807 - val_loss: 0.1068 - val_accuracy: 0.9692\n",
      "Epoch 9/25\n",
      "1719/1719 [==============================] - 6s 4ms/step - loss: 0.0552 - accuracy: 0.9839 - val_loss: 0.1065 - val_accuracy: 0.9712\n",
      "Epoch 10/25\n",
      "1719/1719 [==============================] - 6s 4ms/step - loss: 0.0498 - accuracy: 0.9849 - val_loss: 0.1050 - val_accuracy: 0.9716\n",
      "Epoch 11/25\n",
      "1719/1719 [==============================] - 7s 4ms/step - loss: 0.0442 - accuracy: 0.9870 - val_loss: 0.1037 - val_accuracy: 0.9686\n",
      "Epoch 12/25\n",
      "1719/1719 [==============================] - 7s 4ms/step - loss: 0.0407 - accuracy: 0.9880 - val_loss: 0.1016 - val_accuracy: 0.9716\n",
      "Epoch 13/25\n",
      "1719/1719 [==============================] - 7s 4ms/step - loss: 0.0361 - accuracy: 0.9897 - val_loss: 0.1026 - val_accuracy: 0.9720\n",
      "Epoch 14/25\n",
      "1719/1719 [==============================] - 7s 4ms/step - loss: 0.0336 - accuracy: 0.9905 - val_loss: 0.1028 - val_accuracy: 0.9720\n",
      "Epoch 15/25\n",
      "1719/1719 [==============================] - 7s 4ms/step - loss: 0.0314 - accuracy: 0.9911 - val_loss: 0.1031 - val_accuracy: 0.9728\n",
      "Epoch 16/25\n",
      "1719/1719 [==============================] - 7s 4ms/step - loss: 0.0291 - accuracy: 0.9915 - val_loss: 0.1029 - val_accuracy: 0.9738\n",
      "Epoch 17/25\n",
      "1719/1719 [==============================] - 7s 4ms/step - loss: 0.0273 - accuracy: 0.9924 - val_loss: 0.1049 - val_accuracy: 0.9728\n",
      "Epoch 18/25\n",
      "1719/1719 [==============================] - 7s 4ms/step - loss: 0.0240 - accuracy: 0.9937 - val_loss: 0.0995 - val_accuracy: 0.9744\n",
      "Epoch 19/25\n",
      "1719/1719 [==============================] - 7s 4ms/step - loss: 0.0231 - accuracy: 0.9941 - val_loss: 0.1052 - val_accuracy: 0.9734\n",
      "Epoch 20/25\n",
      "1719/1719 [==============================] - 7s 4ms/step - loss: 0.0232 - accuracy: 0.9933 - val_loss: 0.1030 - val_accuracy: 0.9740\n",
      "Epoch 21/25\n",
      "1719/1719 [==============================] - 7s 4ms/step - loss: 0.0202 - accuracy: 0.9945 - val_loss: 0.0981 - val_accuracy: 0.9744\n",
      "Epoch 22/25\n",
      "1719/1719 [==============================] - 7s 4ms/step - loss: 0.0203 - accuracy: 0.9943 - val_loss: 0.1046 - val_accuracy: 0.9742\n",
      "Epoch 23/25\n",
      "1719/1719 [==============================] - 7s 4ms/step - loss: 0.0193 - accuracy: 0.9947 - val_loss: 0.1039 - val_accuracy: 0.9744\n",
      "Epoch 24/25\n",
      "1719/1719 [==============================] - 7s 4ms/step - loss: 0.0180 - accuracy: 0.9954 - val_loss: 0.1035 - val_accuracy: 0.9744\n",
      "Epoch 25/25\n",
      "1719/1719 [==============================] - 7s 4ms/step - loss: 0.0176 - accuracy: 0.9952 - val_loss: 0.1065 - val_accuracy: 0.9750\n"
     ]
    },
    {
     "data": {
      "text/plain": [
       "<keras.callbacks.History at 0x25bab555e10>"
      ]
     },
     "execution_count": 33,
     "metadata": {},
     "output_type": "execute_result"
    }
   ],
   "source": [
    "#Training the second model with batch normalisation\n",
    "model2.fit(Xtr,ytr,validation_data=(Xval,yval),batch_size=32,epochs=25)"
   ]
  },
  {
   "cell_type": "markdown",
   "id": "96950ddc-41d2-4d9e-bc8a-17e4de2d51d3",
   "metadata": {},
   "source": [
    "# Max accuracy with batch normalisation is 99.52"
   ]
  },
  {
   "cell_type": "markdown",
   "id": "3e2bdf0c-ec1d-494e-a288-243477417a59",
   "metadata": {},
   "source": [
    "## Batch normalisation increases the accuracy by 0.5"
   ]
  },
  {
   "cell_type": "markdown",
   "id": "c7e003a6-05c6-4a08-b5ba-fb76f1b32bc9",
   "metadata": {},
   "source": [
    "## Defining the functions to create models "
   ]
  },
  {
   "cell_type": "code",
   "execution_count": 13,
   "id": "ab346ebb-d0f3-42b7-b053-d90ffd714ef2",
   "metadata": {},
   "outputs": [],
   "source": [
    "\n",
    "def make_m1():    \n",
    "    m1=seq()\n",
    "    m1.add(flat(input_shape=[28,28]))\n",
    "    m1.add(dense(300,activation='relu'))\n",
    "    m1.add(dense(100,activation='relu'))\n",
    "    m1.add(dense(10,activation='softmax'))\n",
    "    return m1"
   ]
  },
  {
   "cell_type": "code",
   "execution_count": 14,
   "id": "0e7fa237-776c-42b4-bc86-dcb4c79610c8",
   "metadata": {},
   "outputs": [],
   "source": [
    "def make_m2():    \n",
    "    m2=seq()\n",
    "    m2.add(flat(input_shape=[28,28]))\n",
    "    m2.add(bn())\n",
    "    m2.add(dense(300,activation='relu'))\n",
    "    m2.add(bn())\n",
    "    m2.add(dense(100,activation='relu'))\n",
    "    m2.add(bn())\n",
    "    m2.add(dense(10,activation='softmax'))\n",
    "    return m2"
   ]
  },
  {
   "cell_type": "code",
   "execution_count": 15,
   "id": "fbd8529f-f289-4ed9-a9e5-50c5be3b7d85",
   "metadata": {},
   "outputs": [
    {
     "name": "stdout",
     "output_type": "stream",
     "text": [
      "Batch size: 16\n",
      "\n",
      "Epoch 1/5\n",
      "3438/3438 [==============================] - 5s 1ms/step - loss: 0.4699 - accuracy: 0.8724 - val_loss: 0.2523 - val_accuracy: 0.9314\n",
      "Epoch 2/5\n",
      "3438/3438 [==============================] - 5s 1ms/step - loss: 0.2271 - accuracy: 0.9350 - val_loss: 0.1838 - val_accuracy: 0.9508\n",
      "Epoch 3/5\n",
      "3438/3438 [==============================] - 5s 1ms/step - loss: 0.1720 - accuracy: 0.9501 - val_loss: 0.1482 - val_accuracy: 0.9592\n",
      "Epoch 4/5\n",
      "3438/3438 [==============================] - 5s 1ms/step - loss: 0.1378 - accuracy: 0.9608 - val_loss: 0.1245 - val_accuracy: 0.9668\n",
      "Epoch 5/5\n",
      "3438/3438 [==============================] - 5s 1ms/step - loss: 0.1147 - accuracy: 0.9665 - val_loss: 0.1078 - val_accuracy: 0.9690\n",
      "==============================\n",
      "Epoch 1/5\n",
      "3438/3438 [==============================] - 8s 2ms/step - loss: 0.3475 - accuracy: 0.8945 - val_loss: 0.1721 - val_accuracy: 0.9476\n",
      "Epoch 2/5\n",
      "3438/3438 [==============================] - 7s 2ms/step - loss: 0.1881 - accuracy: 0.9427 - val_loss: 0.1333 - val_accuracy: 0.9602\n",
      "Epoch 3/5\n",
      "3438/3438 [==============================] - 7s 2ms/step - loss: 0.1445 - accuracy: 0.9558 - val_loss: 0.1244 - val_accuracy: 0.9660\n",
      "Epoch 4/5\n",
      "3438/3438 [==============================] - 7s 2ms/step - loss: 0.1231 - accuracy: 0.9630 - val_loss: 0.1132 - val_accuracy: 0.9670\n",
      "Epoch 5/5\n",
      "3438/3438 [==============================] - 7s 2ms/step - loss: 0.1045 - accuracy: 0.9680 - val_loss: 0.1120 - val_accuracy: 0.9694\n",
      "==============================\n",
      "Batch size: 32\n",
      "\n",
      "Epoch 1/5\n",
      "1719/1719 [==============================] - 4s 2ms/step - loss: 0.5895 - accuracy: 0.8452 - val_loss: 0.3036 - val_accuracy: 0.9184\n",
      "Epoch 2/5\n",
      "1719/1719 [==============================] - 3s 2ms/step - loss: 0.2857 - accuracy: 0.9186 - val_loss: 0.2381 - val_accuracy: 0.9366\n",
      "Epoch 3/5\n",
      "1719/1719 [==============================] - 3s 2ms/step - loss: 0.2319 - accuracy: 0.9342 - val_loss: 0.1985 - val_accuracy: 0.9462\n",
      "Epoch 4/5\n",
      "1719/1719 [==============================] - 3s 2ms/step - loss: 0.1965 - accuracy: 0.9445 - val_loss: 0.1763 - val_accuracy: 0.9526\n",
      "Epoch 5/5\n",
      "1719/1719 [==============================] - 3s 2ms/step - loss: 0.1712 - accuracy: 0.9510 - val_loss: 0.1552 - val_accuracy: 0.9582\n",
      "==============================\n",
      "Epoch 1/5\n",
      "1719/1719 [==============================] - 5s 3ms/step - loss: 0.3564 - accuracy: 0.8937 - val_loss: 0.1788 - val_accuracy: 0.9486\n",
      "Epoch 2/5\n",
      "1719/1719 [==============================] - 4s 3ms/step - loss: 0.1843 - accuracy: 0.9454 - val_loss: 0.1400 - val_accuracy: 0.9580\n",
      "Epoch 3/5\n",
      "1719/1719 [==============================] - 4s 3ms/step - loss: 0.1421 - accuracy: 0.9578 - val_loss: 0.1269 - val_accuracy: 0.9610\n",
      "Epoch 4/5\n",
      "1719/1719 [==============================] - 4s 3ms/step - loss: 0.1154 - accuracy: 0.9657 - val_loss: 0.1122 - val_accuracy: 0.9656\n",
      "Epoch 5/5\n",
      "1719/1719 [==============================] - 4s 3ms/step - loss: 0.0954 - accuracy: 0.9718 - val_loss: 0.1061 - val_accuracy: 0.9670\n",
      "==============================\n",
      "Batch size: 64\n",
      "\n",
      "Epoch 1/5\n",
      "860/860 [==============================] - 2s 2ms/step - loss: 0.8782 - accuracy: 0.7822 - val_loss: 0.4032 - val_accuracy: 0.8966\n",
      "Epoch 2/5\n",
      "860/860 [==============================] - 2s 2ms/step - loss: 0.3654 - accuracy: 0.8991 - val_loss: 0.3026 - val_accuracy: 0.9194\n",
      "Epoch 3/5\n",
      "860/860 [==============================] - 2s 2ms/step - loss: 0.2998 - accuracy: 0.9155 - val_loss: 0.2715 - val_accuracy: 0.9250\n",
      "Epoch 4/5\n",
      "860/860 [==============================] - 2s 2ms/step - loss: 0.2641 - accuracy: 0.9261 - val_loss: 0.2390 - val_accuracy: 0.9348\n",
      "Epoch 5/5\n",
      "860/860 [==============================] - 2s 2ms/step - loss: 0.2390 - accuracy: 0.9327 - val_loss: 0.2153 - val_accuracy: 0.9402\n",
      "==============================\n",
      "Epoch 1/5\n",
      "860/860 [==============================] - 6s 6ms/step - loss: 0.4462 - accuracy: 0.8688 - val_loss: 0.2276 - val_accuracy: 0.9356\n",
      "Epoch 2/5\n",
      "860/860 [==============================] - 5s 6ms/step - loss: 0.2150 - accuracy: 0.9384 - val_loss: 0.1775 - val_accuracy: 0.9472\n",
      "Epoch 3/5\n",
      "860/860 [==============================] - 5s 6ms/step - loss: 0.1653 - accuracy: 0.9525 - val_loss: 0.1524 - val_accuracy: 0.9552\n",
      "Epoch 4/5\n",
      "860/860 [==============================] - 5s 6ms/step - loss: 0.1383 - accuracy: 0.9601 - val_loss: 0.1359 - val_accuracy: 0.9584\n",
      "Epoch 5/5\n",
      "860/860 [==============================] - 5s 6ms/step - loss: 0.1195 - accuracy: 0.9656 - val_loss: 0.1273 - val_accuracy: 0.9600\n",
      "==============================\n"
     ]
    }
   ],
   "source": [
    "for i in [16,32,64]:\n",
    "    m1=make_m1()\n",
    "    m2=make_m2()\n",
    "    print(f'Batch size: {i}\\n')\n",
    "    for model in [m1,m2]:\n",
    "        model.compile(loss='sparse_categorical_crossentropy',optimizer='SGD',metrics=['accuracy'])\n",
    "        model.fit(Xtr,ytr,validation_data=(Xval,yval),epochs=5,batch_size=i)\n",
    "        print('='*30)"
   ]
  },
  {
   "cell_type": "markdown",
   "id": "feffa80c-bf9f-4045-b73b-b8702f1987a8",
   "metadata": {},
   "source": [
    "## The results are:\n",
    "    Batch 16: without BN - 96.65, with BN - 96.8 \n",
    "    Batch 32: without BN - 95.10, with BN - 97.1\n",
    "    Batch 64: without BN - 93.27, with BN - 96.5"
   ]
  },
  {
   "cell_type": "markdown",
   "id": "43abc0dd-5125-46e1-b8f8-bbca83614820",
   "metadata": {},
   "source": [
    "### Clearly as the batch size increases the accuracy decreases if we dont use batch normalisation"
   ]
  },
  {
   "cell_type": "code",
   "execution_count": null,
   "id": "9c98bdd2-2786-4610-84aa-e64605ca8f6d",
   "metadata": {},
   "outputs": [],
   "source": [
    "Q3. Discuss the advantages and potential limitations of batch normalization in improving the training of\n",
    "neural networks."
   ]
  },
  {
   "cell_type": "code",
   "execution_count": null,
   "id": "fb1893cf-41da-445e-8430-567a0733af29",
   "metadata": {},
   "outputs": [],
   "source": [
    "A3. Advantages:\n",
    "\n",
    "Faster Convergence:\n",
    "Batch normalization helps reduce the internal covariate shift, allowing the use of higher learning rates \n",
    "and leading to faster convergence during training.\n",
    "\n",
    "Improved Generalization:\n",
    "The normalization and regularization effects of batch normalization can improve the model's \n",
    "    generalization performance, reducing overfitting.\n",
    "\n",
    "Enhanced Stability:\n",
    "Batch normalization makes the training process more robust to the choice of initialization and the scale \n",
    "of the inputs, improving the overall stability.\n",
    "\n",
    "Reduced Sensitivity to Hyperparameters:\n",
    "Batch normalization can make the training less sensitive to certain hyperparameters, such as the learning \n",
    "rate, simplifying the tuning process.\n",
    "\n",
    "Improved Numerical Stability:\n",
    "Batch normalization helps maintain the activations within a more stable range, preventing issues like \n",
    "vanishing or exploding gradients.\n",
    "\n",
    "Facilitates the Use of Higher Learning Rates:\n",
    "By reducing the internal covariate shift, batch normalization allows for the use of higher learning \n",
    "rates, further accelerating convergence.\n",
    "\n",
    "Potential Limitations:\n",
    "\n",
    "Dependency on Batch Size:\n",
    "The normalization in batch normalization is performed based on the statistics of the current mini-batch. \n",
    "This can introduce some instability if the batch size is too small.\n",
    "\n",
    "Sensitivity to Dataset Shift:\n",
    "If the distribution of the training data changes significantly during the training process (e.g., due to \n",
    "data augmentation), the batch normalization statistics may not accurately reflect the true data \n",
    "distribution.\n",
    "\n",
    "Increased Memory Consumption:\n",
    "Batch normalization requires storing and computing the mean and variance for each mini-batch, which can \n",
    "increase the memory consumption of the model, especially for large batches.\n",
    "\n",
    "Challenges in Recurrent Neural Networks:\n",
    "Applying batch normalization in recurrent neural networks (RNNs) can be more challenging, as the \n",
    "normalization needs to be done carefully to avoid introducing instabilities in the recurrent connections.\n",
    "\n",
    "Potential for Covariate Shift in Inference:\n",
    "During inference (deployment), the normalization is performed using the entire training dataset \n",
    "statistics, which can lead to a covariate shift compared to the training distribution, impacting the \n",
    "model's performance."
   ]
  }
 ],
 "metadata": {
  "kernelspec": {
   "display_name": "Python 3 (ipykernel)",
   "language": "python",
   "name": "python3"
  },
  "language_info": {
   "codemirror_mode": {
    "name": "ipython",
    "version": 3
   },
   "file_extension": ".py",
   "mimetype": "text/x-python",
   "name": "python",
   "nbconvert_exporter": "python",
   "pygments_lexer": "ipython3",
   "version": "3.11.7"
  }
 },
 "nbformat": 4,
 "nbformat_minor": 5
}
