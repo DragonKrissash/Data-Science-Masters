{
 "cells": [
  {
   "cell_type": "code",
   "execution_count": null,
   "id": "7e3f388b-913d-4a75-9d4f-b16bda877586",
   "metadata": {},
   "outputs": [],
   "source": [
    "Q1. What are the different data structures used in Tensorflow?. Give some examples."
   ]
  },
  {
   "cell_type": "code",
   "execution_count": null,
   "id": "4eaa614a-d57a-4629-9258-64606b22bd09",
   "metadata": {},
   "outputs": [],
   "source": [
    "A1. Tensor: The fundamental data structure in TensorFlow, which represents a multi-dimensional array or matrix. Tensors can have different shapes and data types, and they are the primary means of storing and manipulating data in TensorFlow. Example: tf.constant([[1, 2], [3, 4]], dtype=tf.float32).\n",
    "\n",
    "Variable: A special type of tensor that can be modified during the execution of a TensorFlow graph. Variables are used to store parameters and state that can be updated during training. Example: x = tf.Variable(tf.random.normal([10, 1]), name=\"weights\").\n",
    "\n",
    "Placeholder: A tensor-like object that is used to feed external data into a TensorFlow graph. Placeholders are used to provide inputs to the model during training and inference. Example: x = tf.placeholder(tf.float32, shape=[None, 784], name=\"x\").\n",
    "\n",
    "Dataset: A high-level API in TensorFlow for handling input data. Datasets are used to represent and manipulate data, such as reading from files, applying transformations, and creating batches. Example: dataset = tf.data.Dataset.from_tensor_slices((x_train, y_train)).\n",
    "\n",
    "Iterator: An object that provides a way to iterate over a dataset. Iterators are used to feed data into the TensorFlow graph during training and inference. Example: iterator = dataset.make_one_shot_iterator().\n",
    "\n",
    "Sparse Tensor: A special type of tensor that efficiently stores and represents sparse data, where most of the elements are zeros. Sparse tensors are often used for handling sparse data, such as in natural language processing and recommender systems. Example: sparse_tensor = tf.SparseTensor(indices=[[0, 0], [1, 2]], values=[1, 2], dense_shape=[3, 4]).\n",
    "\n",
    "Graph: The overall structure that represents the computational graph in TensorFlow. The graph contains nodes (operations) and edges (tensors) that define the flow of data and computations. Example: with tf.Graph().as_default():, where you can define and execute your TensorFlow operations.\n"
   ]
  },
  {
   "cell_type": "code",
   "execution_count": null,
   "id": "7c53cccd-c98f-4617-969c-872890cf0199",
   "metadata": {},
   "outputs": [],
   "source": [
    "Q2. How does the TensorFlow constant differ from a TensorFlow variable? Explain with an example."
   ]
  },
  {
   "cell_type": "code",
   "execution_count": null,
   "id": "49b7e988-eb63-4e1d-a9c6-ce1ffe7dfef8",
   "metadata": {},
   "outputs": [],
   "source": [
    "A2. TensorFlow Constant:\n",
    "A constant is a tensor with a fixed value that cannot be changed during the execution of the TensorFlow graph.\n",
    "constants are immutable, meaning their value cannot be modified once the graph is constructed.\n",
    "constants are typically used to represent static data, such as model parameters or hyperparameters, that do not need to be updated during the training process.\n",
    "Example:\n",
    "x = tf.constant([[1, 2], [3, 4]], dtype=tf.float32)\n",
    "In this example, x is a constant tensor with a fixed value of [[1, 2], [3, 4]] and a data type of float32.\n",
    "\n",
    "TensorFlow Variable:\n",
    "A variable is a special type of tensor whose value can be modified during the execution of the TensorFlow graph.\n",
    "variables are mutable, meaning their value can be updated and changed as the graph executes.\n",
    "variables are commonly used to represent parameters or state that need to be learned or updated during the training process, such as weights and biases in a neural network.\n",
    "Example:\n",
    "W = tf.Variable(tf.random.normal([2, 2]), name=\"weights\")\n",
    "b = tf.Variable(tf.zeros([2]), name=\"biases\")\n",
    "In this example, W and b are both variables. Their initial values are set to a random normal distribution and all-zeros, respectively. These values can be updated during the training process."
   ]
  },
  {
   "cell_type": "code",
   "execution_count": null,
   "id": "1154e853-a7c4-48f4-906f-0967a1ac460a",
   "metadata": {},
   "outputs": [],
   "source": [
    "Q3. Describe the process of matrix addition, multiplication, and element wise operations in TensorFlow."
   ]
  },
  {
   "cell_type": "code",
   "execution_count": null,
   "id": "824484dc-e311-4ead-b8f8-f4acc7813e13",
   "metadata": {},
   "outputs": [],
   "source": [
    "A3. Matrix Addition:\n",
    "In TensorFlow, you can perform matrix addition using the + operator.\n",
    "The matrices must have the same shape for the addition to be valid.\n",
    "Example:\n",
    "import tensorflow as tf\n",
    "\n",
    "A = tf.constant([[1, 2], [3, 4]])\n",
    "B = tf.constant([[5, 6], [7, 8]])\n",
    "C = A + B\n",
    "print(C)\n",
    "Output:\n",
    "[[6 8]\n",
    " [10 12]]\n",
    "\n",
    "Matrix Multiplication:\n",
    "In TensorFlow, you can perform matrix multiplication using the tf.matmul() function.\n",
    "The inner dimensions of the two matrices must match for the multiplication to be valid.\n",
    "Example:\n",
    "A = tf.constant([[1, 2], [3, 4]])\n",
    "B = tf.constant([[5, 6], [7, 8]])\n",
    "C = tf.matmul(A, B)\n",
    "print(C)\n",
    "Output:\n",
    "[[19 22]\n",
    " [43 50]]\n",
    "                                                   \n",
    "Element-wise Operations:\n",
    "Element-wise operations in TensorFlow involve performing operations on corresponding elements of two or more tensors.\n",
    "The tensors must have the same shape for the element-wise operations to be valid.\n",
    "Example - Element-wise Addition:\n",
    "A = tf.constant([[1, 2], [3, 4]])\n",
    "B = tf.constant([[5, 6], [7, 8]])\n",
    "C = A + B\n",
    "print(C)\n",
    "Output:\n",
    "[[6 8]\n",
    " [10 12]]\n",
    "\n",
    "Element-wise Multiplication:\n",
    "A = tf.constant([[1, 2], [3, 4]])\n",
    "B = tf.constant([[5, 6], [7, 8]])\n",
    "C = A * B\n",
    "print(C)\n",
    "Output:\n",
    "[[5 12]\n",
    " [21 32]]"
   ]
  },
  {
   "cell_type": "code",
   "execution_count": null,
   "id": "a8641c59-f9ba-4d15-8880-10df9f1e33d9",
   "metadata": {},
   "outputs": [],
   "source": [
    "Q4. Create a normal matrix A with dimensions 2x2, using TensorFlow's random_normal function. Display the\n",
    "values of matrix A."
   ]
  },
  {
   "cell_type": "code",
   "execution_count": 1,
   "id": "0120a9bc-89c6-4e5a-ae4c-6883e7111c85",
   "metadata": {},
   "outputs": [],
   "source": [
    "import tensorflow as tf"
   ]
  },
  {
   "cell_type": "code",
   "execution_count": 3,
   "id": "ab7ec7b6-cd28-4b3d-bc34-00a821b9bdaa",
   "metadata": {},
   "outputs": [
    {
     "name": "stdout",
     "output_type": "stream",
     "text": [
      "tf.Tensor(\n",
      "[[ 0.2640575  0.4099254]\n",
      " [-0.653294   1.3014748]], shape=(2, 2), dtype=float32)\n"
     ]
    }
   ],
   "source": [
    "A=tf.random.normal(shape=[2,2],mean=0,stddev=1,dtype=tf.float32)\n",
    "print(A)"
   ]
  },
  {
   "cell_type": "code",
   "execution_count": null,
   "id": "838d7a31-946d-49f0-ac52-6a4a3d4829cc",
   "metadata": {},
   "outputs": [],
   "source": []
  },
  {
   "cell_type": "code",
   "execution_count": null,
   "id": "3785dc17-8f76-456d-8896-e53d2e21a6b7",
   "metadata": {},
   "outputs": [],
   "source": [
    "Q5. Create a Gaussian matrix B with dimensions x, using TensorFlow's truncated_normal function. Display\n",
    "the values of matrix B."
   ]
  },
  {
   "cell_type": "code",
   "execution_count": 6,
   "id": "1564fa88-ba03-4d76-b45c-dcbf61cf08f2",
   "metadata": {},
   "outputs": [],
   "source": [
    "B=tf.random.truncated_normal(shape=[3,3],mean=0,stddev=1,dtype=tf.float32)"
   ]
  },
  {
   "cell_type": "code",
   "execution_count": 7,
   "id": "38b8761b-d776-4006-acf4-b169c8bf32d8",
   "metadata": {},
   "outputs": [
    {
     "name": "stdout",
     "output_type": "stream",
     "text": [
      "tf.Tensor(\n",
      "[[ 0.25890127  0.30622968  1.3004645 ]\n",
      " [ 0.9707003  -0.30016476 -0.5188605 ]\n",
      " [ 0.5773824  -0.3749935  -0.24738225]], shape=(3, 3), dtype=float32)\n"
     ]
    }
   ],
   "source": [
    "print(B)"
   ]
  },
  {
   "cell_type": "code",
   "execution_count": null,
   "id": "820be51e-040b-4aac-878d-66342dc98502",
   "metadata": {},
   "outputs": [],
   "source": [
    "Q6. Create a matrix C with dimensions 2x2, where the values are drawn from a normal distribution with a\n",
    "mean of 3 and a standard deviation of 0.5, using TensorFlow's random.normal function. Display the values\n",
    "of matrix C."
   ]
  },
  {
   "cell_type": "code",
   "execution_count": 8,
   "id": "8e1e96df-6968-496e-9bb0-ec7bdd30b4c7",
   "metadata": {},
   "outputs": [],
   "source": [
    "C=tf.random.normal([2,2],mean=3,stddev=0.5,dtype=tf.float32)"
   ]
  },
  {
   "cell_type": "code",
   "execution_count": 10,
   "id": "67125785-5aab-4970-b884-ef7633463525",
   "metadata": {},
   "outputs": [
    {
     "name": "stdout",
     "output_type": "stream",
     "text": [
      "tf.Tensor(\n",
      "[[2.5602796 3.353167 ]\n",
      " [2.850586  2.6411676]], shape=(2, 2), dtype=float32)\n"
     ]
    }
   ],
   "source": [
    "print(C)"
   ]
  },
  {
   "cell_type": "code",
   "execution_count": 12,
   "id": "8044749b-44d4-42d3-860e-2d4b0fe94077",
   "metadata": {},
   "outputs": [],
   "source": [
    "D=A+B"
   ]
  },
  {
   "cell_type": "code",
   "execution_count": 13,
   "id": "ac2e60d1-09eb-4983-9064-410ab133790e",
   "metadata": {},
   "outputs": [
    {
     "name": "stdout",
     "output_type": "stream",
     "text": [
      "tf.Tensor(\n",
      "[[ 0.39967394 -0.81232584  1.8407743 ]\n",
      " [ 1.2019727  -2.1502173   1.1513562 ]\n",
      " [ 0.71416646 -0.4963462   1.3063959 ]], shape=(3, 3), dtype=float32)\n"
     ]
    }
   ],
   "source": [
    "print(D)"
   ]
  },
  {
   "cell_type": "code",
   "execution_count": 14,
   "id": "0b85f9cd-90e5-4271-828c-d76bac11da30",
   "metadata": {},
   "outputs": [],
   "source": [
    "E=tf.matmul(A,B)"
   ]
  },
  {
   "cell_type": "code",
   "execution_count": 15,
   "id": "6afe4e3e-eb49-4e99-8674-713465c7c773",
   "metadata": {},
   "outputs": [
    {
     "name": "stdout",
     "output_type": "stream",
     "text": [
      "tf.Tensor(\n",
      "[[-7.3737073e-01  1.7624709e-01  6.2978107e-01]\n",
      " [-7.7161616e-01 -1.7741002e-04  8.4749866e-01]\n",
      " [ 8.1474060e-01 -5.0434357e-01 -1.4352921e-01]], shape=(3, 3), dtype=float32)\n"
     ]
    }
   ],
   "source": [
    "print(E)"
   ]
  },
  {
   "cell_type": "code",
   "execution_count": 23,
   "id": "57e1fc07-dc6d-4076-acd2-f69f6b4e29a3",
   "metadata": {},
   "outputs": [],
   "source": [
    "F=tf.random.uniform(shape=[3,3],dtype=tf.float32)"
   ]
  },
  {
   "cell_type": "code",
   "execution_count": 24,
   "id": "1bf84c4c-b7fa-483d-9bb5-30b6d89e84c1",
   "metadata": {},
   "outputs": [
    {
     "name": "stdout",
     "output_type": "stream",
     "text": [
      "tf.Tensor(\n",
      "[[0.826589   0.21861374 0.9379673 ]\n",
      " [0.3259071  0.22427022 0.68449104]\n",
      " [0.17372167 0.5581938  0.6211301 ]], shape=(3, 3), dtype=float32)\n"
     ]
    }
   ],
   "source": [
    "print(F)"
   ]
  },
  {
   "cell_type": "code",
   "execution_count": 25,
   "id": "d822353b-0b13-4bf4-8c17-70d6c39d85d4",
   "metadata": {},
   "outputs": [],
   "source": [
    "G=tf.transpose(F)"
   ]
  },
  {
   "cell_type": "code",
   "execution_count": 26,
   "id": "31c25f0d-8338-4042-bc8f-00d517322b32",
   "metadata": {},
   "outputs": [
    {
     "data": {
      "text/plain": [
       "<tf.Tensor: shape=(3, 3), dtype=float32, numpy=\n",
       "array([[0.826589  , 0.3259071 , 0.17372167],\n",
       "       [0.21861374, 0.22427022, 0.5581938 ],\n",
       "       [0.9379673 , 0.68449104, 0.6211301 ]], dtype=float32)>"
      ]
     },
     "execution_count": 26,
     "metadata": {},
     "output_type": "execute_result"
    }
   ],
   "source": [
    "G"
   ]
  },
  {
   "cell_type": "code",
   "execution_count": 27,
   "id": "5402057c-5567-4f4e-a2a4-ad412c885e12",
   "metadata": {},
   "outputs": [],
   "source": [
    "H=tf.exp(F)"
   ]
  },
  {
   "cell_type": "code",
   "execution_count": 28,
   "id": "bf52f91f-d6b6-4aec-8445-a9891f1f0cb9",
   "metadata": {},
   "outputs": [
    {
     "data": {
      "text/plain": [
       "<tf.Tensor: shape=(3, 3), dtype=float32, numpy=\n",
       "array([[2.2855096, 1.2443506, 2.554783 ],\n",
       "       [1.3852867, 1.2514092, 1.9827625],\n",
       "       [1.1897243, 1.7475133, 1.86103  ]], dtype=float32)>"
      ]
     },
     "execution_count": 28,
     "metadata": {},
     "output_type": "execute_result"
    }
   ],
   "source": [
    "H"
   ]
  },
  {
   "cell_type": "code",
   "execution_count": 32,
   "id": "9a29539b-d067-4a4d-8bfc-a3bb3f39823e",
   "metadata": {},
   "outputs": [],
   "source": [
    "I=tf.concat([F,G],axis=1)"
   ]
  },
  {
   "cell_type": "code",
   "execution_count": 33,
   "id": "95655d25-542e-4748-9464-7dc480f0d191",
   "metadata": {},
   "outputs": [
    {
     "data": {
      "text/plain": [
       "<tf.Tensor: shape=(3, 6), dtype=float32, numpy=\n",
       "array([[0.826589  , 0.21861374, 0.9379673 , 0.826589  , 0.3259071 ,\n",
       "        0.17372167],\n",
       "       [0.3259071 , 0.22427022, 0.68449104, 0.21861374, 0.22427022,\n",
       "        0.5581938 ],\n",
       "       [0.17372167, 0.5581938 , 0.6211301 , 0.9379673 , 0.68449104,\n",
       "        0.6211301 ]], dtype=float32)>"
      ]
     },
     "execution_count": 33,
     "metadata": {},
     "output_type": "execute_result"
    }
   ],
   "source": [
    "I"
   ]
  },
  {
   "cell_type": "code",
   "execution_count": 34,
   "id": "005dd529-5d40-4e35-be0a-69afb9f128cf",
   "metadata": {},
   "outputs": [],
   "source": [
    "J=tf.concat([F,G],axis=0)"
   ]
  },
  {
   "cell_type": "code",
   "execution_count": 35,
   "id": "13a5a3f6-3a19-420c-85f3-1e4e2b9b9c29",
   "metadata": {},
   "outputs": [
    {
     "data": {
      "text/plain": [
       "<tf.Tensor: shape=(6, 3), dtype=float32, numpy=\n",
       "array([[0.826589  , 0.21861374, 0.9379673 ],\n",
       "       [0.3259071 , 0.22427022, 0.68449104],\n",
       "       [0.17372167, 0.5581938 , 0.6211301 ],\n",
       "       [0.826589  , 0.3259071 , 0.17372167],\n",
       "       [0.21861374, 0.22427022, 0.5581938 ],\n",
       "       [0.9379673 , 0.68449104, 0.6211301 ]], dtype=float32)>"
      ]
     },
     "execution_count": 35,
     "metadata": {},
     "output_type": "execute_result"
    }
   ],
   "source": [
    "J"
   ]
  },
  {
   "cell_type": "code",
   "execution_count": null,
   "id": "273a4606-1a23-47c6-8d3a-bbe75f5b801d",
   "metadata": {},
   "outputs": [],
   "source": []
  }
 ],
 "metadata": {
  "kernelspec": {
   "display_name": "Python 3 (ipykernel)",
   "language": "python",
   "name": "python3"
  },
  "language_info": {
   "codemirror_mode": {
    "name": "ipython",
    "version": 3
   },
   "file_extension": ".py",
   "mimetype": "text/x-python",
   "name": "python",
   "nbconvert_exporter": "python",
   "pygments_lexer": "ipython3",
   "version": "3.11.7"
  }
 },
 "nbformat": 4,
 "nbformat_minor": 5
}
