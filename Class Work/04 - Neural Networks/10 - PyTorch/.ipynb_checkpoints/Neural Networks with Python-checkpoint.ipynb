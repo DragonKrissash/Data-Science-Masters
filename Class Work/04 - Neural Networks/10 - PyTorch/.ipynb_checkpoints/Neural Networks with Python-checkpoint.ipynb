{
 "cells": [
  {
   "cell_type": "markdown",
   "id": "47fdb268-9861-4b54-a14e-75aed912fc68",
   "metadata": {},
   "source": [
    "# Neural network with pytorch"
   ]
  },
  {
   "cell_type": "code",
   "execution_count": 1,
   "id": "ec8983e3-3563-4627-b371-a6011c55bf51",
   "metadata": {},
   "outputs": [
    {
     "name": "stdout",
     "output_type": "stream",
     "text": [
      "Wed Apr 10 14:28:27 2024       \n",
      "+-----------------------------------------------------------------------------------------+\n",
      "| NVIDIA-SMI 551.78                 Driver Version: 551.78         CUDA Version: 12.4     |\n",
      "|-----------------------------------------+------------------------+----------------------+\n",
      "| GPU  Name                     TCC/WDDM  | Bus-Id          Disp.A | Volatile Uncorr. ECC |\n",
      "| Fan  Temp   Perf          Pwr:Usage/Cap |           Memory-Usage | GPU-Util  Compute M. |\n",
      "|                                         |                        |               MIG M. |\n",
      "|=========================================+========================+======================|\n",
      "|   0  NVIDIA GeForce GTX 1650      WDDM  |   00000000:01:00.0 Off |                  N/A |\n",
      "| N/A   50C    P0             14W /   50W |       0MiB /   4096MiB |      0%      Default |\n",
      "|                                         |                        |                  N/A |\n",
      "+-----------------------------------------+------------------------+----------------------+\n",
      "                                                                                         \n",
      "+-----------------------------------------------------------------------------------------+\n",
      "| Processes:                                                                              |\n",
      "|  GPU   GI   CI        PID   Type   Process name                              GPU Memory |\n",
      "|        ID   ID                                                               Usage      |\n",
      "|=========================================================================================|\n",
      "|  No running processes found                                                             |\n",
      "+-----------------------------------------------------------------------------------------+\n"
     ]
    }
   ],
   "source": [
    "!nvidia-smi"
   ]
  },
  {
   "cell_type": "code",
   "execution_count": 2,
   "id": "cb30d25e-c7da-4293-b545-56a4a3ed8af3",
   "metadata": {},
   "outputs": [],
   "source": [
    "import torch\n",
    "from torch import nn\n",
    "from torch.utils.data import DataLoader\n",
    "from torchvision import datasets\n",
    "from torchvision.transforms import ToTensor,Lambda,Compose\n",
    "import matplotlib.pyplot as plt"
   ]
  },
  {
   "cell_type": "code",
   "execution_count": 3,
   "id": "f0fdda59-399b-4583-a1eb-441ab75cd46b",
   "metadata": {},
   "outputs": [],
   "source": [
    "train_data=datasets.FashionMNIST(\n",
    "    root='data',\n",
    "    train=True,\n",
    "    download=True,\n",
    "    transform=ToTensor(),\n",
    ")\n",
    "test_data=datasets.FashionMNIST(\n",
    "    root='data',\n",
    "    train=False,\n",
    "    download=True,\n",
    "    transform=ToTensor()\n",
    ")"
   ]
  },
  {
   "cell_type": "code",
   "execution_count": 4,
   "id": "06130d99-aca5-4318-a7b2-fc53c0e826dd",
   "metadata": {},
   "outputs": [
    {
     "name": "stdout",
     "output_type": "stream",
     "text": [
      "Shape of X [N,C,H,W]:  torch.Size([64, 1, 28, 28])\n",
      "Shape of y:  torch.Size([64]) torch.int64\n"
     ]
    }
   ],
   "source": [
    "train_dataloader=DataLoader(train_data,batch_size=64)\n",
    "test_dataloader=DataLoader(test_data,batch_size=64)\n",
    "for X,y in test_dataloader:\n",
    "    print('Shape of X [N,C,H,W]: ',X.shape )\n",
    "    print('Shape of y: ',y.shape,y.dtype)\n",
    "    break"
   ]
  },
  {
   "cell_type": "code",
   "execution_count": 5,
   "id": "5b90cc08-58ef-4cd9-a99f-13de146c8733",
   "metadata": {},
   "outputs": [],
   "source": [
    "device='cuda' if torch.cuda.is_available() else 'cpu'"
   ]
  },
  {
   "cell_type": "code",
   "execution_count": 6,
   "id": "f9a651cb-9c6d-4150-b8f0-80a2d81c6a5d",
   "metadata": {},
   "outputs": [
    {
     "name": "stdout",
     "output_type": "stream",
     "text": [
      "NeuralNetwork(\n",
      "  (flatten): Flatten(start_dim=1, end_dim=-1)\n",
      "  (linear_relu_stack): Sequential(\n",
      "    (0): Linear(in_features=784, out_features=512, bias=True)\n",
      "    (1): ReLU()\n",
      "    (2): Linear(in_features=512, out_features=512, bias=True)\n",
      "    (3): ReLU()\n",
      "    (4): Linear(in_features=512, out_features=10, bias=True)\n",
      "  )\n",
      ")\n"
     ]
    }
   ],
   "source": [
    "class NeuralNetwork(nn.Module):\n",
    "    def __init__(self):\n",
    "        super(NeuralNetwork,self).__init__()\n",
    "        self.flatten=nn.Flatten()\n",
    "        self.linear_relu_stack=nn.Sequential(\n",
    "            nn.Linear(28*28,512),\n",
    "            nn.ReLU(),\n",
    "            nn.Linear(512,512),\n",
    "            nn.ReLU(),\n",
    "            nn.Linear(512,10)\n",
    "        )\n",
    "\n",
    "    def forward(self,x):\n",
    "        x=self.flatten(x)\n",
    "        logits=self.linear_relu_stack(x)\n",
    "        return logits\n",
    "\n",
    "model=NeuralNetwork().to(device)\n",
    "print(model)"
   ]
  },
  {
   "cell_type": "code",
   "execution_count": 7,
   "id": "a1281be9-057e-4ed6-a21b-1835e373060f",
   "metadata": {},
   "outputs": [],
   "source": [
    "loss_fn=nn.CrossEntropyLoss()\n",
    "optimizer=torch.optim.SGD(model.parameters(),lr=1e-3)"
   ]
  },
  {
   "cell_type": "code",
   "execution_count": 8,
   "id": "d95cc4ee-0bea-4122-a78e-ee531f88ad0a",
   "metadata": {},
   "outputs": [],
   "source": [
    "def train(dataloader,model,loss_fn,optimizer):\n",
    "    size=len(dataloader.dataset)\n",
    "    model.train()\n",
    "    for batch, (X,y) in enumerate(dataloader):\n",
    "        X,y=X.to(device),y.to(device)\n",
    "        pred=model(X)\n",
    "        loss=loss_fn(pred,y)\n",
    "        optimizer.zero_grad()\n",
    "        loss.backward()\n",
    "        optimizer.step()\n",
    "\n",
    "        if batch % 100 ==0:\n",
    "            loss,current=loss.item(),batch*len(X)\n",
    "            print(f'loss: {loss:>7f} [{current:>5d}/{size:>5d}]')"
   ]
  },
  {
   "cell_type": "code",
   "execution_count": 9,
   "id": "699a211e-c42d-45f7-81da-5a81490682ac",
   "metadata": {},
   "outputs": [],
   "source": [
    "def test(dataloader,model,loss_fn):\n",
    "    size=len(dataloader.dataset)\n",
    "    num_batches=len(dataloader)\n",
    "    model.eval()\n",
    "    test_loss,correct=0,0\n",
    "    with torch.no_grad():\n",
    "        for X,y  in dataloader:\n",
    "            X,y=X.to(device),y.to(device)\n",
    "            pred=model(X)\n",
    "            test_loss+=loss_fn(pred,y).item()\n",
    "            correct +=(pred.argmax(1)==y).type(torch.float).sum().item()\n",
    "    test_loss/=num_batches\n",
    "    correct/=size\n",
    "    print(f'Test error: \\n Accuracy: {(100*correct):>0.1f}%,Avg loss: {test_loss:>8f} \\n')"
   ]
  },
  {
   "cell_type": "code",
   "execution_count": 10,
   "id": "8f720408-c26a-4fd6-990e-cbb9638f7e19",
   "metadata": {},
   "outputs": [
    {
     "name": "stdout",
     "output_type": "stream",
     "text": [
      "Epoch 1\n",
      "-----------------------------\n",
      "loss: 2.300171 [    0/60000]\n",
      "loss: 2.285322 [ 6400/60000]\n",
      "loss: 2.264427 [12800/60000]\n",
      "loss: 2.263703 [19200/60000]\n",
      "loss: 2.242929 [25600/60000]\n",
      "loss: 2.215430 [32000/60000]\n",
      "loss: 2.223045 [38400/60000]\n",
      "loss: 2.187608 [44800/60000]\n",
      "loss: 2.188494 [51200/60000]\n",
      "loss: 2.145977 [57600/60000]\n",
      "Test error: \n",
      " Accuracy: 45.9%,Avg loss: 2.146471 \n",
      "\n",
      "Epoch 2\n",
      "-----------------------------\n",
      "loss: 2.159333 [    0/60000]\n",
      "loss: 2.143487 [ 6400/60000]\n",
      "loss: 2.083149 [12800/60000]\n",
      "loss: 2.103695 [19200/60000]\n",
      "loss: 2.041400 [25600/60000]\n",
      "loss: 1.986331 [32000/60000]\n",
      "loss: 2.016647 [38400/60000]\n",
      "loss: 1.936800 [44800/60000]\n",
      "loss: 1.945605 [51200/60000]\n",
      "loss: 1.858375 [57600/60000]\n",
      "Test error: \n",
      " Accuracy: 56.9%,Avg loss: 1.863171 \n",
      "\n",
      "Epoch 3\n",
      "-----------------------------\n",
      "loss: 1.905591 [    0/60000]\n",
      "loss: 1.861638 [ 6400/60000]\n",
      "loss: 1.746891 [12800/60000]\n",
      "loss: 1.789962 [19200/60000]\n",
      "loss: 1.668260 [25600/60000]\n",
      "loss: 1.635958 [32000/60000]\n",
      "loss: 1.658018 [38400/60000]\n",
      "loss: 1.571747 [44800/60000]\n",
      "loss: 1.594793 [51200/60000]\n",
      "loss: 1.479176 [57600/60000]\n",
      "Test error: \n",
      " Accuracy: 61.1%,Avg loss: 1.500232 \n",
      "\n",
      "Epoch 4\n",
      "-----------------------------\n",
      "loss: 1.579899 [    0/60000]\n",
      "loss: 1.532454 [ 6400/60000]\n",
      "loss: 1.388093 [12800/60000]\n",
      "loss: 1.454285 [19200/60000]\n",
      "loss: 1.329637 [25600/60000]\n",
      "loss: 1.344078 [32000/60000]\n",
      "loss: 1.349378 [38400/60000]\n",
      "loss: 1.293826 [44800/60000]\n",
      "loss: 1.319341 [51200/60000]\n",
      "loss: 1.214171 [57600/60000]\n",
      "Test error: \n",
      " Accuracy: 63.3%,Avg loss: 1.240848 \n",
      "\n",
      "Epoch 5\n",
      "-----------------------------\n",
      "loss: 1.326946 [    0/60000]\n",
      "loss: 1.302359 [ 6400/60000]\n",
      "loss: 1.139164 [12800/60000]\n",
      "loss: 1.240626 [19200/60000]\n",
      "loss: 1.110647 [25600/60000]\n",
      "loss: 1.150611 [32000/60000]\n",
      "loss: 1.159559 [38400/60000]\n",
      "loss: 1.120789 [44800/60000]\n",
      "loss: 1.148804 [51200/60000]\n",
      "loss: 1.060035 [57600/60000]\n",
      "Test error: \n",
      " Accuracy: 64.9%,Avg loss: 1.081639 \n",
      "\n",
      "Done!\n"
     ]
    }
   ],
   "source": [
    "epochs=5\n",
    "for e in range(epochs):\n",
    "    print(f'Epoch {e+1}\\n-----------------------------')\n",
    "    train(train_dataloader,model,loss_fn,optimizer)\n",
    "    test(test_dataloader,model,loss_fn)\n",
    "print('Done!')"
   ]
  },
  {
   "cell_type": "code",
   "execution_count": 11,
   "id": "9b3ddaf9-dece-45a0-abe2-a46aaae0286e",
   "metadata": {},
   "outputs": [
    {
     "name": "stdout",
     "output_type": "stream",
     "text": [
      "Saved Pytorch model state to model.pth\n"
     ]
    }
   ],
   "source": [
    "torch.save(model.state_dict(),'model.pth')\n",
    "print('Saved Pytorch model state to model.pth')"
   ]
  },
  {
   "cell_type": "code",
   "execution_count": 12,
   "id": "6110a043-116c-45dd-9fdf-b7eb919a267c",
   "metadata": {},
   "outputs": [
    {
     "data": {
      "text/plain": [
       "<All keys matched successfully>"
      ]
     },
     "execution_count": 12,
     "metadata": {},
     "output_type": "execute_result"
    }
   ],
   "source": [
    "model=NeuralNetwork()\n",
    "model.load_state_dict(torch.load('model.pth'))"
   ]
  },
  {
   "cell_type": "code",
   "execution_count": 16,
   "id": "12ce0513-d43b-41d4-a13b-1c7c76af8d1b",
   "metadata": {},
   "outputs": [
    {
     "name": "stdout",
     "output_type": "stream",
     "text": [
      "Predicted: \"Ankle boot\",Actual: \"Ankle boot\"\n"
     ]
    }
   ],
   "source": [
    "classes=[\n",
    "    'T-shirt/top',\n",
    "    'Trouser',\n",
    "    'Pullover',\n",
    "    'Dress',\n",
    "    'Coat',\n",
    "    'Sandal',\n",
    "    'Shirt',\n",
    "    'Sneaker',\n",
    "    'Bag',\n",
    "    'Ankle boot'\n",
    "]\n",
    "\n",
    "model.eval()\n",
    "x,y=test_data[0][0],test_data[0][1]\n",
    "with torch.no_grad():\n",
    "    pred=model(x)\n",
    "    predicted,actual=classes[pred[0].argmax(0)],classes[y]\n",
    "    print(f'Predicted: \"{predicted}\",Actual: \"{actual}\"')"
   ]
  },
  {
   "cell_type": "code",
   "execution_count": null,
   "id": "795ec9a4-5f10-4d5f-b863-6b8194d32825",
   "metadata": {},
   "outputs": [],
   "source": []
  }
 ],
 "metadata": {
  "kernelspec": {
   "display_name": "Python 3 (ipykernel)",
   "language": "python",
   "name": "python3"
  },
  "language_info": {
   "codemirror_mode": {
    "name": "ipython",
    "version": 3
   },
   "file_extension": ".py",
   "mimetype": "text/x-python",
   "name": "python",
   "nbconvert_exporter": "python",
   "pygments_lexer": "ipython3",
   "version": "3.11.7"
  }
 },
 "nbformat": 4,
 "nbformat_minor": 5
}
