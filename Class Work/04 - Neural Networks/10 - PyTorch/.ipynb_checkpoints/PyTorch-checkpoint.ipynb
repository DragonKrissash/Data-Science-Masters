{
 "cells": [
  {
   "cell_type": "code",
   "execution_count": 1,
   "id": "1dbf4881-4c43-4e9d-9851-75c05ce3c586",
   "metadata": {},
   "outputs": [
    {
     "data": {
      "text/plain": [
       "True"
      ]
     },
     "execution_count": 1,
     "metadata": {},
     "output_type": "execute_result"
    }
   ],
   "source": [
    "import torch\n",
    "torch.cuda.is_available()"
   ]
  },
  {
   "cell_type": "code",
   "execution_count": 2,
   "id": "012ae862-4d06-40de-bcbd-af473c07c60e",
   "metadata": {},
   "outputs": [
    {
     "name": "stdout",
     "output_type": "stream",
     "text": [
      "tensor([[0.9236, 0.5689, 0.7471],\n",
      "        [0.6474, 0.9527, 0.6517],\n",
      "        [0.0811, 0.4574, 0.6367],\n",
      "        [0.3199, 0.5111, 0.6050],\n",
      "        [0.6357, 0.9253, 0.6854]])\n"
     ]
    }
   ],
   "source": [
    "x = torch.rand(5, 3)\n",
    "print(x)"
   ]
  },
  {
   "cell_type": "code",
   "execution_count": 3,
   "id": "2514b3b2-ff05-4511-8958-dde967b71534",
   "metadata": {},
   "outputs": [],
   "source": [
    "t1=torch.tensor(4.)"
   ]
  },
  {
   "cell_type": "code",
   "execution_count": 4,
   "id": "3786bbfa-7ea5-4675-9a1b-24764778f014",
   "metadata": {},
   "outputs": [
    {
     "data": {
      "text/plain": [
       "tensor(4.)"
      ]
     },
     "execution_count": 4,
     "metadata": {},
     "output_type": "execute_result"
    }
   ],
   "source": [
    "t1"
   ]
  },
  {
   "cell_type": "code",
   "execution_count": 6,
   "id": "a923e7f5-4ead-4cfd-a7f5-ff93c235f4c2",
   "metadata": {},
   "outputs": [],
   "source": [
    "t2=torch.tensor([1.,2.,3.,4])"
   ]
  },
  {
   "cell_type": "code",
   "execution_count": 8,
   "id": "bd1a0b86-ec30-4c3b-80ac-7e1cdb5f96dd",
   "metadata": {},
   "outputs": [
    {
     "data": {
      "text/plain": [
       "tensor([1., 2., 3., 4.])"
      ]
     },
     "execution_count": 8,
     "metadata": {},
     "output_type": "execute_result"
    }
   ],
   "source": [
    "t2"
   ]
  },
  {
   "cell_type": "code",
   "execution_count": 13,
   "id": "57cda01d-a82d-4a5d-a145-236cd558769c",
   "metadata": {},
   "outputs": [
    {
     "data": {
      "text/plain": [
       "torch.Size([4])"
      ]
     },
     "execution_count": 13,
     "metadata": {},
     "output_type": "execute_result"
    }
   ],
   "source": [
    "t2.shape"
   ]
  },
  {
   "cell_type": "code",
   "execution_count": 15,
   "id": "c182db8e-732f-4c33-a130-6800c3394d00",
   "metadata": {},
   "outputs": [
    {
     "data": {
      "text/plain": [
       "(tensor(3.), tensor(4., requires_grad=True), tensor(5., requires_grad=True))"
      ]
     },
     "execution_count": 15,
     "metadata": {},
     "output_type": "execute_result"
    }
   ],
   "source": [
    "x=torch.tensor(3.)\n",
    "w=torch.tensor(4.,requires_grad=True)\n",
    "b=torch.tensor(5.,requires_grad=True)\n",
    "x,w,b"
   ]
  },
  {
   "cell_type": "code",
   "execution_count": 16,
   "id": "b040f6f6-585d-4a56-90d1-5afc57022c40",
   "metadata": {},
   "outputs": [],
   "source": [
    "y=w*x+b"
   ]
  },
  {
   "cell_type": "code",
   "execution_count": 17,
   "id": "68d6fb01-9c21-40da-8b1b-a2d8509e5fa9",
   "metadata": {},
   "outputs": [
    {
     "data": {
      "text/plain": [
       "tensor(17., grad_fn=<AddBackward0>)"
      ]
     },
     "execution_count": 17,
     "metadata": {},
     "output_type": "execute_result"
    }
   ],
   "source": [
    "y"
   ]
  },
  {
   "cell_type": "markdown",
   "id": "122b05d0-ef30-4f62-83d5-6d8451e277e5",
   "metadata": {},
   "source": [
    "### What makes pytorch unique is that we can automatically computer the derivative of y wrt the tensors that have requires_grad to true "
   ]
  },
  {
   "cell_type": "code",
   "execution_count": 18,
   "id": "c9386ca5-046e-4e21-b4b7-f0a8b7201574",
   "metadata": {},
   "outputs": [],
   "source": [
    "y.backward()"
   ]
  },
  {
   "cell_type": "code",
   "execution_count": 19,
   "id": "ac29d8f6-11d8-4122-9619-f7f004b622c5",
   "metadata": {},
   "outputs": [
    {
     "name": "stdout",
     "output_type": "stream",
     "text": [
      "dy/dx None\n"
     ]
    }
   ],
   "source": [
    "print('dy/dx',x.grad)"
   ]
  },
  {
   "cell_type": "code",
   "execution_count": 20,
   "id": "c36daa28-0852-474b-bbe7-32b17f65b09e",
   "metadata": {},
   "outputs": [
    {
     "name": "stdout",
     "output_type": "stream",
     "text": [
      "dy/dw tensor(3.)\n"
     ]
    }
   ],
   "source": [
    "print('dy/dw',w.grad)"
   ]
  },
  {
   "cell_type": "code",
   "execution_count": 21,
   "id": "a578dbe3-cd6e-49f7-a6ab-81813a63e1a8",
   "metadata": {},
   "outputs": [
    {
     "name": "stdout",
     "output_type": "stream",
     "text": [
      "dy/db tensor(1.)\n"
     ]
    }
   ],
   "source": [
    "print('dy/db',b.grad)"
   ]
  },
  {
   "cell_type": "code",
   "execution_count": 22,
   "id": "2402bd14-e98a-4862-a7af-f47a6dc71ebb",
   "metadata": {},
   "outputs": [],
   "source": [
    "t6=torch.full((3,2),42)"
   ]
  },
  {
   "cell_type": "code",
   "execution_count": 23,
   "id": "d555e08b-1d28-4bfa-90bc-8acbadcb0bfd",
   "metadata": {},
   "outputs": [
    {
     "data": {
      "text/plain": [
       "tensor([[42, 42],\n",
       "        [42, 42],\n",
       "        [42, 42]])"
      ]
     },
     "execution_count": 23,
     "metadata": {},
     "output_type": "execute_result"
    }
   ],
   "source": [
    "t6"
   ]
  },
  {
   "cell_type": "code",
   "execution_count": 25,
   "id": "5fd5ae0a-371b-434c-bea5-c58bdb881fd2",
   "metadata": {},
   "outputs": [],
   "source": [
    "t3=torch.tensor([[5.,6.],[7.,8.],[9.,10.]])"
   ]
  },
  {
   "cell_type": "code",
   "execution_count": 26,
   "id": "46726b8f-2c80-4a11-9a7d-6fccf6226995",
   "metadata": {},
   "outputs": [
    {
     "data": {
      "text/plain": [
       "tensor([[ 5.,  6.],\n",
       "        [ 7.,  8.],\n",
       "        [ 9., 10.]])"
      ]
     },
     "execution_count": 26,
     "metadata": {},
     "output_type": "execute_result"
    }
   ],
   "source": [
    "t3"
   ]
  },
  {
   "cell_type": "code",
   "execution_count": 27,
   "id": "b2707a41-d83c-4fd3-87e0-6d668056a830",
   "metadata": {},
   "outputs": [],
   "source": [
    "t7=torch.cat((t3,t6))"
   ]
  },
  {
   "cell_type": "code",
   "execution_count": 28,
   "id": "4b617268-4bc4-484e-b0a6-a66b60802854",
   "metadata": {},
   "outputs": [
    {
     "data": {
      "text/plain": [
       "tensor([[ 5.,  6.],\n",
       "        [ 7.,  8.],\n",
       "        [ 9., 10.],\n",
       "        [42., 42.],\n",
       "        [42., 42.],\n",
       "        [42., 42.]])"
      ]
     },
     "execution_count": 28,
     "metadata": {},
     "output_type": "execute_result"
    }
   ],
   "source": [
    "t7"
   ]
  },
  {
   "cell_type": "code",
   "execution_count": 29,
   "id": "ca441430-cf4d-4345-adb5-2cebf259b98d",
   "metadata": {},
   "outputs": [],
   "source": [
    "t8=torch.sin(t7)"
   ]
  },
  {
   "cell_type": "code",
   "execution_count": 30,
   "id": "8b333dc7-82fc-433a-94af-99a62c220e4e",
   "metadata": {},
   "outputs": [
    {
     "data": {
      "text/plain": [
       "tensor([[-0.9589, -0.2794],\n",
       "        [ 0.6570,  0.9894],\n",
       "        [ 0.4121, -0.5440],\n",
       "        [-0.9165, -0.9165],\n",
       "        [-0.9165, -0.9165],\n",
       "        [-0.9165, -0.9165]])"
      ]
     },
     "execution_count": 30,
     "metadata": {},
     "output_type": "execute_result"
    }
   ],
   "source": [
    "t8"
   ]
  },
  {
   "cell_type": "code",
   "execution_count": 31,
   "id": "f40c7551-5146-4342-b24a-a25615a65ae9",
   "metadata": {},
   "outputs": [],
   "source": [
    "t9=t8.reshape(3,2,2)"
   ]
  },
  {
   "cell_type": "code",
   "execution_count": 32,
   "id": "b33886ad-00c9-4812-bf1c-0130c110d5e2",
   "metadata": {},
   "outputs": [
    {
     "data": {
      "text/plain": [
       "tensor([[[-0.9589, -0.2794],\n",
       "         [ 0.6570,  0.9894]],\n",
       "\n",
       "        [[ 0.4121, -0.5440],\n",
       "         [-0.9165, -0.9165]],\n",
       "\n",
       "        [[-0.9165, -0.9165],\n",
       "         [-0.9165, -0.9165]]])"
      ]
     },
     "execution_count": 32,
     "metadata": {},
     "output_type": "execute_result"
    }
   ],
   "source": [
    "t9"
   ]
  },
  {
   "cell_type": "code",
   "execution_count": 33,
   "id": "81a24ef1-2f35-4cc5-b41f-bbe7b14c96b1",
   "metadata": {},
   "outputs": [],
   "source": [
    "import numpy as np"
   ]
  },
  {
   "cell_type": "code",
   "execution_count": 34,
   "id": "d41b1d21-1a37-4939-b88b-4ab227ec2303",
   "metadata": {},
   "outputs": [],
   "source": [
    "x=np.array([[1.,2.],[3.,4.]])"
   ]
  },
  {
   "cell_type": "code",
   "execution_count": 35,
   "id": "6e316662-9c18-4349-b0d0-41dcf7a1f004",
   "metadata": {},
   "outputs": [],
   "source": [
    "y=torch.from_numpy(x)"
   ]
  },
  {
   "cell_type": "code",
   "execution_count": 36,
   "id": "d2b6519c-9382-4ece-9d6e-47040c1d4b50",
   "metadata": {},
   "outputs": [
    {
     "data": {
      "text/plain": [
       "tensor([[1., 2.],\n",
       "        [3., 4.]], dtype=torch.float64)"
      ]
     },
     "execution_count": 36,
     "metadata": {},
     "output_type": "execute_result"
    }
   ],
   "source": [
    "y"
   ]
  },
  {
   "cell_type": "code",
   "execution_count": 38,
   "id": "135c95db-e941-410d-8776-8c1bd87f7fc1",
   "metadata": {},
   "outputs": [],
   "source": [
    "inputs=np.array([[73,67,43],\n",
    "                 [91,88,64],\n",
    "                 [87,134,58],\n",
    "                 [102,43,37],\n",
    "                 [69,96,70]],dtype='float32')"
   ]
  },
  {
   "cell_type": "code",
   "execution_count": 39,
   "id": "9e6c28ce-0f48-4397-a966-a1b3e43f01de",
   "metadata": {},
   "outputs": [],
   "source": [
    "target=np.array([[56,70],\n",
    "                [81,101],\n",
    "                [119,133],\n",
    "                [22,37],\n",
    "                [103,119]],dtype='float32')"
   ]
  },
  {
   "cell_type": "code",
   "execution_count": 40,
   "id": "c08bf41c-e573-4dcf-ba81-9fc0d96e8100",
   "metadata": {},
   "outputs": [],
   "source": [
    "inputs=torch.from_numpy(inputs)\n",
    "target=torch.from_numpy(target)"
   ]
  },
  {
   "cell_type": "code",
   "execution_count": 41,
   "id": "4fe98b72-82c7-4fef-8608-783908ce9024",
   "metadata": {},
   "outputs": [
    {
     "name": "stdout",
     "output_type": "stream",
     "text": [
      "tensor([[ 73.,  67.,  43.],\n",
      "        [ 91.,  88.,  64.],\n",
      "        [ 87., 134.,  58.],\n",
      "        [102.,  43.,  37.],\n",
      "        [ 69.,  96.,  70.]]) \n",
      " tensor([[ 56.,  70.],\n",
      "        [ 81., 101.],\n",
      "        [119., 133.],\n",
      "        [ 22.,  37.],\n",
      "        [103., 119.]])\n"
     ]
    }
   ],
   "source": [
    "print(inputs,'\\n',target)"
   ]
  },
  {
   "cell_type": "code",
   "execution_count": 42,
   "id": "2ecad1d3-1f62-40fe-9361-796f0992aa38",
   "metadata": {},
   "outputs": [],
   "source": [
    "#initialise weights and bias"
   ]
  },
  {
   "cell_type": "code",
   "execution_count": 44,
   "id": "be726e2d-2a06-47cd-a914-9539aac1671a",
   "metadata": {},
   "outputs": [],
   "source": [
    "w=torch.randn(2,3,requires_grad=True)\n",
    "b=torch.randn(2,requires_grad=True)"
   ]
  },
  {
   "cell_type": "code",
   "execution_count": 45,
   "id": "cbfdd0e3-9606-4f55-b1aa-b40e707d5007",
   "metadata": {},
   "outputs": [],
   "source": [
    "def model(x):\n",
    "    return x@w.t()+b"
   ]
  },
  {
   "cell_type": "code",
   "execution_count": 46,
   "id": "a7e480c2-6e03-4f45-a04a-c2b4235c218d",
   "metadata": {},
   "outputs": [],
   "source": [
    "preds=model(inputs)"
   ]
  },
  {
   "cell_type": "code",
   "execution_count": 47,
   "id": "15fffee2-fb34-4384-9bcb-5074e4bdbb2b",
   "metadata": {},
   "outputs": [
    {
     "data": {
      "text/plain": [
       "tensor([[127.5956, -34.9925],\n",
       "        [178.4195, -41.9594],\n",
       "        [137.6903, -55.4528],\n",
       "        [155.9166, -41.2214],\n",
       "        [165.3506, -33.8565]], grad_fn=<AddBackward0>)"
      ]
     },
     "execution_count": 47,
     "metadata": {},
     "output_type": "execute_result"
    }
   ],
   "source": [
    "preds"
   ]
  },
  {
   "cell_type": "code",
   "execution_count": 48,
   "id": "793a78cd-0c3b-4211-aaca-e152046de654",
   "metadata": {},
   "outputs": [],
   "source": [
    "def MSE(actual,target):\n",
    "    diff=actual-target\n",
    "    return torch.sum(diff*diff)/diff.numel()"
   ]
  },
  {
   "cell_type": "code",
   "execution_count": 49,
   "id": "308e839a-bca9-4884-b549-069f099576da",
   "metadata": {},
   "outputs": [],
   "source": [
    "loss=MSE(target,preds)"
   ]
  },
  {
   "cell_type": "code",
   "execution_count": 50,
   "id": "17c6c12d-f4ad-4f77-94cb-8f8798e11028",
   "metadata": {},
   "outputs": [
    {
     "data": {
      "text/plain": [
       "tensor(13324.6074, grad_fn=<DivBackward0>)"
      ]
     },
     "execution_count": 50,
     "metadata": {},
     "output_type": "execute_result"
    }
   ],
   "source": [
    "loss"
   ]
  },
  {
   "cell_type": "code",
   "execution_count": 51,
   "id": "ecb24df0-a5a8-4f03-b97a-de940ad18b1b",
   "metadata": {},
   "outputs": [],
   "source": [
    "loss.backward()"
   ]
  },
  {
   "cell_type": "code",
   "execution_count": 52,
   "id": "94d4a15e-f9c2-4841-8adc-81259a97d78c",
   "metadata": {},
   "outputs": [
    {
     "name": "stdout",
     "output_type": "stream",
     "text": [
      "tensor([[ 0.9778, -0.5255,  2.1076],\n",
      "        [-0.3932, -0.2891,  0.2944]], requires_grad=True) \n",
      "\n",
      "tensor([[  6735.8799,   5523.6802,   3943.3918],\n",
      "        [-11118.9668, -12581.0703,  -7637.6987]])\n"
     ]
    }
   ],
   "source": [
    "print(w,'\\n')\n",
    "print(w.grad)"
   ]
  },
  {
   "cell_type": "code",
   "execution_count": 55,
   "id": "1ef64709-88c3-482d-a39a-86b2f8b60dc1",
   "metadata": {},
   "outputs": [
    {
     "data": {
      "text/plain": [
       "tensor([0., 0.])"
      ]
     },
     "execution_count": 55,
     "metadata": {},
     "output_type": "execute_result"
    }
   ],
   "source": [
    "w.grad.zero_()\n",
    "b.grad.zero_()"
   ]
  },
  {
   "cell_type": "code",
   "execution_count": 56,
   "id": "4721c087-fb19-499f-aedf-ac2f29fff926",
   "metadata": {},
   "outputs": [],
   "source": [
    "preds=model(inputs)"
   ]
  },
  {
   "cell_type": "code",
   "execution_count": 58,
   "id": "274d8ab1-f11c-46ef-b3a6-7bd6214bb283",
   "metadata": {},
   "outputs": [],
   "source": [
    "loss=MSE(target,preds)"
   ]
  },
  {
   "cell_type": "code",
   "execution_count": 59,
   "id": "8ae41d62-c8a4-4f37-b2a1-9d7689db4c2a",
   "metadata": {},
   "outputs": [],
   "source": [
    "loss.backward()"
   ]
  },
  {
   "cell_type": "code",
   "execution_count": 60,
   "id": "1d4a4e71-abe5-4225-b48a-4174125e4543",
   "metadata": {},
   "outputs": [],
   "source": [
    "with torch.no_grad():\n",
    "    w-=w.grad*1e-5\n",
    "    b-=b.grad*1e-5\n",
    "    w.grad.zero_()\n",
    "    b.grad.zero_()"
   ]
  },
  {
   "cell_type": "code",
   "execution_count": 61,
   "id": "3bcfefb7-8f0f-4859-a8c3-3599d5e70ecf",
   "metadata": {},
   "outputs": [
    {
     "name": "stdout",
     "output_type": "stream",
     "text": [
      "tensor([[ 0.9104, -0.5807,  2.0682],\n",
      "        [-0.2820, -0.1633,  0.3707]], requires_grad=True)\n"
     ]
    }
   ],
   "source": [
    "print(w)"
   ]
  },
  {
   "cell_type": "code",
   "execution_count": 62,
   "id": "d80a0de9-0a1b-4c17-a0cc-33c4a83c4458",
   "metadata": {},
   "outputs": [
    {
     "data": {
      "text/plain": [
       "tensor(9392.7812, grad_fn=<DivBackward0>)"
      ]
     },
     "execution_count": 62,
     "metadata": {},
     "output_type": "execute_result"
    }
   ],
   "source": [
    "preds=model(inputs)\n",
    "MSE(target,preds)"
   ]
  },
  {
   "cell_type": "code",
   "execution_count": 64,
   "id": "f9d267d2-4099-4b8b-ba28-77005ff68b03",
   "metadata": {},
   "outputs": [
    {
     "name": "stdout",
     "output_type": "stream",
     "text": [
      "Epochs(0/100) & Loss: 9392.78125\n",
      "Epochs(1/100) & Loss: 6738.3251953125\n",
      "Epochs(2/100) & Loss: 4944.7275390625\n",
      "Epochs(3/100) & Loss: 3731.311767578125\n",
      "Epochs(4/100) & Loss: 2908.931640625\n",
      "Epochs(5/100) & Loss: 2350.122802734375\n",
      "Epochs(6/100) & Loss: 1968.988037109375\n",
      "Epochs(7/100) & Loss: 1707.6431884765625\n",
      "Epochs(8/100) & Loss: 1527.077880859375\n",
      "Epochs(9/100) & Loss: 1401.005615234375\n",
      "Epochs(10/100) & Loss: 1311.709228515625\n",
      "Epochs(11/100) & Loss: 1247.250244140625\n",
      "Epochs(12/100) & Loss: 1199.581787109375\n",
      "Epochs(13/100) & Loss: 1163.281494140625\n",
      "Epochs(14/100) & Loss: 1134.69384765625\n",
      "Epochs(15/100) & Loss: 1111.355224609375\n",
      "Epochs(16/100) & Loss: 1091.6046142578125\n",
      "Epochs(17/100) & Loss: 1074.3216552734375\n",
      "Epochs(18/100) & Loss: 1058.751708984375\n",
      "Epochs(19/100) & Loss: 1044.384521484375\n",
      "Epochs(20/100) & Loss: 1030.87646484375\n",
      "Epochs(21/100) & Loss: 1017.9951171875\n",
      "Epochs(22/100) & Loss: 1005.5826416015625\n",
      "Epochs(23/100) & Loss: 993.533203125\n",
      "Epochs(24/100) & Loss: 981.77392578125\n",
      "Epochs(25/100) & Loss: 970.2555541992188\n",
      "Epochs(26/100) & Loss: 958.9443359375\n",
      "Epochs(27/100) & Loss: 947.8170166015625\n",
      "Epochs(28/100) & Loss: 936.8570556640625\n",
      "Epochs(29/100) & Loss: 926.052734375\n",
      "Epochs(30/100) & Loss: 915.3961181640625\n",
      "Epochs(31/100) & Loss: 904.8807373046875\n",
      "Epochs(32/100) & Loss: 894.5025634765625\n",
      "Epochs(33/100) & Loss: 884.2572021484375\n",
      "Epochs(34/100) & Loss: 874.14208984375\n",
      "Epochs(35/100) & Loss: 864.1546630859375\n",
      "Epochs(36/100) & Loss: 854.29248046875\n",
      "Epochs(37/100) & Loss: 844.5535888671875\n",
      "Epochs(38/100) & Loss: 834.9364013671875\n",
      "Epochs(39/100) & Loss: 825.4392700195312\n",
      "Epochs(40/100) & Loss: 816.0601806640625\n",
      "Epochs(41/100) & Loss: 806.7978515625\n",
      "Epochs(42/100) & Loss: 797.6505126953125\n",
      "Epochs(43/100) & Loss: 788.6168212890625\n",
      "Epochs(44/100) & Loss: 779.6954345703125\n",
      "Epochs(45/100) & Loss: 770.8848266601562\n",
      "Epochs(46/100) & Loss: 762.1834716796875\n",
      "Epochs(47/100) & Loss: 753.5904541015625\n",
      "Epochs(48/100) & Loss: 745.1035766601562\n",
      "Epochs(49/100) & Loss: 736.7222290039062\n",
      "Epochs(50/100) & Loss: 728.4447021484375\n",
      "Epochs(51/100) & Loss: 720.2698364257812\n",
      "Epochs(52/100) & Loss: 712.1964111328125\n",
      "Epochs(53/100) & Loss: 704.2230834960938\n",
      "Epochs(54/100) & Loss: 696.3483276367188\n",
      "Epochs(55/100) & Loss: 688.5713500976562\n",
      "Epochs(56/100) & Loss: 680.890380859375\n",
      "Epochs(57/100) & Loss: 673.3046875\n",
      "Epochs(58/100) & Loss: 665.8128051757812\n",
      "Epochs(59/100) & Loss: 658.4139404296875\n",
      "Epochs(60/100) & Loss: 651.1065673828125\n",
      "Epochs(61/100) & Loss: 643.8894653320312\n",
      "Epochs(62/100) & Loss: 636.7615966796875\n",
      "Epochs(63/100) & Loss: 629.7219848632812\n",
      "Epochs(64/100) & Loss: 622.7693481445312\n",
      "Epochs(65/100) & Loss: 615.9026489257812\n",
      "Epochs(66/100) & Loss: 609.120849609375\n",
      "Epochs(67/100) & Loss: 602.4227294921875\n",
      "Epochs(68/100) & Loss: 595.8074951171875\n",
      "Epochs(69/100) & Loss: 589.2739868164062\n",
      "Epochs(70/100) & Loss: 582.8211059570312\n",
      "Epochs(71/100) & Loss: 576.4478759765625\n",
      "Epochs(72/100) & Loss: 570.1531982421875\n",
      "Epochs(73/100) & Loss: 563.936279296875\n",
      "Epochs(74/100) & Loss: 557.7960205078125\n",
      "Epochs(75/100) & Loss: 551.7315063476562\n",
      "Epochs(76/100) & Loss: 545.74169921875\n",
      "Epochs(77/100) & Loss: 539.82568359375\n",
      "Epochs(78/100) & Loss: 533.9826049804688\n",
      "Epochs(79/100) & Loss: 528.2116088867188\n",
      "Epochs(80/100) & Loss: 522.5115966796875\n",
      "Epochs(81/100) & Loss: 516.8817138671875\n",
      "Epochs(82/100) & Loss: 511.3211975097656\n",
      "Epochs(83/100) & Loss: 505.8291015625\n",
      "Epochs(84/100) & Loss: 500.404541015625\n",
      "Epochs(85/100) & Loss: 495.0467224121094\n",
      "Epochs(86/100) & Loss: 489.7547302246094\n",
      "Epochs(87/100) & Loss: 484.5279846191406\n",
      "Epochs(88/100) & Loss: 479.36529541015625\n",
      "Epochs(89/100) & Loss: 474.26593017578125\n",
      "Epochs(90/100) & Loss: 469.2293395996094\n",
      "Epochs(91/100) & Loss: 464.25457763671875\n",
      "Epochs(92/100) & Loss: 459.3408203125\n",
      "Epochs(93/100) & Loss: 454.4873962402344\n",
      "Epochs(94/100) & Loss: 449.69354248046875\n",
      "Epochs(95/100) & Loss: 444.9584045410156\n",
      "Epochs(96/100) & Loss: 440.2813415527344\n",
      "Epochs(97/100) & Loss: 435.661376953125\n",
      "Epochs(98/100) & Loss: 431.09832763671875\n",
      "Epochs(99/100) & Loss: 426.591064453125\n"
     ]
    }
   ],
   "source": [
    "for i in range(100):\n",
    "    preds=model(inputs)\n",
    "    loss=MSE(target,preds)\n",
    "    loss.backward()\n",
    "    with torch.no_grad():\n",
    "        w-=w.grad*1e-5\n",
    "        b-=b.grad*1e-5\n",
    "        w.grad.zero_()\n",
    "        b.grad.zero_()\n",
    "    print(f'Epochs({i}/100) & Loss: {loss}')"
   ]
  },
  {
   "cell_type": "code",
   "execution_count": 65,
   "id": "f2b34cbf-6956-4a15-9935-2ecf2d682383",
   "metadata": {},
   "outputs": [
    {
     "data": {
      "text/plain": [
       "tensor([[ 63.8344,  73.3684],\n",
       "        [ 97.2585, 101.9167],\n",
       "        [ 73.7418, 125.2064],\n",
       "        [ 60.1371,  54.2979],\n",
       "        [105.4699, 111.3053]], grad_fn=<AddBackward0>)"
      ]
     },
     "execution_count": 65,
     "metadata": {},
     "output_type": "execute_result"
    }
   ],
   "source": [
    "preds"
   ]
  },
  {
   "cell_type": "code",
   "execution_count": 66,
   "id": "68524657-6a6b-4ce2-9895-41e2508fb73c",
   "metadata": {},
   "outputs": [
    {
     "data": {
      "text/plain": [
       "tensor([[ 56.,  70.],\n",
       "        [ 81., 101.],\n",
       "        [119., 133.],\n",
       "        [ 22.,  37.],\n",
       "        [103., 119.]])"
      ]
     },
     "execution_count": 66,
     "metadata": {},
     "output_type": "execute_result"
    }
   ],
   "source": [
    "target"
   ]
  },
  {
   "cell_type": "code",
   "execution_count": 67,
   "id": "8fd78705-eb62-4ce6-bbfd-647b63894904",
   "metadata": {},
   "outputs": [],
   "source": []
  },
  {
   "cell_type": "code",
   "execution_count": null,
   "id": "0ba8fd3f-27ff-45f9-956c-e3ce1c857069",
   "metadata": {},
   "outputs": [],
   "source": []
  }
 ],
 "metadata": {
  "kernelspec": {
   "display_name": "Python 3 (ipykernel)",
   "language": "python",
   "name": "python3"
  },
  "language_info": {
   "codemirror_mode": {
    "name": "ipython",
    "version": 3
   },
   "file_extension": ".py",
   "mimetype": "text/x-python",
   "name": "python",
   "nbconvert_exporter": "python",
   "pygments_lexer": "ipython3",
   "version": "3.11.7"
  }
 },
 "nbformat": 4,
 "nbformat_minor": 5
}
