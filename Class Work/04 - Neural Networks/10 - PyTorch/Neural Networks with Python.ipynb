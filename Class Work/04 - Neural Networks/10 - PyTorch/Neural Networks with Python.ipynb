{
 "cells": [
  {
   "cell_type": "markdown",
   "id": "47fdb268-9861-4b54-a14e-75aed912fc68",
   "metadata": {},
   "source": [
    "# Neural network with pytorch"
   ]
  },
  {
   "cell_type": "code",
   "execution_count": 4,
   "id": "ec8983e3-3563-4627-b371-a6011c55bf51",
   "metadata": {},
   "outputs": [
    {
     "name": "stdout",
     "output_type": "stream",
     "text": [
      "Sat Apr  6 13:09:41 2024       \n",
      "+-----------------------------------------------------------------------------------------+\n",
      "| NVIDIA-SMI 551.78                 Driver Version: 551.78         CUDA Version: 12.4     |\n",
      "|-----------------------------------------+------------------------+----------------------+\n",
      "| GPU  Name                     TCC/WDDM  | Bus-Id          Disp.A | Volatile Uncorr. ECC |\n",
      "| Fan  Temp   Perf          Pwr:Usage/Cap |           Memory-Usage | GPU-Util  Compute M. |\n",
      "|                                         |                        |               MIG M. |\n",
      "|=========================================+========================+======================|\n",
      "|   0  NVIDIA GeForce GTX 1650      WDDM  |   00000000:01:00.0 Off |                  N/A |\n",
      "| N/A   56C    P8              3W /   50W |       0MiB /   4096MiB |      0%      Default |\n",
      "|                                         |                        |                  N/A |\n",
      "+-----------------------------------------+------------------------+----------------------+\n",
      "                                                                                         \n",
      "+-----------------------------------------------------------------------------------------+\n",
      "| Processes:                                                                              |\n",
      "|  GPU   GI   CI        PID   Type   Process name                              GPU Memory |\n",
      "|        ID   ID                                                               Usage      |\n",
      "|=========================================================================================|\n",
      "|  No running processes found                                                             |\n",
      "+-----------------------------------------------------------------------------------------+\n"
     ]
    }
   ],
   "source": [
    "!nvidia-smi"
   ]
  },
  {
   "cell_type": "code",
   "execution_count": 5,
   "id": "cb30d25e-c7da-4293-b545-56a4a3ed8af3",
   "metadata": {},
   "outputs": [],
   "source": [
    "import torch\n",
    "from torch import nn\n",
    "from torch.utils.data import DataLoader\n",
    "from torchvision import datasets\n",
    "from torchvision.transforms import ToTensor,Lambda,Compose\n",
    "import matplotlib.pyplot as plt"
   ]
  },
  {
   "cell_type": "code",
   "execution_count": 8,
   "id": "f0fdda59-399b-4583-a1eb-441ab75cd46b",
   "metadata": {},
   "outputs": [],
   "source": [
    "train_data=datasets.FashionMNIST(\n",
    "    root='data',\n",
    "    train=True,\n",
    "    download=True,\n",
    "    transform=ToTensor(),\n",
    ")\n",
    "test_data=datasets.FashionMNIST(\n",
    "    root='data',\n",
    "    train=False,\n",
    "    download=True,\n",
    "    transform=ToTensor()\n",
    ")"
   ]
  },
  {
   "cell_type": "code",
   "execution_count": 10,
   "id": "06130d99-aca5-4318-a7b2-fc53c0e826dd",
   "metadata": {},
   "outputs": [
    {
     "name": "stdout",
     "output_type": "stream",
     "text": [
      "Shape of X [N,C,H,W]:  torch.Size([64, 1, 28, 28])\n",
      "Shape of y:  torch.Size([64]) torch.int64\n"
     ]
    }
   ],
   "source": [
    "train_dataloader=DataLoader(train_data,batch_size=64)\n",
    "test_dataloader=DataLoader(test_data,batch_size=64)\n",
    "for X,y in test_dataloader:\n",
    "    print('Shape of X [N,C,H,W]: ',X.shape )\n",
    "    print('Shape of y: ',y.shape,y.dtype)\n",
    "    break"
   ]
  },
  {
   "cell_type": "code",
   "execution_count": 13,
   "id": "5b90cc08-58ef-4cd9-a99f-13de146c8733",
   "metadata": {},
   "outputs": [],
   "source": [
    "device='cuda' if torch.cuda.is_available() else 'cpu'"
   ]
  },
  {
   "cell_type": "code",
   "execution_count": 14,
   "id": "f9a651cb-9c6d-4150-b8f0-80a2d81c6a5d",
   "metadata": {},
   "outputs": [
    {
     "name": "stdout",
     "output_type": "stream",
     "text": [
      "NeuralNetwork(\n",
      "  (flatten): Flatten(start_dim=1, end_dim=-1)\n",
      "  (linear_relu_stack): Sequential(\n",
      "    (0): Linear(in_features=784, out_features=512, bias=True)\n",
      "    (1): ReLU()\n",
      "    (2): Linear(in_features=512, out_features=512, bias=True)\n",
      "    (3): ReLU()\n",
      "    (4): Linear(in_features=512, out_features=10, bias=True)\n",
      "  )\n",
      ")\n"
     ]
    }
   ],
   "source": [
    "class NeuralNetwork(nn.Module):\n",
    "    def __init__(self):\n",
    "        super(NeuralNetwork,self).__init__()\n",
    "        self.flatten=nn.Flatten()\n",
    "        self.linear_relu_stack=nn.Sequential(\n",
    "            nn.Linear(28*28,512),\n",
    "            nn.ReLU(),\n",
    "            nn.Linear(512,512),\n",
    "            nn.ReLU(),\n",
    "            nn.Linear(512,10)\n",
    "        )\n",
    "\n",
    "    def forward(self,x):\n",
    "        x=self.flatten(x)\n",
    "        logits=self.linear_relu_stack(x)\n",
    "        return logits\n",
    "\n",
    "model=NeuralNetwork().to(device)\n",
    "print(model)"
   ]
  },
  {
   "cell_type": "code",
   "execution_count": 15,
   "id": "a1281be9-057e-4ed6-a21b-1835e373060f",
   "metadata": {},
   "outputs": [],
   "source": [
    "loss_fn=nn.CrossEntropyLoss()\n",
    "optimizer=torch.optim.SGD(model.parameters(),lr=1e-3)"
   ]
  },
  {
   "cell_type": "code",
   "execution_count": 22,
   "id": "d95cc4ee-0bea-4122-a78e-ee531f88ad0a",
   "metadata": {},
   "outputs": [],
   "source": [
    "def train(dataloader,model,loss_fn,optimizer):\n",
    "    size=len(dataloader.dataset)\n",
    "    model.train()\n",
    "    for batch, (X,y) in enumerate(dataloader):\n",
    "        X,y=X.to(device),y.to(device)\n",
    "        pred=model(X)\n",
    "        loss=loss_fn(pred,y)\n",
    "        optimizer.zero_grad()\n",
    "        loss.backward()\n",
    "        optimizer.step()\n",
    "\n",
    "        if batch % 100 ==0:\n",
    "            loss,current=loss.item(),batch*len(X)\n",
    "            print(f'loss: {loss:>7f} [{current:>5d}/{size:>5d}]')"
   ]
  },
  {
   "cell_type": "code",
   "execution_count": 23,
   "id": "699a211e-c42d-45f7-81da-5a81490682ac",
   "metadata": {},
   "outputs": [],
   "source": [
    "def test(dataloader,model,loss_fn):\n",
    "    size=len(dataloader.dataset)\n",
    "    num_batches=len(dataloader)\n",
    "    model.eval()\n",
    "    test_loss,correct=0,0\n",
    "    with torch.no_grad():\n",
    "        for X,y  in dataloader:\n",
    "            X,y=X.to(device),y.to(device)\n",
    "            pred=model(X)\n",
    "            test_loss+=loss_fn(pred,y).item()\n",
    "            correct +=(pred.argmax(1)==y).type(torch.float).sum().item()\n",
    "    test_loss/=num_batches\n",
    "    correct/=size\n",
    "    print(f'Test error: \\n Accuracy: {(100*correct):>0.1f}%,Avg loss: {test_loss:>8f} \\n')"
   ]
  },
  {
   "cell_type": "code",
   "execution_count": 24,
   "id": "8f720408-c26a-4fd6-990e-cbb9638f7e19",
   "metadata": {},
   "outputs": [
    {
     "name": "stdout",
     "output_type": "stream",
     "text": [
      "Epoch 1\n",
      "-----------------------------\n",
      "loss: 2.290448 [    0/60000]\n",
      "loss: 2.278569 [ 6400/60000]\n",
      "loss: 2.257871 [12800/60000]\n",
      "loss: 2.259960 [19200/60000]\n",
      "loss: 2.243860 [25600/60000]\n",
      "loss: 2.221109 [32000/60000]\n",
      "loss: 2.227580 [38400/60000]\n",
      "loss: 2.197525 [44800/60000]\n",
      "loss: 2.179141 [51200/60000]\n",
      "loss: 2.163313 [57600/60000]\n",
      "Test error: \n",
      " Accuracy: 43.0%,Avg loss: 2.147549 \n",
      "\n",
      "Epoch 2\n",
      "-----------------------------\n",
      "loss: 2.149966 [    0/60000]\n",
      "loss: 2.136656 [ 6400/60000]\n",
      "loss: 2.078164 [12800/60000]\n",
      "loss: 2.098691 [19200/60000]\n",
      "loss: 2.045112 [25600/60000]\n",
      "loss: 1.990762 [32000/60000]\n",
      "loss: 2.017485 [38400/60000]\n",
      "loss: 1.944234 [44800/60000]\n",
      "loss: 1.929263 [51200/60000]\n",
      "loss: 1.872710 [57600/60000]\n",
      "Test error: \n",
      " Accuracy: 56.9%,Avg loss: 1.860938 \n",
      "\n",
      "Epoch 3\n",
      "-----------------------------\n",
      "loss: 1.892295 [    0/60000]\n",
      "loss: 1.858322 [ 6400/60000]\n",
      "loss: 1.744107 [12800/60000]\n",
      "loss: 1.782758 [19200/60000]\n",
      "loss: 1.675579 [25600/60000]\n",
      "loss: 1.635528 [32000/60000]\n",
      "loss: 1.656990 [38400/60000]\n",
      "loss: 1.574492 [44800/60000]\n",
      "loss: 1.577511 [51200/60000]\n",
      "loss: 1.480267 [57600/60000]\n",
      "Test error: \n",
      " Accuracy: 61.3%,Avg loss: 1.493775 \n",
      "\n",
      "Epoch 4\n",
      "-----------------------------\n",
      "loss: 1.568357 [    0/60000]\n",
      "loss: 1.528695 [ 6400/60000]\n",
      "loss: 1.384582 [12800/60000]\n",
      "loss: 1.445807 [19200/60000]\n",
      "loss: 1.332627 [25600/60000]\n",
      "loss: 1.336073 [32000/60000]\n",
      "loss: 1.350125 [38400/60000]\n",
      "loss: 1.293890 [44800/60000]\n",
      "loss: 1.302456 [51200/60000]\n",
      "loss: 1.211774 [57600/60000]\n",
      "Test error: \n",
      " Accuracy: 63.5%,Avg loss: 1.233657 \n",
      "\n",
      "Epoch 5\n",
      "-----------------------------\n",
      "loss: 1.318302 [    0/60000]\n",
      "loss: 1.295693 [ 6400/60000]\n",
      "loss: 1.134770 [12800/60000]\n",
      "loss: 1.231132 [19200/60000]\n",
      "loss: 1.109902 [25600/60000]\n",
      "loss: 1.140518 [32000/60000]\n",
      "loss: 1.163211 [38400/60000]\n",
      "loss: 1.119565 [44800/60000]\n",
      "loss: 1.130930 [51200/60000]\n",
      "loss: 1.055270 [57600/60000]\n",
      "Test error: \n",
      " Accuracy: 65.0%,Avg loss: 1.072878 \n",
      "\n",
      "Done!\n"
     ]
    }
   ],
   "source": [
    "epochs=5\n",
    "for e in range(epochs):\n",
    "    print(f'Epoch {e+1}\\n-----------------------------')\n",
    "    train(train_dataloader,model,loss_fn,optimizer)\n",
    "    test(test_dataloader,model,loss_fn)\n",
    "print('Done!')"
   ]
  },
  {
   "cell_type": "code",
   "execution_count": null,
   "id": "9b3ddaf9-dece-45a0-abe2-a46aaae0286e",
   "metadata": {},
   "outputs": [],
   "source": []
  }
 ],
 "metadata": {
  "kernelspec": {
   "display_name": "Python 3 (ipykernel)",
   "language": "python",
   "name": "python3"
  },
  "language_info": {
   "codemirror_mode": {
    "name": "ipython",
    "version": 3
   },
   "file_extension": ".py",
   "mimetype": "text/x-python",
   "name": "python",
   "nbconvert_exporter": "python",
   "pygments_lexer": "ipython3",
   "version": "3.11.7"
  }
 },
 "nbformat": 4,
 "nbformat_minor": 5
}
