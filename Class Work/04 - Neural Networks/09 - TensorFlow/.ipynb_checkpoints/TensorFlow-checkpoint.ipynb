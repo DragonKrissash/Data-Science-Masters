{
 "cells": [
  {
   "cell_type": "code",
   "execution_count": 4,
   "id": "8a63da97-6746-4479-b4ba-7c58d949e08e",
   "metadata": {
    "tags": []
   },
   "outputs": [],
   "source": [
    "import tensorflow as tf"
   ]
  },
  {
   "cell_type": "code",
   "execution_count": 5,
   "id": "5d4edfee-1609-43c6-a412-a4a2fe37a080",
   "metadata": {},
   "outputs": [
    {
     "data": {
      "text/plain": [
       "[PhysicalDevice(name='/physical_device:CPU:0', device_type='CPU')]"
      ]
     },
     "execution_count": 5,
     "metadata": {},
     "output_type": "execute_result"
    }
   ],
   "source": [
    "tf.config.list_physical_devices()"
   ]
  },
  {
   "cell_type": "code",
   "execution_count": 6,
   "id": "e46edbab-6016-4f93-bc95-cf771e6658eb",
   "metadata": {
    "tags": []
   },
   "outputs": [
    {
     "name": "stdout",
     "output_type": "stream",
     "text": [
      "WARNING:tensorflow:From C:\\Users\\ASUS\\AppData\\Local\\Temp\\ipykernel_8364\\2773141869.py:1: is_gpu_available (from tensorflow.python.framework.test_util) is deprecated and will be removed in a future version.\n",
      "Instructions for updating:\n",
      "Use `tf.config.list_physical_devices('GPU')` instead.\n",
      "False\n"
     ]
    }
   ],
   "source": [
    "print(tf.test.is_gpu_available())"
   ]
  },
  {
   "cell_type": "code",
   "execution_count": 7,
   "id": "cf412297-ef04-4482-a944-55d61e21d1f5",
   "metadata": {
    "tags": []
   },
   "outputs": [],
   "source": [
    "ineuron=tf.constant(42)"
   ]
  },
  {
   "cell_type": "code",
   "execution_count": 8,
   "id": "cef01374-a0e9-4f42-899f-7d5537e1f8d9",
   "metadata": {
    "tags": []
   },
   "outputs": [
    {
     "data": {
      "text/plain": [
       "<tf.Tensor: shape=(), dtype=int32, numpy=42>"
      ]
     },
     "execution_count": 8,
     "metadata": {},
     "output_type": "execute_result"
    }
   ],
   "source": [
    "ineuron"
   ]
  },
  {
   "cell_type": "code",
   "execution_count": 9,
   "id": "8be8514b-963e-48e3-8153-b61a141109aa",
   "metadata": {
    "tags": []
   },
   "outputs": [],
   "source": [
    "ineuron_x=tf.constant([[4,2],[9,5]])"
   ]
  },
  {
   "cell_type": "code",
   "execution_count": 10,
   "id": "cb14a044-003c-437a-9dbc-f4e9b18a572d",
   "metadata": {
    "tags": []
   },
   "outputs": [
    {
     "data": {
      "text/plain": [
       "<tf.Tensor: shape=(2, 2), dtype=int32, numpy=\n",
       "array([[4, 2],\n",
       "       [9, 5]])>"
      ]
     },
     "execution_count": 10,
     "metadata": {},
     "output_type": "execute_result"
    }
   ],
   "source": [
    "ineuron_x"
   ]
  },
  {
   "cell_type": "code",
   "execution_count": 11,
   "id": "ee116522-e11b-4180-8bdf-3ba2bd8a01e3",
   "metadata": {
    "tags": []
   },
   "outputs": [
    {
     "data": {
      "text/plain": [
       "<tf.Tensor: shape=(2, 3), dtype=float32, numpy=\n",
       "array([[1., 1., 1.],\n",
       "       [1., 1., 1.]], dtype=float32)>"
      ]
     },
     "execution_count": 11,
     "metadata": {},
     "output_type": "execute_result"
    }
   ],
   "source": [
    "tf.ones(shape=(2,3))"
   ]
  },
  {
   "cell_type": "code",
   "execution_count": 12,
   "id": "45191c2e-7777-423a-b36c-d6ffadbe5ef3",
   "metadata": {
    "tags": []
   },
   "outputs": [
    {
     "data": {
      "text/plain": [
       "<tf.Tensor: shape=(2, 2), dtype=float32, numpy=\n",
       "array([[0.20355745, 0.51039374],\n",
       "       [0.25841784, 0.01481919]], dtype=float32)>"
      ]
     },
     "execution_count": 12,
     "metadata": {},
     "output_type": "execute_result"
    }
   ],
   "source": [
    "tf.random.normal(shape=(2,2),mean=0,stddev=1)"
   ]
  },
  {
   "cell_type": "code",
   "execution_count": 13,
   "id": "d7b73c82-1fca-42bc-bfb1-6c5582f84514",
   "metadata": {
    "tags": []
   },
   "outputs": [],
   "source": [
    "v0=tf.Variable(1)\n",
    "v1=tf.Variable([[1,2],[3,4]])"
   ]
  },
  {
   "cell_type": "code",
   "execution_count": 14,
   "id": "49e1ee8f-bbea-49bb-928d-fe66b54c6537",
   "metadata": {
    "tags": []
   },
   "outputs": [
    {
     "data": {
      "text/plain": [
       "<tf.Variable 'Variable:0' shape=(2, 2) dtype=int32, numpy=\n",
       "array([[1, 2],\n",
       "       [3, 4]])>"
      ]
     },
     "execution_count": 14,
     "metadata": {},
     "output_type": "execute_result"
    }
   ],
   "source": [
    "v1"
   ]
  },
  {
   "cell_type": "code",
   "execution_count": 15,
   "id": "a9897a7e-b56a-423b-847b-889a335c1f39",
   "metadata": {
    "tags": []
   },
   "outputs": [
    {
     "data": {
      "text/plain": [
       "<tf.Variable 'Variable:0' shape=() dtype=float32, numpy=89.0>"
      ]
     },
     "execution_count": 15,
     "metadata": {},
     "output_type": "execute_result"
    }
   ],
   "source": [
    "tf.Variable(89.)"
   ]
  },
  {
   "cell_type": "code",
   "execution_count": 17,
   "id": "62f86c2a-6d57-4f03-9e00-500f224412ca",
   "metadata": {
    "tags": []
   },
   "outputs": [],
   "source": [
    "a=tf.Variable(tf.random.normal(shape=(2,2)))\n",
    "new_val=tf.random.normal(shape=(2,2))\n",
    "a.assign(new_val)\n",
    "for i in range(2):\n",
    "    for j in range(2):\n",
    "        assert a[i,j]==new_val[i,j]"
   ]
  },
  {
   "cell_type": "code",
   "execution_count": 18,
   "id": "9a4a69cd-0808-43a8-8c67-9faf19f95089",
   "metadata": {},
   "outputs": [],
   "source": [
    "tensor=tf.Variable([[[0,1,2],[3,4,5,]],[[6,7,8],[9,10,11]]])"
   ]
  },
  {
   "cell_type": "code",
   "execution_count": 19,
   "id": "f33269fa-4654-4679-b144-6f1630e7cc5b",
   "metadata": {},
   "outputs": [],
   "source": [
    "tensor2=tf.reshape(tensor,[1,12])"
   ]
  },
  {
   "cell_type": "code",
   "execution_count": 20,
   "id": "1d4f9074-1314-4a15-beb1-a80fcaabfc8b",
   "metadata": {},
   "outputs": [
    {
     "data": {
      "text/plain": [
       "<tf.Tensor: shape=(1, 12), dtype=int32, numpy=array([[ 0,  1,  2,  3,  4,  5,  6,  7,  8,  9, 10, 11]])>"
      ]
     },
     "execution_count": 20,
     "metadata": {},
     "output_type": "execute_result"
    }
   ],
   "source": [
    "tensor2"
   ]
  },
  {
   "cell_type": "code",
   "execution_count": 21,
   "id": "4b9a6c54-f7d2-432c-a208-11b7b959c87f",
   "metadata": {},
   "outputs": [
    {
     "data": {
      "text/plain": [
       "<tf.Tensor: shape=(), dtype=int32, numpy=3>"
      ]
     },
     "execution_count": 21,
     "metadata": {},
     "output_type": "execute_result"
    }
   ],
   "source": [
    "tf.rank(tensor)"
   ]
  },
  {
   "cell_type": "code",
   "execution_count": 22,
   "id": "7180c4b7-b8e2-4f9d-8c46-1f23d57ef697",
   "metadata": {},
   "outputs": [
    {
     "name": "stdout",
     "output_type": "stream",
     "text": [
      "<bound method BaseResourceVariable.numpy of <tf.Variable 'Variable:0' shape=(2, 2, 3) dtype=int32, numpy=\n",
      "array([[[ 0,  1,  2],\n",
      "        [ 3,  4,  5]],\n",
      "\n",
      "       [[ 6,  7,  8],\n",
      "        [ 9, 10, 11]]])>>\n"
     ]
    }
   ],
   "source": [
    "print(tensor.numpy)"
   ]
  },
  {
   "cell_type": "code",
   "execution_count": 23,
   "id": "91da5564-eded-4a5e-aad4-5743d2126994",
   "metadata": {},
   "outputs": [
    {
     "data": {
      "text/plain": [
       "<tf.Tensor: shape=(), dtype=int32, numpy=12>"
      ]
     },
     "execution_count": 23,
     "metadata": {},
     "output_type": "execute_result"
    }
   ],
   "source": [
    "tf.size(tensor)"
   ]
  },
  {
   "cell_type": "code",
   "execution_count": 24,
   "id": "058c64c7-8c9a-4f88-b6dd-d57edd0d05d0",
   "metadata": {},
   "outputs": [
    {
     "data": {
      "text/plain": [
       "12"
      ]
     },
     "execution_count": 24,
     "metadata": {},
     "output_type": "execute_result"
    }
   ],
   "source": [
    "tf.size(tensor).numpy()"
   ]
  },
  {
   "cell_type": "code",
   "execution_count": 26,
   "id": "ea7a04bd-1000-46e5-9c6d-54ae3651a324",
   "metadata": {},
   "outputs": [],
   "source": [
    "matrix_u=tf.constant([[3,4,3]])"
   ]
  },
  {
   "cell_type": "code",
   "execution_count": 27,
   "id": "ef60684f-2c1e-476d-83ad-338b1c3df9ee",
   "metadata": {},
   "outputs": [],
   "source": [
    "matrix_v=tf.constant([[1,2,1]])"
   ]
  },
  {
   "cell_type": "code",
   "execution_count": 28,
   "id": "3c24e7a7-1bf7-497f-b58d-8c75feaa7fea",
   "metadata": {},
   "outputs": [
    {
     "data": {
      "text/plain": [
       "<tf.Tensor: shape=(1, 1), dtype=int32, numpy=array([[14]])>"
      ]
     },
     "execution_count": 28,
     "metadata": {},
     "output_type": "execute_result"
    }
   ],
   "source": [
    "tf.matmul(matrix_u,tf.transpose(a=matrix_v))"
   ]
  },
  {
   "cell_type": "code",
   "execution_count": 29,
   "id": "c997b336-a391-4434-bf10-f5ffa90291d4",
   "metadata": {},
   "outputs": [],
   "source": [
    "ragged=tf.ragged.constant([[5,2,6,1],[],[4,10,7],[8],[6,7]])"
   ]
  },
  {
   "cell_type": "code",
   "execution_count": 33,
   "id": "84df6d7c-b046-4513-99b0-a57c7f0af0a4",
   "metadata": {},
   "outputs": [
    {
     "name": "stdout",
     "output_type": "stream",
     "text": [
      "tf.Tensor([ 4 10  7], shape=(3,), dtype=int32)\n"
     ]
    }
   ],
   "source": [
    "print(ragged[2,:])"
   ]
  },
  {
   "cell_type": "code",
   "execution_count": 34,
   "id": "12a5325b-396d-4eae-b3f5-f88e7c52cf6d",
   "metadata": {},
   "outputs": [],
   "source": [
    "varx=[1,3,5,11]"
   ]
  },
  {
   "cell_type": "code",
   "execution_count": 35,
   "id": "96a316ee-7b9c-42e5-b7b3-5e4ba130888b",
   "metadata": {},
   "outputs": [],
   "source": [
    "vary=5"
   ]
  },
  {
   "cell_type": "code",
   "execution_count": 36,
   "id": "665d6a88-6de1-4861-bb3a-3e1d4051e064",
   "metadata": {},
   "outputs": [],
   "source": [
    "varz=tf.math.squared_difference(varx,vary)"
   ]
  },
  {
   "cell_type": "code",
   "execution_count": 37,
   "id": "c1ed65f7-bb3e-4ab6-b87e-646268f4c4d4",
   "metadata": {},
   "outputs": [
    {
     "data": {
      "text/plain": [
       "<tf.Tensor: shape=(4,), dtype=int32, numpy=array([16,  4,  0, 36])>"
      ]
     },
     "execution_count": 37,
     "metadata": {},
     "output_type": "execute_result"
    }
   ],
   "source": [
    "varz"
   ]
  },
  {
   "cell_type": "code",
   "execution_count": 40,
   "id": "02ddb36b-0150-4916-9feb-d7017830aac9",
   "metadata": {},
   "outputs": [],
   "source": [
    "tensor=tf.constant([[4.,5.],[7.,3.]])"
   ]
  },
  {
   "cell_type": "code",
   "execution_count": 41,
   "id": "37e3f9d2-69a5-4336-9b3c-de07556e3e2a",
   "metadata": {},
   "outputs": [
    {
     "data": {
      "text/plain": [
       "<tf.Tensor: shape=(), dtype=float32, numpy=4.75>"
      ]
     },
     "execution_count": 41,
     "metadata": {},
     "output_type": "execute_result"
    }
   ],
   "source": [
    "tf.reduce_mean(tensor)"
   ]
  },
  {
   "cell_type": "code",
   "execution_count": 42,
   "id": "dd2b5e98-f987-496e-bd63-414d183c0074",
   "metadata": {},
   "outputs": [
    {
     "data": {
      "text/plain": [
       "<tf.Tensor: shape=(2,), dtype=float32, numpy=array([5.5, 4. ], dtype=float32)>"
      ]
     },
     "execution_count": 42,
     "metadata": {},
     "output_type": "execute_result"
    }
   ],
   "source": [
    "tf.reduce_mean(tensor,axis=0)"
   ]
  },
  {
   "cell_type": "code",
   "execution_count": 43,
   "id": "0e85ff34-0cdc-414f-b969-89b2c02394cc",
   "metadata": {},
   "outputs": [
    {
     "data": {
      "text/plain": [
       "<tf.Tensor: shape=(1, 2), dtype=float32, numpy=array([[5.5, 4. ]], dtype=float32)>"
      ]
     },
     "execution_count": 43,
     "metadata": {},
     "output_type": "execute_result"
    }
   ],
   "source": [
    " tf.reduce_mean(tensor,axis=0,keepdims=True)"
   ]
  },
  {
   "cell_type": "code",
   "execution_count": 44,
   "id": "ce43b6bd-9ed0-472c-b414-ac6e45fad244",
   "metadata": {},
   "outputs": [
    {
     "data": {
      "text/plain": [
       "<tf.Tensor: shape=(2,), dtype=float32, numpy=array([4.5, 5. ], dtype=float32)>"
      ]
     },
     "execution_count": 44,
     "metadata": {},
     "output_type": "execute_result"
    }
   ],
   "source": [
    "tf.reduce_mean(tensor,axis=1)"
   ]
  },
  {
   "cell_type": "code",
   "execution_count": 45,
   "id": "a15ecec6-6349-4528-ad0e-dbd9cbad172e",
   "metadata": {},
   "outputs": [
    {
     "data": {
      "text/plain": [
       "<tf.Tensor: shape=(3, 2), dtype=float32, numpy=\n",
       "array([[ 6.781331, 11.440314],\n",
       "       [10.037796, 10.074586],\n",
       "       [11.30878 ,  9.088706]], dtype=float32)>"
      ]
     },
     "execution_count": 45,
     "metadata": {},
     "output_type": "execute_result"
    }
   ],
   "source": [
    "tf.random.normal(shape=(3,2),mean=10,stddev=2)"
   ]
  },
  {
   "cell_type": "code",
   "execution_count": 52,
   "id": "af07a3b3-a82b-4a60-8034-ded2bebb5f0d",
   "metadata": {},
   "outputs": [],
   "source": [
    "d1=tf.Variable(tf.random.uniform([10,1],minval=1,maxval=7,dtype=tf.int32))\n",
    "d2=tf.Variable(tf.random.uniform([10,1],minval=1,maxval=7,dtype=tf.int32))"
   ]
  },
  {
   "cell_type": "code",
   "execution_count": 53,
   "id": "056c0c86-1018-4ccb-81a0-5cddd5b84505",
   "metadata": {},
   "outputs": [],
   "source": [
    "d3=d1+d2"
   ]
  },
  {
   "cell_type": "code",
   "execution_count": 54,
   "id": "d1bd9d04-e93d-4c1e-8d9c-d3374bcc875f",
   "metadata": {},
   "outputs": [
    {
     "name": "stdout",
     "output_type": "stream",
     "text": [
      "tf.Tensor(\n",
      "[[ 6  6 12]\n",
      " [ 2  6  8]\n",
      " [ 6  3  9]\n",
      " [ 5  3  8]\n",
      " [ 1  2  3]\n",
      " [ 1  3  4]\n",
      " [ 2  5  7]\n",
      " [ 4  6 10]\n",
      " [ 5  3  8]\n",
      " [ 5  5 10]], shape=(10, 3), dtype=int32)\n"
     ]
    }
   ],
   "source": [
    "print(tf.concat(values=[d1,d2,d3],axis=1))"
   ]
  },
  {
   "cell_type": "code",
   "execution_count": 55,
   "id": "72ed9c55-177b-4c4e-b9bc-0af9e93fe3de",
   "metadata": {},
   "outputs": [],
   "source": [
    "t1=tf.constant([2,11,5,42,7,19,-6,-11,29])"
   ]
  },
  {
   "cell_type": "code",
   "execution_count": 56,
   "id": "6d30a617-e81d-4898-8bd6-cba1c7f8b686",
   "metadata": {},
   "outputs": [],
   "source": [
    "t6=tf.reshape(t1,[3,3])\n",
    "i=tf.argmax(t6)"
   ]
  },
  {
   "cell_type": "code",
   "execution_count": 57,
   "id": "fe25808a-e9da-4db7-b3b6-154ed112cedd",
   "metadata": {},
   "outputs": [
    {
     "data": {
      "text/plain": [
       "<tf.Tensor: shape=(3,), dtype=int64, numpy=array([1, 0, 2], dtype=int64)>"
      ]
     },
     "execution_count": 57,
     "metadata": {},
     "output_type": "execute_result"
    }
   ],
   "source": [
    "i"
   ]
  },
  {
   "cell_type": "code",
   "execution_count": 58,
   "id": "0a4af08b-cb40-4b09-8024-bef115e7da1c",
   "metadata": {},
   "outputs": [],
   "source": [
    "var=tf.Variable([[1,3,5,7],[11,13,17,19]])"
   ]
  },
  {
   "cell_type": "code",
   "execution_count": 59,
   "id": "4a527d54-5287-4a67-891b-5c75647fd4e4",
   "metadata": {},
   "outputs": [
    {
     "name": "stdout",
     "output_type": "stream",
     "text": [
      "<tf.Variable 'Variable:0' shape=(2, 4) dtype=int32, numpy=\n",
      "array([[ 1,  3,  5,  7],\n",
      "       [11, 13, 17, 19]])>\n"
     ]
    }
   ],
   "source": [
    "check=tf.train.Checkpoint(var=var)\n",
    "save_path=check.save('./vars')\n",
    "var.assign([[0,0,0,0],[0,0,0,0]])\n",
    "var\n",
    "check.restore(save_path)\n",
    "print(var)"
   ]
  },
  {
   "cell_type": "code",
   "execution_count": null,
   "id": "07cffdd0-8d68-4098-96f8-1b468057dce5",
   "metadata": {},
   "outputs": [],
   "source": []
  }
 ],
 "metadata": {
  "kernelspec": {
   "display_name": "Python 3 (ipykernel)",
   "language": "python",
   "name": "python3"
  },
  "language_info": {
   "codemirror_mode": {
    "name": "ipython",
    "version": 3
   },
   "file_extension": ".py",
   "mimetype": "text/x-python",
   "name": "python",
   "nbconvert_exporter": "python",
   "pygments_lexer": "ipython3",
   "version": "3.11.7"
  }
 },
 "nbformat": 4,
 "nbformat_minor": 5
}
