{
 "cells": [
  {
   "cell_type": "code",
   "execution_count": 1,
   "id": "0793f98d-5fd1-42a2-bfc6-52cdb76f0835",
   "metadata": {
    "tags": []
   },
   "outputs": [],
   "source": [
    "import tensorflow as tf\n",
    "import numpy as np\n",
    "import pandas as pd\n",
    "import seaborn as sns\n",
    "import matplotlib.pyplot as plt\n"
   ]
  },
  {
   "cell_type": "code",
   "execution_count": 2,
   "id": "1bd39537-2a0d-4906-8276-12785998adb6",
   "metadata": {
    "tags": []
   },
   "outputs": [],
   "source": [
    "(Xtr,ytr),(Xte,yte)=tf.keras.datasets.mnist.load_data()"
   ]
  },
  {
   "cell_type": "code",
   "execution_count": 3,
   "id": "31cecb73-452c-4edf-b2f5-172d359a2c18",
   "metadata": {
    "tags": []
   },
   "outputs": [],
   "source": [
    "Xtr=Xtr/255\n",
    "Xte=Xte/255\n",
    "Xval,Xtr=Xtr[:5000],Xtr[5000:]\n",
    "yval,ytr=ytr[:5000],ytr[5000:]"
   ]
  },
  {
   "cell_type": "code",
   "execution_count": 5,
   "id": "99f36258-70d0-44d0-93e5-7f2fc05d19c2",
   "metadata": {
    "tags": []
   },
   "outputs": [],
   "source": [
    "from tensorflow.keras.layers import Flatten as flat,Dense as dense\n",
    "from tensorflow.keras.models import Sequential as seq\n",
    "from tensorflow.keras.layers import Dropout as drop"
   ]
  },
  {
   "cell_type": "code",
   "execution_count": 6,
   "id": "e4d637b3-7cb2-4ced-90ff-a7134e664ace",
   "metadata": {
    "tags": []
   },
   "outputs": [
    {
     "name": "stderr",
     "output_type": "stream",
     "text": [
      "C:\\Users\\ASUS\\anaconda3\\Lib\\site-packages\\keras\\src\\layers\\reshaping\\flatten.py:37: UserWarning: Do not pass an `input_shape`/`input_dim` argument to a layer. When using Sequential models, prefer using an `Input(shape)` object as the first layer in the model instead.\n",
      "  super().__init__(**kwargs)\n"
     ]
    }
   ],
   "source": [
    "model=seq()\n",
    "model.add(flat(input_shape=[28,28],))\n",
    "model.add(dense(64,activation='relu',kernel_initializer=tf.keras.initializers.he_normal(seed=None)))\n",
    "model.add(drop(0.2))\n",
    "model.add(dense(32,activation='relu',kernel_initializer=tf.keras.initializers.he_normal(seed=None)))\n",
    "model.add(drop(0.2))\n",
    "model.add(dense(16,activation='relu',kernel_initializer=tf.keras.initializers.he_normal(seed=None)))\n",
    "model.add(drop(0.2))\n",
    "model.add(dense(10,activation='softmax'))"
   ]
  },
  {
   "cell_type": "code",
   "execution_count": 7,
   "id": "ce429a8a-16b4-4811-95dd-1919a3e73298",
   "metadata": {
    "tags": []
   },
   "outputs": [],
   "source": [
    "sgd=tf.keras.optimizers.SGD(learning_rate=0.01,momentum=0.9)\n",
    "model.compile(loss='sparse_categorical_crossentropy',optimizer=sgd,metrics=['accuracy'])"
   ]
  },
  {
   "cell_type": "code",
   "execution_count": 8,
   "id": "bc0c7603-0d82-4650-ac52-7c46dad29c6f",
   "metadata": {
    "tags": []
   },
   "outputs": [
    {
     "name": "stdout",
     "output_type": "stream",
     "text": [
      "Epoch 1/10\n",
      "\u001b[1m1719/1719\u001b[0m \u001b[32m━━━━━━━━━━━━━━━━━━━━\u001b[0m\u001b[37m\u001b[0m \u001b[1m2s\u001b[0m 1ms/step - accuracy: 0.6581 - loss: 1.0040 - val_accuracy: 0.9418 - val_loss: 0.2226\n",
      "Epoch 2/10\n",
      "\u001b[1m1719/1719\u001b[0m \u001b[32m━━━━━━━━━━━━━━━━━━━━\u001b[0m\u001b[37m\u001b[0m \u001b[1m2s\u001b[0m 984us/step - accuracy: 0.8857 - loss: 0.4009 - val_accuracy: 0.9514 - val_loss: 0.1796\n",
      "Epoch 3/10\n",
      "\u001b[1m1719/1719\u001b[0m \u001b[32m━━━━━━━━━━━━━━━━━━━━\u001b[0m\u001b[37m\u001b[0m \u001b[1m2s\u001b[0m 976us/step - accuracy: 0.9153 - loss: 0.3117 - val_accuracy: 0.9620 - val_loss: 0.1405\n",
      "Epoch 4/10\n",
      "\u001b[1m1719/1719\u001b[0m \u001b[32m━━━━━━━━━━━━━━━━━━━━\u001b[0m\u001b[37m\u001b[0m \u001b[1m2s\u001b[0m 977us/step - accuracy: 0.9222 - loss: 0.2855 - val_accuracy: 0.9628 - val_loss: 0.1371\n",
      "Epoch 5/10\n",
      "\u001b[1m1719/1719\u001b[0m \u001b[32m━━━━━━━━━━━━━━━━━━━━\u001b[0m\u001b[37m\u001b[0m \u001b[1m2s\u001b[0m 989us/step - accuracy: 0.9311 - loss: 0.2562 - val_accuracy: 0.9610 - val_loss: 0.1419\n",
      "Epoch 6/10\n",
      "\u001b[1m1719/1719\u001b[0m \u001b[32m━━━━━━━━━━━━━━━━━━━━\u001b[0m\u001b[37m\u001b[0m \u001b[1m2s\u001b[0m 981us/step - accuracy: 0.9354 - loss: 0.2377 - val_accuracy: 0.9656 - val_loss: 0.1348\n",
      "Epoch 7/10\n",
      "\u001b[1m1719/1719\u001b[0m \u001b[32m━━━━━━━━━━━━━━━━━━━━\u001b[0m\u001b[37m\u001b[0m \u001b[1m2s\u001b[0m 977us/step - accuracy: 0.9383 - loss: 0.2296 - val_accuracy: 0.9656 - val_loss: 0.1267\n",
      "Epoch 8/10\n",
      "\u001b[1m1719/1719\u001b[0m \u001b[32m━━━━━━━━━━━━━━━━━━━━\u001b[0m\u001b[37m\u001b[0m \u001b[1m2s\u001b[0m 991us/step - accuracy: 0.9421 - loss: 0.2147 - val_accuracy: 0.9684 - val_loss: 0.1266\n",
      "Epoch 9/10\n",
      "\u001b[1m1719/1719\u001b[0m \u001b[32m━━━━━━━━━━━━━━━━━━━━\u001b[0m\u001b[37m\u001b[0m \u001b[1m2s\u001b[0m 981us/step - accuracy: 0.9412 - loss: 0.2154 - val_accuracy: 0.9680 - val_loss: 0.1346\n",
      "Epoch 10/10\n",
      "\u001b[1m1719/1719\u001b[0m \u001b[32m━━━━━━━━━━━━━━━━━━━━\u001b[0m\u001b[37m\u001b[0m \u001b[1m2s\u001b[0m 994us/step - accuracy: 0.9455 - loss: 0.2000 - val_accuracy: 0.9658 - val_loss: 0.1309\n"
     ]
    }
   ],
   "source": [
    "history=model.fit(Xtr,ytr,epochs=10,validation_data=(Xval,yval),batch_size=32)"
   ]
  },
  {
   "cell_type": "code",
   "execution_count": null,
   "id": "84a5d96d-92b0-442c-b913-70e936002622",
   "metadata": {},
   "outputs": [],
   "source": []
  }
 ],
 "metadata": {
  "kernelspec": {
   "display_name": "Python 3 (ipykernel)",
   "language": "python",
   "name": "python3"
  },
  "language_info": {
   "codemirror_mode": {
    "name": "ipython",
    "version": 3
   },
   "file_extension": ".py",
   "mimetype": "text/x-python",
   "name": "python",
   "nbconvert_exporter": "python",
   "pygments_lexer": "ipython3",
   "version": "3.11.7"
  }
 },
 "nbformat": 4,
 "nbformat_minor": 5
}
