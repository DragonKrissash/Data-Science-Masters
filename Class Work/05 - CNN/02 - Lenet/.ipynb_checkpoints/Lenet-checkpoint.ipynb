{
 "cells": [
  {
   "cell_type": "code",
   "execution_count": 13,
   "id": "12a42ab8-83f7-4653-a4ac-f68e79da0f30",
   "metadata": {},
   "outputs": [],
   "source": [
    "import keras\n",
    "from keras.datasets import mnist\n",
    "from keras.layers import Flatten as flat, Dense as dense\n",
    "from keras.models import Sequential as seq"
   ]
  },
  {
   "cell_type": "code",
   "execution_count": 2,
   "id": "97019fdc-e994-4a8c-bcbf-7cf8bfd2009d",
   "metadata": {},
   "outputs": [],
   "source": [
    "from keras.layers import Conv2D, MaxPooling2D"
   ]
  },
  {
   "cell_type": "code",
   "execution_count": 8,
   "id": "f899fd65-af81-4cf6-b02e-4c0e1b7bf758",
   "metadata": {},
   "outputs": [],
   "source": [
    "(Xtr,ytr),(Xte,yte)=mnist.load_data()"
   ]
  },
  {
   "cell_type": "code",
   "execution_count": 10,
   "id": "d047d59a-ed9b-4e60-990c-efba95a55a8b",
   "metadata": {},
   "outputs": [],
   "source": [
    "Xtr=Xtr.reshape(Xtr.shape[0],28,28,1)"
   ]
  },
  {
   "cell_type": "code",
   "execution_count": 11,
   "id": "d9ebb020-27ba-40bb-b0a5-8a14edcfde43",
   "metadata": {},
   "outputs": [
    {
     "data": {
      "text/plain": [
       "(60000, 28, 28, 1)"
      ]
     },
     "execution_count": 11,
     "metadata": {},
     "output_type": "execute_result"
    }
   ],
   "source": [
    "Xtr.shape"
   ]
  },
  {
   "cell_type": "code",
   "execution_count": 12,
   "id": "a69c0a8e-4752-48a0-867c-1e78eaff5319",
   "metadata": {},
   "outputs": [],
   "source": [
    "Xtr=Xtr/255\n",
    "Xte=Xte/255"
   ]
  },
  {
   "cell_type": "code",
   "execution_count": 14,
   "id": "507e5b8a-ed9d-44a3-84c0-ef8551485511",
   "metadata": {},
   "outputs": [],
   "source": [
    "ytr=keras.utils.to_categorical(ytr,10)\n",
    "yte=keras.utils.to_categorical(yte,10)"
   ]
  },
  {
   "cell_type": "code",
   "execution_count": 18,
   "id": "bcc63d2a-55c4-4e2d-a606-01545303eb77",
   "metadata": {},
   "outputs": [],
   "source": [
    "model=seq()"
   ]
  },
  {
   "cell_type": "code",
   "execution_count": 19,
   "id": "9df7fe1c-c84e-4bec-a682-11d809104b62",
   "metadata": {},
   "outputs": [],
   "source": [
    "model.add(Conv2D(6,kernel_size=(5,5),activation='relu',input_shape=(28,28,1)))\n",
    "model.add(MaxPooling2D(pool_size=(2,2)))\n",
    "model.add(Conv2D(16,kernel_size=(5,5),activation='relu'))\n",
    "model.add(MaxPooling2D(pool_size=(2,2)))\n",
    "model.add(flat())\n",
    "model.add(dense(120,activation='relu'))\n",
    "model.add(dense(84,activation='relu'))\n",
    "model.add(dense(10,activation='softmax'))"
   ]
  },
  {
   "cell_type": "code",
   "execution_count": 20,
   "id": "b3df65e2-06d7-46e6-bb38-e4c259e6a288",
   "metadata": {},
   "outputs": [
    {
     "name": "stdout",
     "output_type": "stream",
     "text": [
      "Model: \"sequential_1\"\n",
      "_________________________________________________________________\n",
      " Layer (type)                Output Shape              Param #   \n",
      "=================================================================\n",
      " conv2d_3 (Conv2D)           (None, 24, 24, 6)         156       \n",
      "                                                                 \n",
      " max_pooling2d_2 (MaxPooling  (None, 12, 12, 6)        0         \n",
      " 2D)                                                             \n",
      "                                                                 \n",
      " conv2d_4 (Conv2D)           (None, 8, 8, 16)          2416      \n",
      "                                                                 \n",
      " max_pooling2d_3 (MaxPooling  (None, 4, 4, 16)         0         \n",
      " 2D)                                                             \n",
      "                                                                 \n",
      " flatten_1 (Flatten)         (None, 256)               0         \n",
      "                                                                 \n",
      " dense_1 (Dense)             (None, 120)               30840     \n",
      "                                                                 \n",
      " dense_2 (Dense)             (None, 84)                10164     \n",
      "                                                                 \n",
      " dense_3 (Dense)             (None, 10)                850       \n",
      "                                                                 \n",
      "=================================================================\n",
      "Total params: 44,426\n",
      "Trainable params: 44,426\n",
      "Non-trainable params: 0\n",
      "_________________________________________________________________\n"
     ]
    }
   ],
   "source": [
    "model.summary()    "
   ]
  },
  {
   "cell_type": "code",
   "execution_count": 21,
   "id": "e934f028-a312-4ab5-b912-07bcbe3aa8c3",
   "metadata": {},
   "outputs": [],
   "source": [
    "model.compile(loss=keras.metrics.categorical_crossentropy,optimizer=keras.optimizers.Adam(),metrics=['accuracy'])"
   ]
  },
  {
   "cell_type": "code",
   "execution_count": 22,
   "id": "6ac62a14-29e9-4254-803b-2e926c319b11",
   "metadata": {},
   "outputs": [
    {
     "name": "stdout",
     "output_type": "stream",
     "text": [
      "Epoch 1/2\n",
      "469/469 [==============================] - 5s 10ms/step - loss: 0.3467 - accuracy: 0.8944 - val_loss: 0.0995 - val_accuracy: 0.9684\n",
      "Epoch 2/2\n",
      "469/469 [==============================] - 5s 10ms/step - loss: 0.0950 - accuracy: 0.9701 - val_loss: 0.0692 - val_accuracy: 0.9779\n"
     ]
    },
    {
     "data": {
      "text/plain": [
       "<keras.callbacks.History at 0x12275c3c1d0>"
      ]
     },
     "execution_count": 22,
     "metadata": {},
     "output_type": "execute_result"
    }
   ],
   "source": [
    "model.fit(Xtr,ytr,batch_size=128,epochs=2,verbose=1,validation_data=(Xte,yte))"
   ]
  },
  {
   "cell_type": "code",
   "execution_count": 23,
   "id": "0aa80ef7-b0c3-45b2-84b7-987b21c7c95b",
   "metadata": {},
   "outputs": [
    {
     "name": "stdout",
     "output_type": "stream",
     "text": [
      "313/313 [==============================] - 1s 2ms/step - loss: 0.0692 - accuracy: 0.9779\n"
     ]
    }
   ],
   "source": [
    "score=model.evaluate(Xte,yte)"
   ]
  },
  {
   "cell_type": "code",
   "execution_count": 24,
   "id": "b8af61e6-c163-4a42-a166-f3670f2dfcc6",
   "metadata": {},
   "outputs": [
    {
     "data": {
      "text/plain": [
       "[0.06924084573984146, 0.9779000282287598]"
      ]
     },
     "execution_count": 24,
     "metadata": {},
     "output_type": "execute_result"
    }
   ],
   "source": [
    "score"
   ]
  },
  {
   "cell_type": "code",
   "execution_count": null,
   "id": "e9dfd1a0-b4c8-4da8-8992-1400dc95fe79",
   "metadata": {},
   "outputs": [],
   "source": []
  }
 ],
 "metadata": {
  "kernelspec": {
   "display_name": "Python 3 (ipykernel)",
   "language": "python",
   "name": "python3"
  },
  "language_info": {
   "codemirror_mode": {
    "name": "ipython",
    "version": 3
   },
   "file_extension": ".py",
   "mimetype": "text/x-python",
   "name": "python",
   "nbconvert_exporter": "python",
   "pygments_lexer": "ipython3",
   "version": "3.11.7"
  }
 },
 "nbformat": 4,
 "nbformat_minor": 5
}
