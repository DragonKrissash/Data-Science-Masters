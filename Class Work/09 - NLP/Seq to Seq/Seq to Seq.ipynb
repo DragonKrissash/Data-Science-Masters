{
 "cells": [
  {
   "cell_type": "code",
   "execution_count": 1,
   "id": "cbb91f74-3e59-44b8-a9c4-9015d7a53b4c",
   "metadata": {},
   "outputs": [],
   "source": [
    "from __future__ import print_function \n",
    "from keras.models import Model\n",
    "from keras.layers import Input,LSTM,Dense\n",
    "import numpy as np"
   ]
  },
  {
   "cell_type": "code",
   "execution_count": 2,
   "id": "df20be7f-4766-4578-ad20-b0e63f79fb55",
   "metadata": {},
   "outputs": [],
   "source": [
    "batch_s=64\n",
    "epochs=100\n",
    "latent_dimension=256\n",
    "number_samples=10000  \n",
    "data_path='./fra.txt'"
   ]
  },
  {
   "cell_type": "code",
   "execution_count": 3,
   "id": "5287ce7e-7f32-4cd0-83ed-25bafbd62f7d",
   "metadata": {},
   "outputs": [],
   "source": [
    "input_texts=[]\n",
    "target_texts=[]\n",
    "input_characters=set()\n",
    "target_characters=set()\n",
    "with open (data_path,'r',encoding='utf-8') as f:\n",
    "    lines=f.read().split('\\n')\n",
    "for line in lines[:min(number_samples,len(lines)-1)]:\n",
    "    input_text,target_text,_=line.split('\\t')\n",
    "    target_text='\\t'+target_text+'\\n'\n",
    "    input_texts.append(input_text)\n",
    "    target_texts.append(target_text)\n",
    "    for char in input_text:\n",
    "        if char not in input_characters:\n",
    "            input_characters.add(char)\n",
    "    for char in target_text:\n",
    "        if char not in target_characters:\n",
    "            target_characters.add(char)"
   ]
  },
  {
   "cell_type": "code",
   "execution_count": 4,
   "id": "988a1fee-4730-411d-97e8-bb39d27478f5",
   "metadata": {},
   "outputs": [
    {
     "data": {
      "text/plain": [
       "10000"
      ]
     },
     "execution_count": 4,
     "metadata": {},
     "output_type": "execute_result"
    }
   ],
   "source": [
    "len(input_texts)"
   ]
  },
  {
   "cell_type": "code",
   "execution_count": 5,
   "id": "797c0e58-9125-4f1e-a917-ffb544d94a49",
   "metadata": {},
   "outputs": [
    {
     "data": {
      "text/plain": [
       "10000"
      ]
     },
     "execution_count": 5,
     "metadata": {},
     "output_type": "execute_result"
    }
   ],
   "source": [
    "len(target_texts)"
   ]
  },
  {
   "cell_type": "code",
   "execution_count": 6,
   "id": "1654ee97-96aa-4d16-86cc-5557f881d4fb",
   "metadata": {},
   "outputs": [],
   "source": [
    "input_characters=sorted(list(input_characters))\n",
    "target_characters=sorted(list(target_characters))\n",
    "\n",
    "num_encoder_tokens=len(input_characters)\n",
    "num_decoder_tokens=len(target_characters)"
   ]
  },
  {
   "cell_type": "code",
   "execution_count": 7,
   "id": "5e6716d7-af1b-4993-add1-71f5c1e03d04",
   "metadata": {},
   "outputs": [],
   "source": [
    "max_encoder_seq_length=max([len(text) for text in input_texts])\n",
    "max_decoder_seq_length=max([len(text) for text in target_texts])"
   ]
  },
  {
   "cell_type": "code",
   "execution_count": 8,
   "id": "5b92b8c9-895f-4b46-b138-8d5fe3aa8eeb",
   "metadata": {},
   "outputs": [
    {
     "data": {
      "text/plain": [
       "59"
      ]
     },
     "execution_count": 8,
     "metadata": {},
     "output_type": "execute_result"
    }
   ],
   "source": [
    "max_decoder_seq_length"
   ]
  },
  {
   "cell_type": "code",
   "execution_count": 9,
   "id": "56cc751a-fd7d-4330-a60a-c659b986cc9f",
   "metadata": {},
   "outputs": [
    {
     "data": {
      "text/plain": [
       "14"
      ]
     },
     "execution_count": 9,
     "metadata": {},
     "output_type": "execute_result"
    }
   ],
   "source": [
    "max_encoder_seq_length"
   ]
  },
  {
   "cell_type": "code",
   "execution_count": 10,
   "id": "4d191e8d-ebc2-4d83-856d-56720a2b6fec",
   "metadata": {},
   "outputs": [
    {
     "data": {
      "text/plain": [
       "70"
      ]
     },
     "execution_count": 10,
     "metadata": {},
     "output_type": "execute_result"
    }
   ],
   "source": [
    "num_encoder_tokens"
   ]
  },
  {
   "cell_type": "code",
   "execution_count": 11,
   "id": "c3163159-5ccb-48c0-b96b-226df1d94bb4",
   "metadata": {},
   "outputs": [
    {
     "data": {
      "text/plain": [
       "91"
      ]
     },
     "execution_count": 11,
     "metadata": {},
     "output_type": "execute_result"
    }
   ],
   "source": [
    "num_decoder_tokens"
   ]
  },
  {
   "cell_type": "code",
   "execution_count": 12,
   "id": "82ffc1d9-5108-42eb-a477-6e5030961001",
   "metadata": {},
   "outputs": [],
   "source": [
    "input_token_index=dict(\n",
    "    [(char,i) for i,char in enumerate(input_characters)]\n",
    ")"
   ]
  },
  {
   "cell_type": "code",
   "execution_count": 13,
   "id": "b64d58d1-bbdc-4f7f-915b-a73e02ce9ae0",
   "metadata": {},
   "outputs": [
    {
     "data": {
      "text/plain": [
       "70"
      ]
     },
     "execution_count": 13,
     "metadata": {},
     "output_type": "execute_result"
    }
   ],
   "source": [
    "num_encoder_tokens"
   ]
  },
  {
   "cell_type": "code",
   "execution_count": 14,
   "id": "275e6e2a-5581-4f24-bf70-c87d84397ecb",
   "metadata": {},
   "outputs": [
    {
     "data": {
      "text/plain": [
       "70"
      ]
     },
     "execution_count": 14,
     "metadata": {},
     "output_type": "execute_result"
    }
   ],
   "source": [
    "len(input_characters)"
   ]
  },
  {
   "cell_type": "code",
   "execution_count": 15,
   "id": "73e72451-62fa-4a21-ab6b-6ad9bb464203",
   "metadata": {},
   "outputs": [],
   "source": [
    "target_token_index=dict(\n",
    "    [(char,i) for i,char in enumerate(target_characters)]\n",
    ")"
   ]
  },
  {
   "cell_type": "code",
   "execution_count": 16,
   "id": "5f658d2a-39da-4044-a764-24a986921691",
   "metadata": {},
   "outputs": [
    {
     "data": {
      "text/plain": [
       "10000"
      ]
     },
     "execution_count": 16,
     "metadata": {},
     "output_type": "execute_result"
    }
   ],
   "source": [
    "len(input_texts)"
   ]
  },
  {
   "cell_type": "code",
   "execution_count": 17,
   "id": "9719ed0d-072c-401c-90de-33014d7901c2",
   "metadata": {},
   "outputs": [],
   "source": [
    "encoder_input_data=np.zeros(\n",
    "    (len(input_texts),max_encoder_seq_length,num_encoder_tokens),\n",
    "    dtype='float32'\n",
    ")"
   ]
  },
  {
   "cell_type": "code",
   "execution_count": 18,
   "id": "6045e331-0dfe-4037-8b8f-7d95a01e0d30",
   "metadata": {},
   "outputs": [
    {
     "data": {
      "text/plain": [
       "(10000, 14, 70)"
      ]
     },
     "execution_count": 18,
     "metadata": {},
     "output_type": "execute_result"
    }
   ],
   "source": [
    "encoder_input_data.shape"
   ]
  },
  {
   "cell_type": "code",
   "execution_count": 19,
   "id": "08eaa53a-36ba-420f-aca6-7939fd57ac3c",
   "metadata": {},
   "outputs": [],
   "source": [
    "decoder_input_data=np.zeros(\n",
    "    (len(target_texts),max_decoder_seq_length,num_decoder_tokens),\n",
    "    dtype='float32'\n",
    ")"
   ]
  },
  {
   "cell_type": "code",
   "execution_count": 20,
   "id": "19010da6-6e6c-4790-aa6d-305b8d562b8c",
   "metadata": {},
   "outputs": [],
   "source": [
    "decoder_target_data=np.zeros(\n",
    "    (len(target_texts),max_decoder_seq_length,num_decoder_tokens),\n",
    "    dtype='float32'\n",
    ")"
   ]
  },
  {
   "cell_type": "code",
   "execution_count": 22,
   "id": "65e71def-ad78-4c4b-a1a1-06994f7a7218",
   "metadata": {},
   "outputs": [],
   "source": [
    "for i,(input_text,target_text) in enumerate(zip(input_texts,target_texts)):\n",
    "    for t,char in enumerate(input_text):\n",
    "        encoder_input_data[i,t,input_token_index[char]]=1.\n",
    "    encoder_input_data[i,t+1:,input_token_index[' ']]=1.\n",
    "    for t,char in enumerate(target_text):\n",
    "        decoder_input_data[i,t,target_token_index[char]]=1.\n",
    "        if t>0:\n",
    "            decoder_target_data[i,t-1,target_token_index[char]]=1.\n",
    "    decoder_input_data[i,t+1:,target_token_index[' ']]=1.\n",
    "    decoder_target_data[i,t:,target_token_index[' ']]=1.\n",
    "            "
   ]
  },
  {
   "cell_type": "code",
   "execution_count": 24,
   "id": "5856e3b0-1abe-4dfb-aff7-a18c4b2f6198",
   "metadata": {},
   "outputs": [],
   "source": [
    "encoder_inputs=Input(shape=(None,num_encoder_tokens))\n",
    "encoder=LSTM(latent_dimension,return_state=True)"
   ]
  },
  {
   "cell_type": "code",
   "execution_count": 25,
   "id": "b8eea704-f53d-41b0-b414-af25ac0d0134",
   "metadata": {},
   "outputs": [],
   "source": [
    "encoder_outputs,state_h,state_c=encoder(encoder_inputs)\n",
    "encoder_states=[state_h,state_c]"
   ]
  },
  {
   "cell_type": "code",
   "execution_count": 26,
   "id": "3a228a86-1acb-4e5b-940c-2beaba7bfcda",
   "metadata": {},
   "outputs": [],
   "source": [
    "decoder_inputs=Input(shape=(None,num_decoder_tokens))\n",
    "decoder_lstm=LSTM(latent_dimension,return_sequences=True,return_state=True)\n",
    "decoder_output,_,_=decoder_lstm(decoder_inputs,initial_state=encoder_states)\n",
    "decoder_dense=Dense(num_decoder_tokens,activation='softmax')\n",
    "decoder_outputs=decoder_dense(decoder_output)"
   ]
  },
  {
   "cell_type": "code",
   "execution_count": 27,
   "id": "6c641b57-5e9e-4eaa-9682-3863a588d0f4",
   "metadata": {},
   "outputs": [],
   "source": [
    "model=Model([encoder_inputs,decoder_inputs],decoder_outputs)"
   ]
  },
  {
   "cell_type": "code",
   "execution_count": 28,
   "id": "2d87678a-8b48-4952-bd5a-7476eed22666",
   "metadata": {},
   "outputs": [],
   "source": [
    "model.compile(optimizer='adam',loss='categorical_crossentropy',\n",
    "             metrics=['accuracy'])"
   ]
  },
  {
   "cell_type": "code",
   "execution_count": 29,
   "id": "f2ee6d77-a19a-420a-b8c1-9daaa2c52e07",
   "metadata": {},
   "outputs": [
    {
     "name": "stdout",
     "output_type": "stream",
     "text": [
      "Epoch 1/10\n",
      "\u001b[1m125/125\u001b[0m \u001b[32m━━━━━━━━━━━━━━━━━━━━\u001b[0m\u001b[37m\u001b[0m \u001b[1m16s\u001b[0m 103ms/step - accuracy: 0.7037 - loss: 1.8249 - val_accuracy: 0.7032 - val_loss: 1.0320\n",
      "Epoch 2/10\n",
      "\u001b[1m125/125\u001b[0m \u001b[32m━━━━━━━━━━━━━━━━━━━━\u001b[0m\u001b[37m\u001b[0m \u001b[1m12s\u001b[0m 97ms/step - accuracy: 0.7555 - loss: 0.8867 - val_accuracy: 0.7638 - val_loss: 0.8703\n",
      "Epoch 3/10\n",
      "\u001b[1m125/125\u001b[0m \u001b[32m━━━━━━━━━━━━━━━━━━━━\u001b[0m\u001b[37m\u001b[0m \u001b[1m12s\u001b[0m 100ms/step - accuracy: 0.7967 - loss: 0.7476 - val_accuracy: 0.7976 - val_loss: 0.7354\n",
      "Epoch 4/10\n",
      "\u001b[1m125/125\u001b[0m \u001b[32m━━━━━━━━━━━━━━━━━━━━\u001b[0m\u001b[37m\u001b[0m \u001b[1m12s\u001b[0m 99ms/step - accuracy: 0.8222 - loss: 0.6402 - val_accuracy: 0.8119 - val_loss: 0.6685\n",
      "Epoch 5/10\n",
      "\u001b[1m125/125\u001b[0m \u001b[32m━━━━━━━━━━━━━━━━━━━━\u001b[0m\u001b[37m\u001b[0m \u001b[1m12s\u001b[0m 96ms/step - accuracy: 0.8358 - loss: 0.5760 - val_accuracy: 0.8207 - val_loss: 0.6219\n",
      "Epoch 6/10\n",
      "\u001b[1m125/125\u001b[0m \u001b[32m━━━━━━━━━━━━━━━━━━━━\u001b[0m\u001b[37m\u001b[0m \u001b[1m12s\u001b[0m 97ms/step - accuracy: 0.8454 - loss: 0.5369 - val_accuracy: 0.8259 - val_loss: 0.5946\n",
      "Epoch 7/10\n",
      "\u001b[1m125/125\u001b[0m \u001b[32m━━━━━━━━━━━━━━━━━━━━\u001b[0m\u001b[37m\u001b[0m \u001b[1m13s\u001b[0m 102ms/step - accuracy: 0.8498 - loss: 0.5166 - val_accuracy: 0.8296 - val_loss: 0.5772\n",
      "Epoch 8/10\n",
      "\u001b[1m125/125\u001b[0m \u001b[32m━━━━━━━━━━━━━━━━━━━━\u001b[0m\u001b[37m\u001b[0m \u001b[1m12s\u001b[0m 100ms/step - accuracy: 0.8572 - loss: 0.4886 - val_accuracy: 0.8367 - val_loss: 0.5586\n",
      "Epoch 9/10\n",
      "\u001b[1m125/125\u001b[0m \u001b[32m━━━━━━━━━━━━━━━━━━━━\u001b[0m\u001b[37m\u001b[0m \u001b[1m13s\u001b[0m 104ms/step - accuracy: 0.8625 - loss: 0.4706 - val_accuracy: 0.8420 - val_loss: 0.5419\n",
      "Epoch 10/10\n",
      "\u001b[1m125/125\u001b[0m \u001b[32m━━━━━━━━━━━━━━━━━━━━\u001b[0m\u001b[37m\u001b[0m \u001b[1m12s\u001b[0m 100ms/step - accuracy: 0.8657 - loss: 0.4576 - val_accuracy: 0.8442 - val_loss: 0.5296\n"
     ]
    },
    {
     "data": {
      "text/plain": [
       "<keras.src.callbacks.history.History at 0x23b04565990>"
      ]
     },
     "execution_count": 29,
     "metadata": {},
     "output_type": "execute_result"
    }
   ],
   "source": [
    "model.fit([encoder_input_data,decoder_input_data],decoder_target_data,\n",
    "batch_size=batch_s,\n",
    "epochs=10,\n",
    "validation_split=0.2)"
   ]
  },
  {
   "cell_type": "code",
   "execution_count": 34,
   "id": "102ce4bc-6b32-4f2e-a2c5-4d473eaf7450",
   "metadata": {},
   "outputs": [],
   "source": [
    "encoder_model=Model(encoder_inputs,encoder_states)\n",
    "decoder_state_inputs_h=Input(shape=(latent_dimension,))\n",
    "decoder_state_inputs_c=Input(shape=(latent_dimension,))\n",
    "decoder_state_inputs=[decoder_state_inputs_h,decoder_state_inputs_c]\n",
    "decoder_outputs,state_h,state_c=decoder_lstm(decoder_inputs,initial_state=decoder_state_inputs)\n",
    "decoder_state=[state_h,state_c]\n",
    "\n",
    "decoder_model=Model(\n",
    "    [decoder_inputs]+decoder_state_inputs,\n",
    "    [decoder_outputs]+decoder_state)"
   ]
  },
  {
   "cell_type": "code",
   "execution_count": 35,
   "id": "37d22d94-1965-4a33-96ec-9916f8162a77",
   "metadata": {},
   "outputs": [],
   "source": [
    "reverse_input_char_index=dict(\n",
    "    (i,char) for char,i in input_token_index.items())"
   ]
  },
  {
   "cell_type": "code",
   "execution_count": 38,
   "id": "4f17720a-55fc-4cea-a475-558c1369353b",
   "metadata": {},
   "outputs": [],
   "source": [
    "reverse_target_char_index=dict(\n",
    "    (i,char) for char,i in target_token_index.items())"
   ]
  },
  {
   "cell_type": "code",
   "execution_count": 42,
   "id": "0f931eab-f777-4826-b31d-8a8fe9a42939",
   "metadata": {},
   "outputs": [],
   "source": [
    "def decode_sequence(input_seq):\n",
    "    states_value=encoder_model.predict(input_seq)\n",
    "    target_seq=np.zeros((1,1,num_decoder_tokens))\n",
    "    target_seq[0,0,target_token_index['\\t']]=1.\n",
    "    stop_condition=False\n",
    "    decoded_sequence=''\n",
    "    while not stop_condition:\n",
    "        output_tokens,h,c=decoder_model.predict([target_seq]+states_value)\n",
    "        sampled_token_index=np.argmax(output_tokens[0,-1,:])\n",
    "        sampled_char=reverse_target_char_index[sampled_token_index]\n",
    "        decoded_sequence+=sampled_char\n",
    "        if(sampled_char=='\\n' or len(decoded_sequence)>max_decoder_seq_length):\n",
    "            stop_condition=True\n",
    "        target_seq=np.zeros((1,1,num_decoder_tokens))\n",
    "        target_seq[0,0,sampled_token_index]=1.\n",
    "        states_value=[h,c]\n",
    "    return decoded_sequence"
   ]
  },
  {
   "cell_type": "code",
   "execution_count": 44,
   "id": "ee43a623-9746-4888-80e4-6ad2ee854764",
   "metadata": {},
   "outputs": [
    {
     "name": "stdout",
     "output_type": "stream",
     "text": [
      "\u001b[1m1/1\u001b[0m \u001b[32m━━━━━━━━━━━━━━━━━━━━\u001b[0m\u001b[37m\u001b[0m \u001b[1m0s\u001b[0m 21ms/step\n",
      "\u001b[1m1/1\u001b[0m \u001b[32m━━━━━━━━━━━━━━━━━━━━\u001b[0m\u001b[37m\u001b[0m \u001b[1m0s\u001b[0m 17ms/step\n"
     ]
    },
    {
     "ename": "KeyError",
     "evalue": "220",
     "output_type": "error",
     "traceback": [
      "\u001b[1;31m---------------------------------------------------------------------------\u001b[0m",
      "\u001b[1;31mKeyError\u001b[0m                                  Traceback (most recent call last)",
      "Cell \u001b[1;32mIn[44], line 3\u001b[0m\n\u001b[0;32m      1\u001b[0m \u001b[38;5;28;01mfor\u001b[39;00m seq_index \u001b[38;5;129;01min\u001b[39;00m \u001b[38;5;28mrange\u001b[39m(\u001b[38;5;241m300\u001b[39m):\n\u001b[0;32m      2\u001b[0m     input_seq\u001b[38;5;241m=\u001b[39mencoder_input_data[seq_index:seq_index\u001b[38;5;241m+\u001b[39m\u001b[38;5;241m1\u001b[39m]\n\u001b[1;32m----> 3\u001b[0m     decoded_sentence\u001b[38;5;241m=\u001b[39mdecode_sequence(input_seq)\n\u001b[0;32m      4\u001b[0m     \u001b[38;5;28mprint\u001b[39m(\u001b[38;5;124m'\u001b[39m\u001b[38;5;124m-\u001b[39m\u001b[38;5;124m'\u001b[39m)\n\u001b[0;32m      5\u001b[0m     \u001b[38;5;28mprint\u001b[39m(\u001b[38;5;124m'\u001b[39m\u001b[38;5;124mInput sentence:\u001b[39m\u001b[38;5;124m'\u001b[39m,input_texts[seq_index])\n",
      "Cell \u001b[1;32mIn[42], line 10\u001b[0m, in \u001b[0;36mdecode_sequence\u001b[1;34m(input_seq)\u001b[0m\n\u001b[0;32m      8\u001b[0m output_tokens,h,c\u001b[38;5;241m=\u001b[39mdecoder_model\u001b[38;5;241m.\u001b[39mpredict([target_seq]\u001b[38;5;241m+\u001b[39mstates_value)\n\u001b[0;32m      9\u001b[0m sampled_token_index\u001b[38;5;241m=\u001b[39mnp\u001b[38;5;241m.\u001b[39margmax(output_tokens[\u001b[38;5;241m0\u001b[39m,\u001b[38;5;241m-\u001b[39m\u001b[38;5;241m1\u001b[39m,:])\n\u001b[1;32m---> 10\u001b[0m sampled_char\u001b[38;5;241m=\u001b[39mreverse_target_char_index[sampled_token_index]\n\u001b[0;32m     11\u001b[0m decoded_sequence\u001b[38;5;241m+\u001b[39m\u001b[38;5;241m=\u001b[39msampled_char\n\u001b[0;32m     12\u001b[0m \u001b[38;5;28;01mif\u001b[39;00m(sampled_char\u001b[38;5;241m==\u001b[39m\u001b[38;5;124m'\u001b[39m\u001b[38;5;130;01m\\n\u001b[39;00m\u001b[38;5;124m'\u001b[39m \u001b[38;5;129;01mor\u001b[39;00m \u001b[38;5;28mlen\u001b[39m(decoded_sequence)\u001b[38;5;241m>\u001b[39mmax_decoder_seq_length):\n",
      "\u001b[1;31mKeyError\u001b[0m: 220"
     ]
    }
   ],
   "source": [
    "for seq_index in range(100):\n",
    "    input_seq=encoder_input_data[seq_index:seq_index+1]\n",
    "    decoded_sentence=decode_sequence(input_seq)\n",
    "    print('-')\n",
    "    print('Input sentence:',input_texts[seq_index])\n",
    "    print('Decoded sentence:',decoded_sentence)\n",
    "    "
   ]
  },
  {
   "cell_type": "code",
   "execution_count": null,
   "id": "b2e79e14-a34f-427a-a063-dcf5aa97375c",
   "metadata": {},
   "outputs": [],
   "source": []
  }
 ],
 "metadata": {
  "kernelspec": {
   "display_name": "Python 3 (ipykernel)",
   "language": "python",
   "name": "python3"
  },
  "language_info": {
   "codemirror_mode": {
    "name": "ipython",
    "version": 3
   },
   "file_extension": ".py",
   "mimetype": "text/x-python",
   "name": "python",
   "nbconvert_exporter": "python",
   "pygments_lexer": "ipython3",
   "version": "3.11.7"
  }
 },
 "nbformat": 4,
 "nbformat_minor": 5
}
