{
 "cells": [
  {
   "cell_type": "code",
   "execution_count": 3,
   "id": "cbb91f74-3e59-44b8-a9c4-9015d7a53b4c",
   "metadata": {},
   "outputs": [],
   "source": [
    "from __future__ import print_function \n",
    "from keras.models import Model\n",
    "from keras.layers import Input,LSTM,Dense\n",
    "import numpy as np"
   ]
  },
  {
   "cell_type": "code",
   "execution_count": 6,
   "id": "df20be7f-4766-4578-ad20-b0e63f79fb55",
   "metadata": {},
   "outputs": [],
   "source": [
    "batch_s=64\n",
    "epochs=100\n",
    "latent_dimension=256\n",
    "number_samples=10000  \n",
    "data_path='./fra.txt'"
   ]
  },
  {
   "cell_type": "code",
   "execution_count": 7,
   "id": "5287ce7e-7f32-4cd0-83ed-25bafbd62f7d",
   "metadata": {},
   "outputs": [],
   "source": [
    "input_texts=[]\n",
    "target_texts=[]\n",
    "input_characters=set()\n",
    "target_characters=set()\n",
    "with open (data_path,'r',encoding='utf-8') as f:\n",
    "    lines=f.read().split('\\n')\n",
    "for line in lines[:min(number_samples,len(lines)-1)]:\n",
    "    input_text,target_text,_=line.split('\\t')\n",
    "    target_text='\\t'+target_text+'\\n'\n",
    "    input_texts.append(input_text)\n",
    "    target_texts.append(target_text)\n",
    "    for char in input_text:\n",
    "        if char not in input_characters:\n",
    "            input_characters.add(char)\n",
    "    for char in target_text:\n",
    "        if char not in target_characters:\n",
    "            target_characters.add(char)"
   ]
  },
  {
   "cell_type": "code",
   "execution_count": 11,
   "id": "988a1fee-4730-411d-97e8-bb39d27478f5",
   "metadata": {},
   "outputs": [
    {
     "data": {
      "text/plain": [
       "10000"
      ]
     },
     "execution_count": 11,
     "metadata": {},
     "output_type": "execute_result"
    }
   ],
   "source": [
    "len(input_texts)"
   ]
  },
  {
   "cell_type": "code",
   "execution_count": 15,
   "id": "797c0e58-9125-4f1e-a917-ffb544d94a49",
   "metadata": {},
   "outputs": [
    {
     "data": {
      "text/plain": [
       "10000"
      ]
     },
     "execution_count": 15,
     "metadata": {},
     "output_type": "execute_result"
    }
   ],
   "source": [
    "len(target_texts)"
   ]
  },
  {
   "cell_type": "code",
   "execution_count": 16,
   "id": "1654ee97-96aa-4d16-86cc-5557f881d4fb",
   "metadata": {},
   "outputs": [],
   "source": [
    "input_characters=sorted(list(input_characters))\n",
    "target_characters=sorted(list(target_characters))\n",
    "\n",
    "num_encoder_tokens=len(input_characters)\n",
    "num_decoder_tokens=len(target_characters)"
   ]
  },
  {
   "cell_type": "code",
   "execution_count": 17,
   "id": "5e6716d7-af1b-4993-add1-71f5c1e03d04",
   "metadata": {},
   "outputs": [],
   "source": [
    "max_encoder_seq_length=max([len(text) for text in input_texts])\n",
    "max_decoder_seq_length=max([len(text) for text in target_texts])"
   ]
  },
  {
   "cell_type": "code",
   "execution_count": 18,
   "id": "5b92b8c9-895f-4b46-b138-8d5fe3aa8eeb",
   "metadata": {},
   "outputs": [
    {
     "data": {
      "text/plain": [
       "59"
      ]
     },
     "execution_count": 18,
     "metadata": {},
     "output_type": "execute_result"
    }
   ],
   "source": [
    "max_decoder_seq_length"
   ]
  },
  {
   "cell_type": "code",
   "execution_count": 19,
   "id": "56cc751a-fd7d-4330-a60a-c659b986cc9f",
   "metadata": {},
   "outputs": [
    {
     "data": {
      "text/plain": [
       "14"
      ]
     },
     "execution_count": 19,
     "metadata": {},
     "output_type": "execute_result"
    }
   ],
   "source": [
    "max_encoder_seq_length"
   ]
  },
  {
   "cell_type": "code",
   "execution_count": 20,
   "id": "4d191e8d-ebc2-4d83-856d-56720a2b6fec",
   "metadata": {},
   "outputs": [
    {
     "data": {
      "text/plain": [
       "70"
      ]
     },
     "execution_count": 20,
     "metadata": {},
     "output_type": "execute_result"
    }
   ],
   "source": [
    "num_encoder_tokens"
   ]
  },
  {
   "cell_type": "code",
   "execution_count": 21,
   "id": "c3163159-5ccb-48c0-b96b-226df1d94bb4",
   "metadata": {},
   "outputs": [
    {
     "data": {
      "text/plain": [
       "91"
      ]
     },
     "execution_count": 21,
     "metadata": {},
     "output_type": "execute_result"
    }
   ],
   "source": [
    "num_decoder_tokens"
   ]
  },
  {
   "cell_type": "code",
   "execution_count": 26,
   "id": "82ffc1d9-5108-42eb-a477-6e5030961001",
   "metadata": {},
   "outputs": [],
   "source": [
    "input_token_index=dict(\n",
    "    [(char,i) for i,char in enumerate(input_characters)]\n",
    ")"
   ]
  },
  {
   "cell_type": "code",
   "execution_count": 23,
   "id": "b64d58d1-bbdc-4f7f-915b-a73e02ce9ae0",
   "metadata": {},
   "outputs": [
    {
     "data": {
      "text/plain": [
       "70"
      ]
     },
     "execution_count": 23,
     "metadata": {},
     "output_type": "execute_result"
    }
   ],
   "source": [
    "num_encoder_tokens"
   ]
  },
  {
   "cell_type": "code",
   "execution_count": 25,
   "id": "275e6e2a-5581-4f24-bf70-c87d84397ecb",
   "metadata": {},
   "outputs": [
    {
     "data": {
      "text/plain": [
       "70"
      ]
     },
     "execution_count": 25,
     "metadata": {},
     "output_type": "execute_result"
    }
   ],
   "source": [
    "len(input_characters)"
   ]
  },
  {
   "cell_type": "code",
   "execution_count": 28,
   "id": "73e72451-62fa-4a21-ab6b-6ad9bb464203",
   "metadata": {},
   "outputs": [],
   "source": [
    "target_token_index=dict(\n",
    "    [(char,i) for i,char in enumerate(target_characters)]\n",
    ")"
   ]
  },
  {
   "cell_type": "code",
   "execution_count": 31,
   "id": "5f658d2a-39da-4044-a764-24a986921691",
   "metadata": {},
   "outputs": [
    {
     "data": {
      "text/plain": [
       "10000"
      ]
     },
     "execution_count": 31,
     "metadata": {},
     "output_type": "execute_result"
    }
   ],
   "source": [
    "len(input_texts)"
   ]
  },
  {
   "cell_type": "code",
   "execution_count": 32,
   "id": "9719ed0d-072c-401c-90de-33014d7901c2",
   "metadata": {},
   "outputs": [],
   "source": [
    "encoder_input_data=np.zeros(\n",
    "    (len(input_texts),max_encoder_seq_length,num_encoder_tokens),\n",
    "    dtype='float32'\n",
    ")"
   ]
  },
  {
   "cell_type": "code",
   "execution_count": 33,
   "id": "6045e331-0dfe-4037-8b8f-7d95a01e0d30",
   "metadata": {},
   "outputs": [
    {
     "data": {
      "text/plain": [
       "(10000, 14, 70)"
      ]
     },
     "execution_count": 33,
     "metadata": {},
     "output_type": "execute_result"
    }
   ],
   "source": [
    "encoder_input_data.shape"
   ]
  },
  {
   "cell_type": "code",
   "execution_count": null,
   "id": "08eaa53a-36ba-420f-aca6-7939fd57ac3c",
   "metadata": {},
   "outputs": [],
   "source": []
  }
 ],
 "metadata": {
  "kernelspec": {
   "display_name": "Python 3 (ipykernel)",
   "language": "python",
   "name": "python3"
  },
  "language_info": {
   "codemirror_mode": {
    "name": "ipython",
    "version": 3
   },
   "file_extension": ".py",
   "mimetype": "text/x-python",
   "name": "python",
   "nbconvert_exporter": "python",
   "pygments_lexer": "ipython3",
   "version": "3.11.7"
  }
 },
 "nbformat": 4,
 "nbformat_minor": 5
}
