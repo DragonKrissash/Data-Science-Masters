{
 "cells": [
  {
   "cell_type": "code",
   "execution_count": 1,
   "id": "c103da5c-dc0d-4edb-a8e2-25d7f864e07f",
   "metadata": {},
   "outputs": [],
   "source": [
    "corpus = ['This is the first sentence in our corpus followed by one more sentence to demonstrate Bag of Words',\n",
    "          'This is the sencond sentence in our corpus with a FEW UPPER WORDS and Few Title Case Words']"
   ]
  },
  {
   "cell_type": "code",
   "execution_count": 4,
   "id": "58cb3928-0287-4f5a-b1ab-83709db0f62a",
   "metadata": {},
   "outputs": [
    {
     "name": "stdout",
     "output_type": "stream",
     "text": [
      "['Bag', 'Case', 'FEW', 'Few', 'This', 'Title', 'UPPER', 'WORDS', 'Words', 'a', 'and', 'by', 'corpus', 'demonstrate', 'first', 'followed', 'in', 'is', 'more', 'of', 'one', 'our', 'sencond', 'sentence', 'the', 'to', 'with']\n"
     ]
    }
   ],
   "source": [
    "vocab=[]\n",
    "total_words=0\n",
    "for sentence in corpus:\n",
    "    token_temp=sentence.split()\n",
    "    total_words=total_words+len(token_temp)\n",
    "    for i in token_temp:\n",
    "        if i not in vocab:\n",
    "            vocab.append(i)\n",
    "vocab.sort()\n",
    "print(vocab)"
   ]
  },
  {
   "cell_type": "code",
   "execution_count": 5,
   "id": "8ec7eeb9-ad24-4ec5-9452-433fd6208cde",
   "metadata": {},
   "outputs": [],
   "source": [
    "from sklearn.feature_extraction.text import TfidfVectorizer"
   ]
  },
  {
   "cell_type": "code",
   "execution_count": 7,
   "id": "00a32151-6f8e-43fa-a7c4-f2a4d4c0c53c",
   "metadata": {},
   "outputs": [],
   "source": [
    "data=['I love natural language processing',\n",
    "      'creating word vectors',\n",
    "      'Is my jam!'   \n",
    "]"
   ]
  },
  {
   "cell_type": "code",
   "execution_count": 8,
   "id": "eb32776f-384c-42b9-97c5-3da55fbb40ef",
   "metadata": {},
   "outputs": [],
   "source": [
    "tfv=TfidfVectorizer()"
   ]
  },
  {
   "cell_type": "code",
   "execution_count": 9,
   "id": "5d252ceb-dfe8-48cf-bb20-b5fc0d40cb8a",
   "metadata": {},
   "outputs": [],
   "source": [
    "vector_data=tfv.fit_transform(data)"
   ]
  },
  {
   "cell_type": "code",
   "execution_count": 10,
   "id": "8eec39ec-d073-4cfa-977f-f401a4b0ee2b",
   "metadata": {},
   "outputs": [
    {
     "data": {
      "text/plain": [
       "<3x10 sparse matrix of type '<class 'numpy.float64'>'\n",
       "\twith 10 stored elements in Compressed Sparse Row format>"
      ]
     },
     "execution_count": 10,
     "metadata": {},
     "output_type": "execute_result"
    }
   ],
   "source": [
    "vector_data"
   ]
  },
  {
   "cell_type": "code",
   "execution_count": 11,
   "id": "2c780f45-4ce2-4a8f-89be-3e6e62ed1b74",
   "metadata": {},
   "outputs": [],
   "source": [
    "X=vector_data.toarray()"
   ]
  },
  {
   "cell_type": "code",
   "execution_count": 12,
   "id": "ae004ea8-ea4a-42fc-945d-5fbc54a67153",
   "metadata": {},
   "outputs": [
    {
     "data": {
      "text/plain": [
       "array([[0.        , 0.        , 0.        , 0.5       , 0.5       ,\n",
       "        0.        , 0.5       , 0.5       , 0.        , 0.        ],\n",
       "       [0.57735027, 0.        , 0.        , 0.        , 0.        ,\n",
       "        0.        , 0.        , 0.        , 0.57735027, 0.57735027],\n",
       "       [0.        , 0.57735027, 0.57735027, 0.        , 0.        ,\n",
       "        0.57735027, 0.        , 0.        , 0.        , 0.        ]])"
      ]
     },
     "execution_count": 12,
     "metadata": {},
     "output_type": "execute_result"
    }
   ],
   "source": [
    "X"
   ]
  },
  {
   "cell_type": "code",
   "execution_count": 13,
   "id": "d5e9cfe5-af3b-40fb-9212-9b166a5ea0e9",
   "metadata": {},
   "outputs": [],
   "source": [
    "from sklearn.feature_extraction.text import CountVectorizer"
   ]
  },
  {
   "cell_type": "code",
   "execution_count": 14,
   "id": "436b15a7-7288-4fea-8c85-f32b4660f791",
   "metadata": {},
   "outputs": [
    {
     "data": {
      "text/plain": [
       "<3x10 sparse matrix of type '<class 'numpy.int64'>'\n",
       "\twith 10 stored elements in Compressed Sparse Row format>"
      ]
     },
     "execution_count": 14,
     "metadata": {},
     "output_type": "execute_result"
    }
   ],
   "source": [
    "cv=CountVectorizer()\n",
    "cv.fit_transform(data)"
   ]
  },
  {
   "cell_type": "code",
   "execution_count": 15,
   "id": "312481eb-b23e-42a4-ab65-a39728cb4b12",
   "metadata": {},
   "outputs": [
    {
     "data": {
      "text/plain": [
       "array([[0, 0, 0, 1, 1, 0, 1, 1, 0, 0],\n",
       "       [1, 0, 0, 0, 0, 0, 0, 0, 1, 1],\n",
       "       [0, 1, 1, 0, 0, 1, 0, 0, 0, 0]], dtype=int64)"
      ]
     },
     "execution_count": 15,
     "metadata": {},
     "output_type": "execute_result"
    }
   ],
   "source": [
    "cv.fit_transform(data).toarray()"
   ]
  },
  {
   "cell_type": "code",
   "execution_count": null,
   "id": "201b92a3-07b4-4d97-81b0-11916c4e6607",
   "metadata": {},
   "outputs": [],
   "source": []
  }
 ],
 "metadata": {
  "kernelspec": {
   "display_name": "Python 3 (ipykernel)",
   "language": "python",
   "name": "python3"
  },
  "language_info": {
   "codemirror_mode": {
    "name": "ipython",
    "version": 3
   },
   "file_extension": ".py",
   "mimetype": "text/x-python",
   "name": "python",
   "nbconvert_exporter": "python",
   "pygments_lexer": "ipython3",
   "version": "3.11.7"
  }
 },
 "nbformat": 4,
 "nbformat_minor": 5
}
