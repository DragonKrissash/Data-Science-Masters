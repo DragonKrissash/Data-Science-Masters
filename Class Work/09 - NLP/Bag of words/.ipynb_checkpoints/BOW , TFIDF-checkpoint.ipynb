{
 "cells": [
  {
   "cell_type": "code",
   "execution_count": 1,
   "id": "c103da5c-dc0d-4edb-a8e2-25d7f864e07f",
   "metadata": {},
   "outputs": [],
   "source": [
    "corpus = ['This is the first sentence in our corpus followed by one more sentence to demonstrate Bag of Words',\n",
    "          'This is the sencond sentence in our corpus with a FEW UPPER WORDS and Few Title Case Words']"
   ]
  },
  {
   "cell_type": "code",
   "execution_count": 3,
   "id": "58cb3928-0287-4f5a-b1ab-83709db0f62a",
   "metadata": {},
   "outputs": [
    {
     "name": "stdout",
     "output_type": "stream",
     "text": [
      "['Bag', 'Case', 'FEW', 'Few', 'This', 'Title', 'UPPER', 'WORDS', 'Words', 'a', 'and', 'by', 'corpus', 'demonstrate', 'first', 'followed', 'in', 'is', 'more', 'of', 'one', 'our', 'sencond', 'sentence', 'the', 'to', 'with']\n"
     ]
    }
   ],
   "source": [
    "vocab=[]\n",
    "total_words=0\n",
    "for sentence in corpus:\n",
    "    token_temp=sentence.split()\n",
    "    total_words=total_words+len(token_temp)\n",
    "    for i in token_temp:\n",
    "        if i not in vocab:\n",
    "            vocab.append(token_temp[i])\n",
    "vocab.sort()\n",
    "print(vocab)"
   ]
  },
  {
   "cell_type": "code",
   "execution_count": null,
   "id": "8ec7eeb9-ad24-4ec5-9452-433fd6208cde",
   "metadata": {},
   "outputs": [],
   "source": []
  }
 ],
 "metadata": {
  "kernelspec": {
   "display_name": "Python 3 (ipykernel)",
   "language": "python",
   "name": "python3"
  },
  "language_info": {
   "codemirror_mode": {
    "name": "ipython",
    "version": 3
   },
   "file_extension": ".py",
   "mimetype": "text/x-python",
   "name": "python",
   "nbconvert_exporter": "python",
   "pygments_lexer": "ipython3",
   "version": "3.11.7"
  }
 },
 "nbformat": 4,
 "nbformat_minor": 5
}
