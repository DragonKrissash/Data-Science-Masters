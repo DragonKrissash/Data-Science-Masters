{
  "nbformat": 4,
  "nbformat_minor": 0,
  "metadata": {
    "colab": {
      "provenance": [],
      "gpuType": "T4"
    },
    "kernelspec": {
      "name": "python3",
      "display_name": "Python 3"
    },
    "language_info": {
      "name": "python"
    },
    "accelerator": "GPU"
  },
  "cells": [
    {
      "cell_type": "code",
      "execution_count": 4,
      "metadata": {
        "id": "oVTevy4WFlZc"
      },
      "outputs": [],
      "source": [
        "import numpy as np"
      ]
    },
    {
      "cell_type": "code",
      "source": [
        "docs = ['recurrent neural network',\n",
        "\t\t'neural network',\n",
        "\t\t'artificial neural',\n",
        "\t\t'connections between nodes',\n",
        "\t\t'can create a cycle',\n",
        "\t\t'allowing output',\n",
        "\t\t'some nodes to affect subsequent',\n",
        "\t\t'exhibit temporal',\n",
        "\t\t'dynamic behavior',\n",
        "\t\t'type of Neural Network',\n",
        "    'affect subsequent']"
      ],
      "metadata": {
        "id": "wLMtXJLQFv8_"
      },
      "execution_count": 1,
      "outputs": []
    },
    {
      "cell_type": "code",
      "source": [
        "import tensorflow as tf"
      ],
      "metadata": {
        "id": "_A3QnZVQGP8c"
      },
      "execution_count": 2,
      "outputs": []
    },
    {
      "cell_type": "code",
      "source": [
        "from keras.preprocessing.text import Tokenizer\n",
        "tokenizer=Tokenizer(oov_token=\"<nothing>\")"
      ],
      "metadata": {
        "id": "M8jiBUOiGajp"
      },
      "execution_count": 5,
      "outputs": []
    },
    {
      "cell_type": "code",
      "source": [
        "tokenizer.fit_on_texts(docs)"
      ],
      "metadata": {
        "id": "1qAfEiyBGtQf"
      },
      "execution_count": 6,
      "outputs": []
    },
    {
      "cell_type": "code",
      "source": [
        "tokenizer.word_index"
      ],
      "metadata": {
        "colab": {
          "base_uri": "https://localhost:8080/"
        },
        "id": "mjoy-ar2HkHj",
        "outputId": "7b6a2912-f56c-4277-8ace-e8c59ef0d846"
      },
      "execution_count": 7,
      "outputs": [
        {
          "output_type": "execute_result",
          "data": {
            "text/plain": [
              "{'<nothing>': 1,\n",
              " 'neural': 2,\n",
              " 'network': 3,\n",
              " 'nodes': 4,\n",
              " 'affect': 5,\n",
              " 'subsequent': 6,\n",
              " 'recurrent': 7,\n",
              " 'artificial': 8,\n",
              " 'connections': 9,\n",
              " 'between': 10,\n",
              " 'can': 11,\n",
              " 'create': 12,\n",
              " 'a': 13,\n",
              " 'cycle': 14,\n",
              " 'allowing': 15,\n",
              " 'output': 16,\n",
              " 'some': 17,\n",
              " 'to': 18,\n",
              " 'exhibit': 19,\n",
              " 'temporal': 20,\n",
              " 'dynamic': 21,\n",
              " 'behavior': 22,\n",
              " 'type': 23,\n",
              " 'of': 24}"
            ]
          },
          "metadata": {},
          "execution_count": 7
        }
      ]
    },
    {
      "cell_type": "code",
      "source": [
        "tokenizer.word_counts"
      ],
      "metadata": {
        "colab": {
          "base_uri": "https://localhost:8080/"
        },
        "id": "YycAF7JkH8Kv",
        "outputId": "53b950d4-916e-457e-e441-d9bd98861a34"
      },
      "execution_count": 8,
      "outputs": [
        {
          "output_type": "execute_result",
          "data": {
            "text/plain": [
              "OrderedDict([('recurrent', 1),\n",
              "             ('neural', 4),\n",
              "             ('network', 3),\n",
              "             ('artificial', 1),\n",
              "             ('connections', 1),\n",
              "             ('between', 1),\n",
              "             ('nodes', 2),\n",
              "             ('can', 1),\n",
              "             ('create', 1),\n",
              "             ('a', 1),\n",
              "             ('cycle', 1),\n",
              "             ('allowing', 1),\n",
              "             ('output', 1),\n",
              "             ('some', 1),\n",
              "             ('to', 1),\n",
              "             ('affect', 2),\n",
              "             ('subsequent', 2),\n",
              "             ('exhibit', 1),\n",
              "             ('temporal', 1),\n",
              "             ('dynamic', 1),\n",
              "             ('behavior', 1),\n",
              "             ('type', 1),\n",
              "             ('of', 1)])"
            ]
          },
          "metadata": {},
          "execution_count": 8
        }
      ]
    },
    {
      "cell_type": "code",
      "source": [
        "tokenizer.document_count"
      ],
      "metadata": {
        "colab": {
          "base_uri": "https://localhost:8080/"
        },
        "id": "lYRmdlmiIEqZ",
        "outputId": "b1901bdd-5781-4e17-d415-8442f6fd7768"
      },
      "execution_count": 9,
      "outputs": [
        {
          "output_type": "execute_result",
          "data": {
            "text/plain": [
              "11"
            ]
          },
          "metadata": {},
          "execution_count": 9
        }
      ]
    },
    {
      "cell_type": "code",
      "source": [
        "sequences=tokenizer.texts_to_sequences(docs)"
      ],
      "metadata": {
        "id": "xujrkhMdIVjg"
      },
      "execution_count": 10,
      "outputs": []
    },
    {
      "cell_type": "code",
      "source": [
        "sequences"
      ],
      "metadata": {
        "colab": {
          "base_uri": "https://localhost:8080/"
        },
        "id": "wn5t-huPIkbi",
        "outputId": "10fac4f8-9ceb-4e1a-cf9a-ee559b997347"
      },
      "execution_count": 11,
      "outputs": [
        {
          "output_type": "execute_result",
          "data": {
            "text/plain": [
              "[[7, 2, 3],\n",
              " [2, 3],\n",
              " [8, 2],\n",
              " [9, 10, 4],\n",
              " [11, 12, 13, 14],\n",
              " [15, 16],\n",
              " [17, 4, 18, 5, 6],\n",
              " [19, 20],\n",
              " [21, 22],\n",
              " [23, 24, 2, 3],\n",
              " [5, 6]]"
            ]
          },
          "metadata": {},
          "execution_count": 11
        }
      ]
    },
    {
      "cell_type": "code",
      "source": [
        "from keras.utils import pad_sequences"
      ],
      "metadata": {
        "id": "ANKgwurHIl5e"
      },
      "execution_count": 12,
      "outputs": []
    },
    {
      "cell_type": "code",
      "source": [
        "sequences=pad_sequences(sequences,maxlen=10,padding='post')"
      ],
      "metadata": {
        "id": "9gR5lC5FOXd7"
      },
      "execution_count": 13,
      "outputs": []
    },
    {
      "cell_type": "code",
      "source": [
        "sequences"
      ],
      "metadata": {
        "colab": {
          "base_uri": "https://localhost:8080/"
        },
        "id": "UdE2VVVOOncl",
        "outputId": "b9d024ea-cf8d-47f8-9417-1261e6dff6af"
      },
      "execution_count": 14,
      "outputs": [
        {
          "output_type": "execute_result",
          "data": {
            "text/plain": [
              "array([[ 7,  2,  3,  0,  0,  0,  0,  0,  0,  0],\n",
              "       [ 2,  3,  0,  0,  0,  0,  0,  0,  0,  0],\n",
              "       [ 8,  2,  0,  0,  0,  0,  0,  0,  0,  0],\n",
              "       [ 9, 10,  4,  0,  0,  0,  0,  0,  0,  0],\n",
              "       [11, 12, 13, 14,  0,  0,  0,  0,  0,  0],\n",
              "       [15, 16,  0,  0,  0,  0,  0,  0,  0,  0],\n",
              "       [17,  4, 18,  5,  6,  0,  0,  0,  0,  0],\n",
              "       [19, 20,  0,  0,  0,  0,  0,  0,  0,  0],\n",
              "       [21, 22,  0,  0,  0,  0,  0,  0,  0,  0],\n",
              "       [23, 24,  2,  3,  0,  0,  0,  0,  0,  0],\n",
              "       [ 5,  6,  0,  0,  0,  0,  0,  0,  0,  0]], dtype=int32)"
            ]
          },
          "metadata": {},
          "execution_count": 14
        }
      ]
    },
    {
      "cell_type": "code",
      "source": [
        "#Sentiment analysis using RNN"
      ],
      "metadata": {
        "id": "Qk-Hnu3QOxoX"
      },
      "execution_count": 21,
      "outputs": []
    },
    {
      "cell_type": "code",
      "source": [
        "from keras.datasets import imdb\n",
        "(Xtr,ytr),(Xte,yte)=imdb.load_data()"
      ],
      "metadata": {
        "colab": {
          "base_uri": "https://localhost:8080/"
        },
        "id": "LyIAYPrIP5Q5",
        "outputId": "3f4788da-b45c-457a-eb86-56d6ad54710d"
      },
      "execution_count": 22,
      "outputs": [
        {
          "output_type": "stream",
          "name": "stdout",
          "text": [
            "Downloading data from https://storage.googleapis.com/tensorflow/tf-keras-datasets/imdb.npz\n",
            "17464789/17464789 [==============================] - 0s 0us/step\n"
          ]
        }
      ]
    },
    {
      "cell_type": "code",
      "source": [
        "from keras import Sequential\n",
        "from keras.layers import Dense, SimpleRNN,Embedding,Flatten"
      ],
      "metadata": {
        "id": "Hgc7fq2WP8Hh"
      },
      "execution_count": 23,
      "outputs": []
    },
    {
      "cell_type": "code",
      "source": [],
      "metadata": {
        "id": "1FZv779lj3p_"
      },
      "execution_count": 23,
      "outputs": []
    },
    {
      "cell_type": "code",
      "source": [
        "len(Xtr[0])"
      ],
      "metadata": {
        "colab": {
          "base_uri": "https://localhost:8080/"
        },
        "id": "iQjuI971SO7L",
        "outputId": "c2458771-4a89-4fe4-c38c-3033f2a1cdc5"
      },
      "execution_count": 24,
      "outputs": [
        {
          "output_type": "execute_result",
          "data": {
            "text/plain": [
              "218"
            ]
          },
          "metadata": {},
          "execution_count": 24
        }
      ]
    },
    {
      "cell_type": "code",
      "source": [
        "maxlen=500\n",
        "Xtr_pad=pad_sequences(Xtr,maxlen,padding='post')\n",
        "Xte_pad=pad_sequences(Xte,maxlen,padding='post')"
      ],
      "metadata": {
        "id": "ow0Ik0BhSoMn"
      },
      "execution_count": 25,
      "outputs": []
    },
    {
      "cell_type": "code",
      "source": [
        "model=Sequential()\n",
        "model.add(SimpleRNN(32,input_shape=(500,1),return_sequences=False))\n",
        "model.add(Dense(1,activation='sigmoid'))"
      ],
      "metadata": {
        "id": "JdV0GERbTbMZ"
      },
      "execution_count": 26,
      "outputs": []
    },
    {
      "cell_type": "code",
      "source": [
        "model.summary()"
      ],
      "metadata": {
        "colab": {
          "base_uri": "https://localhost:8080/"
        },
        "id": "9RUSt_9Dj0T8",
        "outputId": "deaa1c08-a010-47f5-e21e-1b0d75dbf659"
      },
      "execution_count": 27,
      "outputs": [
        {
          "output_type": "stream",
          "name": "stdout",
          "text": [
            "Model: \"sequential_1\"\n",
            "_________________________________________________________________\n",
            " Layer (type)                Output Shape              Param #   \n",
            "=================================================================\n",
            " simple_rnn_1 (SimpleRNN)    (None, 32)                1088      \n",
            "                                                                 \n",
            " dense_1 (Dense)             (None, 1)                 33        \n",
            "                                                                 \n",
            "=================================================================\n",
            "Total params: 1121 (4.38 KB)\n",
            "Trainable params: 1121 (4.38 KB)\n",
            "Non-trainable params: 0 (0.00 Byte)\n",
            "_________________________________________________________________\n"
          ]
        }
      ]
    },
    {
      "cell_type": "code",
      "source": [
        "model.compile(metrics=['accuracy'],optimizer='adam',loss='binary_crossentropy')"
      ],
      "metadata": {
        "id": "BPF9s-Raj8M7"
      },
      "execution_count": 28,
      "outputs": []
    },
    {
      "cell_type": "code",
      "source": [
        "model.fit(Xtr_pad,ytr,epochs=5,validation_data=(Xte_pad,yte),verbose=2)"
      ],
      "metadata": {
        "colab": {
          "base_uri": "https://localhost:8080/"
        },
        "id": "tRKucSYulvo_",
        "outputId": "88e10d5b-d8d3-4311-91a9-dd5c2bc6cf52"
      },
      "execution_count": 29,
      "outputs": [
        {
          "output_type": "stream",
          "name": "stdout",
          "text": [
            "Epoch 1/5\n",
            "782/782 - 230s - loss: 0.6943 - accuracy: 0.5039 - val_loss: 0.6935 - val_accuracy: 0.5050 - 230s/epoch - 294ms/step\n",
            "Epoch 2/5\n",
            "782/782 - 227s - loss: 0.6938 - accuracy: 0.5028 - val_loss: 0.6935 - val_accuracy: 0.5068 - 227s/epoch - 290ms/step\n",
            "Epoch 3/5\n",
            "782/782 - 225s - loss: 0.6938 - accuracy: 0.5034 - val_loss: 0.6935 - val_accuracy: 0.5084 - 225s/epoch - 288ms/step\n",
            "Epoch 4/5\n",
            "782/782 - 228s - loss: 0.6938 - accuracy: 0.5041 - val_loss: 0.6950 - val_accuracy: 0.5036 - 228s/epoch - 292ms/step\n",
            "Epoch 5/5\n",
            "782/782 - 241s - loss: 0.6937 - accuracy: 0.5046 - val_loss: 0.6938 - val_accuracy: 0.5059 - 241s/epoch - 309ms/step\n"
          ]
        },
        {
          "output_type": "execute_result",
          "data": {
            "text/plain": [
              "<keras.src.callbacks.History at 0x7f7c4c329060>"
            ]
          },
          "metadata": {},
          "execution_count": 29
        }
      ]
    },
    {
      "cell_type": "code",
      "source": [
        "from keras.models import Sequential\n",
        "from keras.layers import Embedding, Dense, SimpleRNN\n",
        "model=Sequential()\n",
        "model.add(Embedding(23,output_dim=2,input_length=500))\n",
        "model.add(SimpleRNN(32,input_shape=(500,1),return_sequences=False))\n",
        "model.summary()"
      ],
      "metadata": {
        "colab": {
          "base_uri": "https://localhost:8080/"
        },
        "id": "FLYNcVFxtal-",
        "outputId": "3b262e28-03ba-42f6-84a6-9a0a9a66a18a"
      },
      "execution_count": 21,
      "outputs": [
        {
          "output_type": "stream",
          "name": "stdout",
          "text": [
            "Model: \"sequential_2\"\n",
            "_________________________________________________________________\n",
            " Layer (type)                Output Shape              Param #   \n",
            "=================================================================\n",
            " embedding_2 (Embedding)     (None, 500, 2)            46        \n",
            "                                                                 \n",
            " simple_rnn (SimpleRNN)      (None, 32)                1120      \n",
            "                                                                 \n",
            "=================================================================\n",
            "Total params: 1166 (4.55 KB)\n",
            "Trainable params: 1166 (4.55 KB)\n",
            "Non-trainable params: 0 (0.00 Byte)\n",
            "_________________________________________________________________\n"
          ]
        }
      ]
    },
    {
      "cell_type": "code",
      "source": [
        "from keras.datasets import imdb\n",
        "(Xtr,ytr),(Xte,yte)=imdb.load_data(num_words=10000)"
      ],
      "metadata": {
        "id": "_XK7oCzr1L7i"
      },
      "execution_count": 40,
      "outputs": []
    },
    {
      "cell_type": "code",
      "source": [
        "from keras.utils import pad_sequences"
      ],
      "metadata": {
        "id": "iz7GeU0H2KDc"
      },
      "execution_count": 41,
      "outputs": []
    },
    {
      "cell_type": "code",
      "source": [
        "Xtr_pad=pad_sequences(Xtr,maxlen=50,padding='post')\n",
        "Xte_pad=pad_sequences(Xte,maxlen=50,padding='post')"
      ],
      "metadata": {
        "id": "5hWQiQl02zyS"
      },
      "execution_count": 50,
      "outputs": []
    },
    {
      "cell_type": "code",
      "source": [
        "Xtr_pad"
      ],
      "metadata": {
        "colab": {
          "base_uri": "https://localhost:8080/"
        },
        "id": "PrKbZ0IX23V_",
        "outputId": "741c0eba-2548-4cb1-a918-ecb1763e9811"
      },
      "execution_count": 51,
      "outputs": [
        {
          "output_type": "execute_result",
          "data": {
            "text/plain": [
              "array([[2071,   56,   26, ...,   19,  178,   32],\n",
              "       [8255,    5,    2, ...,   16,  145,   95],\n",
              "       [ 215,   28,  610, ...,    7,  129,  113],\n",
              "       ...,\n",
              "       [   4,   65,  496, ...,    4, 3586,    2],\n",
              "       [  13,   18,   31, ...,   12,    9,   23],\n",
              "       [7585,    8, 2197, ...,  204,  131,    9]], dtype=int32)"
            ]
          },
          "metadata": {},
          "execution_count": 51
        }
      ]
    },
    {
      "cell_type": "code",
      "source": [
        "model=Sequential()\n",
        "model.add(Embedding(input_dim=10000,output_dim=2,input_length=50))\n",
        "model.add(SimpleRNN(32,return_sequences=False))\n",
        "model.add(Dense(1,activation='sigmoid'))\n",
        "model.summary()"
      ],
      "metadata": {
        "colab": {
          "base_uri": "https://localhost:8080/"
        },
        "id": "3s-IGDPI2_Ji",
        "outputId": "4f8c28c4-2ee6-448e-d3e0-938c2769f527"
      },
      "execution_count": 52,
      "outputs": [
        {
          "output_type": "stream",
          "name": "stdout",
          "text": [
            "Model: \"sequential_9\"\n",
            "_________________________________________________________________\n",
            " Layer (type)                Output Shape              Param #   \n",
            "=================================================================\n",
            " embedding_8 (Embedding)     (None, 50, 2)             20000     \n",
            "                                                                 \n",
            " simple_rnn_6 (SimpleRNN)    (None, 32)                1120      \n",
            "                                                                 \n",
            " dense_4 (Dense)             (None, 1)                 33        \n",
            "                                                                 \n",
            "=================================================================\n",
            "Total params: 21153 (82.63 KB)\n",
            "Trainable params: 21153 (82.63 KB)\n",
            "Non-trainable params: 0 (0.00 Byte)\n",
            "_________________________________________________________________\n"
          ]
        }
      ]
    },
    {
      "cell_type": "code",
      "source": [
        "model.compile(metrics=['accuracy'],optimizer='adam',loss='binary_crossentropy')"
      ],
      "metadata": {
        "id": "fyyId_pF3YQ5"
      },
      "execution_count": 53,
      "outputs": []
    },
    {
      "cell_type": "code",
      "source": [
        "model.fit(Xtr_pad,ytr,epochs=5,validation_data=(Xte_pad,yte),verbose=1)"
      ],
      "metadata": {
        "colab": {
          "base_uri": "https://localhost:8080/"
        },
        "id": "j2ZnBDk85Hya",
        "outputId": "44bb86b6-b1eb-4ea2-fe09-f35f9296bea9"
      },
      "execution_count": 54,
      "outputs": [
        {
          "output_type": "stream",
          "name": "stdout",
          "text": [
            "Epoch 1/5\n",
            "782/782 [==============================] - 19s 23ms/step - loss: 0.6314 - accuracy: 0.6076 - val_loss: 0.5283 - val_accuracy: 0.7472\n",
            "Epoch 2/5\n",
            "782/782 [==============================] - 14s 18ms/step - loss: 0.4144 - accuracy: 0.8163 - val_loss: 0.4584 - val_accuracy: 0.7939\n",
            "Epoch 3/5\n",
            "782/782 [==============================] - 14s 18ms/step - loss: 0.3308 - accuracy: 0.8614 - val_loss: 0.4378 - val_accuracy: 0.8087\n",
            "Epoch 4/5\n",
            "782/782 [==============================] - 16s 21ms/step - loss: 0.2856 - accuracy: 0.8861 - val_loss: 0.4429 - val_accuracy: 0.8031\n",
            "Epoch 5/5\n",
            "782/782 [==============================] - 16s 20ms/step - loss: 0.2509 - accuracy: 0.9028 - val_loss: 0.4853 - val_accuracy: 0.7985\n"
          ]
        },
        {
          "output_type": "execute_result",
          "data": {
            "text/plain": [
              "<keras.src.callbacks.History at 0x7e96b890bf40>"
            ]
          },
          "metadata": {},
          "execution_count": 54
        }
      ]
    },
    {
      "cell_type": "code",
      "source": [
        "Xte_pad[0][0:50].reshape(1,-1).shape"
      ],
      "metadata": {
        "colab": {
          "base_uri": "https://localhost:8080/"
        },
        "id": "aFQ4lgV66lB8",
        "outputId": "1ce8dbdc-dd78-4807-c4c5-bcdf7daf8249"
      },
      "execution_count": 58,
      "outputs": [
        {
          "output_type": "execute_result",
          "data": {
            "text/plain": [
              "(1, 50)"
            ]
          },
          "metadata": {},
          "execution_count": 58
        }
      ]
    },
    {
      "cell_type": "code",
      "source": [
        "model.predict(Xte_pad[0][0:50].reshape(1,-1))"
      ],
      "metadata": {
        "colab": {
          "base_uri": "https://localhost:8080/"
        },
        "id": "LvCIaxhf9e-C",
        "outputId": "230a8f8e-e63e-4682-f133-87bea310c1bf"
      },
      "execution_count": 59,
      "outputs": [
        {
          "output_type": "stream",
          "name": "stdout",
          "text": [
            "1/1 [==============================] - 0s 289ms/step\n"
          ]
        },
        {
          "output_type": "execute_result",
          "data": {
            "text/plain": [
              "array([[0.22734255]], dtype=float32)"
            ]
          },
          "metadata": {},
          "execution_count": 59
        }
      ]
    },
    {
      "cell_type": "code",
      "source": [],
      "metadata": {
        "id": "MFXlkrIM9tGB"
      },
      "execution_count": null,
      "outputs": []
    }
  ]
}